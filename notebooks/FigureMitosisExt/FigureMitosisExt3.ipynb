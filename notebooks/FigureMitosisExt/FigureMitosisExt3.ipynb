{
 "cells": [
  {
   "cell_type": "code",
   "execution_count": 1,
   "id": "62198de3",
   "metadata": {},
   "outputs": [],
   "source": [
    "# Convex hull illustration"
   ]
  },
  {
   "cell_type": "code",
   "execution_count": 2,
   "id": "80380f9a",
   "metadata": {},
   "outputs": [
    {
     "name": "stdout",
     "output_type": "stream",
     "text": [
      "/allen/aics/assay-dev/MicroscopyOtherData/Viana/projects/cvapipe_analysis/local_staging_notebooks/FigureMitosisExt\n",
      "Tue Apr 26 20:39:42 PDT 2022\n"
     ]
    }
   ],
   "source": [
    "!pwd\n",
    "!date"
   ]
  },
  {
   "cell_type": "code",
   "execution_count": 3,
   "id": "afbe00f8",
   "metadata": {},
   "outputs": [],
   "source": [
    "import os\n",
    "import sys\n",
    "import importlib\n",
    "import concurrent\n",
    "import numpy as np\n",
    "import pandas as pd\n",
    "from pathlib import Path\n",
    "from tqdm.notebook import tqdm\n",
    "from skimage import io as skio\n",
    "import matplotlib.pyplot as plt\n",
    "from aicscytoparam import cytoparam\n",
    "from aicsshparam import shtools, shparam\n",
    "from aicsimageio import AICSImage\n",
    "from aicsimageio.writers import OmeTiffWriter\n",
    "from cvapipe_analysis.tools import io, viz, general, controller, shapespace, plotting\n",
    "\n",
    "sys.path.insert(1, '../tools')\n",
    "import common"
   ]
  },
  {
   "cell_type": "code",
   "execution_count": 17,
   "id": "16cc2913",
   "metadata": {},
   "outputs": [
    {
     "name": "stdout",
     "output_type": "stream",
     "text": [
      "(216062, 46)\n"
     ]
    }
   ],
   "source": [
    "path_config = Path(\"/allen/aics/assay-dev/MicroscopyOtherData/Viana/projects/cvapipe_analysis/\")\n",
    "control = controller.Controller(general.load_config_file(path_config))\n",
    "device = io.LocalStagingIO(control)\n",
    "df_full = device.load_step_manifest(\"loaddata\")\n",
    "print(df_full.shape)"
   ]
  },
  {
   "cell_type": "code",
   "execution_count": 83,
   "id": "a58f0800",
   "metadata": {},
   "outputs": [],
   "source": [
    "for CellId in [581112, 593523]:\n",
    "    producer = io.DataProducer(control)\n",
    "    row = common.redirect(df_full.loc[CellId])\n",
    "    producer.set_row(row)\n",
    "    producer.load_single_cell_data()\n",
    "    for chname in [\"membrane_segmentation\", \"dna_segmentation\"]:\n",
    "        ch = producer.channels.index(chname)\n",
    "        img = producer.data[ch].astype(np.uint8)\n",
    "        skio.imsave(f\"{chname}_{CellId}.tif\", img)"
   ]
  },
  {
   "cell_type": "code",
   "execution_count": 86,
   "id": "00c84395",
   "metadata": {},
   "outputs": [
    {
     "name": "stdout",
     "output_type": "stream",
     "text": [
      "Complete 2022-04-27 13:45:02\n"
     ]
    }
   ],
   "source": [
    "common.now(\"Complete\")"
   ]
  },
  {
   "cell_type": "code",
   "execution_count": null,
   "id": "a1f5917b",
   "metadata": {},
   "outputs": [],
   "source": []
  }
 ],
 "metadata": {
  "kernelspec": {
   "display_name": "Python 3 (ipykernel)",
   "language": "python",
   "name": "python3"
  },
  "language_info": {
   "codemirror_mode": {
    "name": "ipython",
    "version": 3
   },
   "file_extension": ".py",
   "mimetype": "text/x-python",
   "name": "python",
   "nbconvert_exporter": "python",
   "pygments_lexer": "ipython3",
   "version": "3.8.12"
  }
 },
 "nbformat": 4,
 "nbformat_minor": 5
}
