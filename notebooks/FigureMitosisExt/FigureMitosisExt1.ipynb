{
 "cells": [
  {
   "cell_type": "code",
   "execution_count": 1,
   "id": "62198de3",
   "metadata": {},
   "outputs": [],
   "source": [
    "# Histograms for interphase vs. prophase"
   ]
  },
  {
   "cell_type": "code",
   "execution_count": 2,
   "id": "80380f9a",
   "metadata": {},
   "outputs": [
    {
     "name": "stdout",
     "output_type": "stream",
     "text": [
      "/allen/aics/assay-dev/MicroscopyOtherData/Viana/projects/cvapipe_analysis/local_staging_notebooks/FigureMitosisExt\n",
      "Wed Apr 27 16:08:43 PDT 2022\n"
     ]
    }
   ],
   "source": [
    "!pwd\n",
    "!date"
   ]
  },
  {
   "cell_type": "code",
   "execution_count": 4,
   "id": "afbe00f8",
   "metadata": {},
   "outputs": [],
   "source": [
    "import os\n",
    "import sys\n",
    "import importlib\n",
    "import concurrent\n",
    "import numpy as np\n",
    "import pandas as pd\n",
    "from pathlib import Path\n",
    "from tqdm.notebook import tqdm\n",
    "from skimage import io as skio\n",
    "import matplotlib.pyplot as plt\n",
    "from aicscytoparam import cytoparam\n",
    "from aicsshparam import shtools, shparam\n",
    "from aicsimageio import AICSImage\n",
    "from aicsimageio.writers import OmeTiffWriter\n",
    "from cvapipe_analysis.tools import io, viz, general, controller, shapespace, plotting\n",
    "\n",
    "sys.path.insert(1, '../tools')\n",
    "import common"
   ]
  },
  {
   "cell_type": "code",
   "execution_count": 5,
   "id": "0a8857c4",
   "metadata": {},
   "outputs": [
    {
     "name": "stdout",
     "output_type": "stream",
     "text": [
      "(202847, 1290) /allen/aics/assay-dev/MicroscopyOtherData/Viana/projects/cvapipe_analysis/local_staging_variance\n"
     ]
    }
   ],
   "source": [
    "# Controller form cvapipe_analysis\n",
    "path_config = Path(\"/allen/aics/assay-dev/MicroscopyOtherData/Viana/projects/cvapipe_analysis/\")\n",
    "control = controller.Controller(general.load_config_file(path_config))\n",
    "device = io.LocalStagingIO(control)\n",
    "df = device.load_step_manifest(\"preprocessing\")\n",
    "print(df.shape, control.get_staging())"
   ]
  },
  {
   "cell_type": "code",
   "execution_count": 6,
   "id": "60f993a5",
   "metadata": {},
   "outputs": [],
   "source": [
    "space = shapespace.ShapeSpace(control)\n",
    "space.execute(df)"
   ]
  },
  {
   "cell_type": "code",
   "execution_count": 7,
   "id": "27982e26",
   "metadata": {},
   "outputs": [],
   "source": [
    "path_cvapipe = Path(control.get_staging()).parent\n",
    "dsname = \"m1\"\n",
    "datasets = {\n",
    "    dsname: {\n",
    "        \"perturbed\": f\"{path_cvapipe}/local_staging_m1m2\"\n",
    "    }}"
   ]
  },
  {
   "cell_type": "code",
   "execution_count": 8,
   "id": "39fcfac8",
   "metadata": {},
   "outputs": [
    {
     "name": "stdout",
     "output_type": "stream",
     "text": [
      "\tm1 loaded. (2201, 1255)\n"
     ]
    }
   ],
   "source": [
    "smapper = shapespace.ShapeSpaceMapper(space, output_folder=\"./\")\n",
    "smapper.use_full_base_dataset()\n",
    "smapper.set_make_plots_off()\n",
    "smapper.set_distance_threshold(1e10)\n",
    "smapper.map(datasets)"
   ]
  },
  {
   "cell_type": "code",
   "execution_count": 12,
   "id": "a23ed089",
   "metadata": {},
   "outputs": [
    {
     "data": {
      "text/plain": [
       "<module 'cvapipe_analysis.tools.plotting' from '/allen/aics/assay-dev/MicroscopyOtherData/Viana/projects/cvapipe_analysis/cvapipe_analysis/tools/plotting.py'>"
      ]
     },
     "execution_count": 12,
     "metadata": {},
     "output_type": "execute_result"
    }
   ],
   "source": [
    "importlib.reload(plotting)"
   ]
  },
  {
   "cell_type": "code",
   "execution_count": 21,
   "id": "94e46be5",
   "metadata": {},
   "outputs": [
    {
     "data": {
      "image/png": "[encoded data removed]",
      "text/plain": [
       "<Figure size 864x108 with 8 Axes>"
      ]
     },
     "metadata": {
      "needs_background": "light"
     },
     "output_type": "display_data"
    },
    {
     "data": {
      "image/png": "[encoded data removed]",
      "text/plain": [
       "<Figure size 864x108 with 8 Axes>"
      ]
     },
     "metadata": {
      "needs_background": "light"
     },
     "output_type": "display_data"
    }
   ],
   "source": [
    "pmaker = plotting.ShapeSpaceMapperPlotMaker(control, \"./\")\n",
    "pmaker.set_dataframe(smapper.result)\n",
    "pmaker.plot_mapping_1d(display_both=False, ymax=1.5)"
   ]
  },
  {
   "cell_type": "code",
   "execution_count": 22,
   "id": "91389f07",
   "metadata": {},
   "outputs": [],
   "source": [
    "for (fig, _), name in zip(pmaker.figs, [\"hists\", \"hists_matched\"]):\n",
    "    fig.savefig(f\"{name}-{dsname}.pdf\")"
   ]
  },
  {
   "cell_type": "markdown",
   "id": "168d4904",
   "metadata": {},
   "source": [
    "### Reconstruct shapes of individual and matched datasets"
   ]
  },
  {
   "cell_type": "code",
   "execution_count": null,
   "id": "e6beb370",
   "metadata": {},
   "outputs": [],
   "source": [
    "# These variables should match between control and perturbed dataset\n",
    "nisos = control.get_number_of_interpolating_points()\n",
    "inner_alias = control.get_inner_most_alias_to_parameterize()\n",
    "outer_alias = control.get_outer_most_alias_to_parameterize()"
   ]
  },
  {
   "cell_type": "code",
   "execution_count": null,
   "id": "593be240",
   "metadata": {},
   "outputs": [],
   "source": [
    "path_step = Path(datasets[dsname][\"perturbed\"]) / \"shapemode\"\n",
    "config_pt = general.load_config_file(path_step, fname=\"parameters.yaml\")\n",
    "control_pt = controller.Controller(config_pt)\n",
    "device_pt = io.LocalStagingIO(control_pt)"
   ]
  },
  {
   "cell_type": "code",
   "execution_count": null,
   "id": "f98aeb55",
   "metadata": {},
   "outputs": [],
   "source": [
    "meshes = {\"ct\": {}, \"pt\": {}, \"mt\": {}}\n",
    "meshes[\"ct\"][\"inner\"] = device.read_mean_shape_mesh(inner_alias)\n",
    "meshes[\"ct\"][\"outer\"] = device.read_mean_shape_mesh(outer_alias)\n",
    "meshes[\"pt\"][\"inner\"] = device_pt.read_mean_shape_mesh(inner_alias)\n",
    "meshes[\"pt\"][\"outer\"] = device_pt.read_mean_shape_mesh(outer_alias)\n",
    "meshes[\"mt\"][\"inner\"] = device.read_vtk_polydata(f\"./avgshape/{dsname}_{inner_alias}_matched.vtk\")\n",
    "meshes[\"mt\"][\"outer\"] = device.read_vtk_polydata(f\"./avgshape/{dsname}_{outer_alias}_matched.vtk\")"
   ]
  },
  {
   "cell_type": "code",
   "execution_count": null,
   "id": "ebd0149b",
   "metadata": {},
   "outputs": [],
   "source": [
    "instances = []\n",
    "for _, mesh in meshes.items():\n",
    "    domain, _ = cytoparam.voxelize_meshes([mesh[\"outer\"], mesh[\"inner\"]])    \n",
    "    domain = np.pad(domain, ((5,5),(5,5),(5,5)))\n",
    "    domain_nuc = (255*(domain>1)).astype(np.uint8)\n",
    "    domain_mem = (255*(domain>0)).astype(np.uint8)\n",
    "    instances.append(np.stack([domain_nuc, domain_mem, domain_mem], axis=0))"
   ]
  },
  {
   "cell_type": "code",
   "execution_count": null,
   "id": "07f926fa",
   "metadata": {},
   "outputs": [],
   "source": [
    "mode = {\n",
    "    \"nuc\": \"center_nuc\",\n",
    "    \"mem\": \"center_nuc\",\n",
    "    \"gfp\": \"center_nuc\"\n",
    "}\n",
    "importlib.reload(common)\n",
    "args = {\"gridspec_kw\": {\"hspace\": 0, \"wspace\": -0.1}, \"sharex\": True, \"sharey\": True}\n",
    "for orient in [\"z\", \"y\", \"x\"]:\n",
    "    for alias in [\"nuc\", \"mem\"]:\n",
    "        fig, axs = plt.subplots(1,len(instances), figsize=(2*len(instances), 2), **args)\n",
    "        for ax, instance in zip(axs, instances):\n",
    "            ax.axis(\"off\")\n",
    "            proj = common.Projector(instance, box_size=300)\n",
    "            proj.set_projection_mode(ax=orient, mode=mode)\n",
    "            proj.project_on(alias=alias, ax=ax, scale_bar={\"pixel_size\":0.108, \"length\":5})\n",
    "        plt.savefig(f\"FigureMitosis1_shapes_{dsname}_{alias}_{orient}.png\", dpi=150)\n",
    "        plt.show()"
   ]
  },
  {
   "cell_type": "code",
   "execution_count": null,
   "id": "b66678d1",
   "metadata": {},
   "outputs": [],
   "source": [
    "common.now(\"complete\")"
   ]
  },
  {
   "cell_type": "code",
   "execution_count": null,
   "id": "6ef1e8a8",
   "metadata": {},
   "outputs": [],
   "source": []
  }
 ],
 "metadata": {
  "kernelspec": {
   "display_name": "Python 3 (ipykernel)",
   "language": "python",
   "name": "python3"
  },
  "language_info": {
   "codemirror_mode": {
    "name": "ipython",
    "version": 3
   },
   "file_extension": ".py",
   "mimetype": "text/x-python",
   "name": "python",
   "nbconvert_exporter": "python",
   "pygments_lexer": "ipython3",
   "version": "3.8.12"
  }
 },
 "nbformat": 4,
 "nbformat_minor": 5
}
