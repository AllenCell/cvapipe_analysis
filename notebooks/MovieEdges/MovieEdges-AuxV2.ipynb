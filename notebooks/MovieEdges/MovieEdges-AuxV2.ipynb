{
 "cells": [
  {
   "cell_type": "code",
   "execution_count": 1,
   "id": "987615bd",
   "metadata": {},
   "outputs": [],
   "source": [
    "# Generate stacks for picking examples of non-edge and edge cells based on LDA axis"
   ]
  },
  {
   "cell_type": "code",
   "execution_count": 2,
   "id": "696163b2",
   "metadata": {},
   "outputs": [
    {
     "name": "stdout",
     "output_type": "stream",
     "text": [
      "/allen/aics/assay-dev/MicroscopyOtherData/Viana/projects/cvapipe_analysis/local_staging_notebooks/MovieEdges\n",
      "Mon May 30 20:34:09 PDT 2022\n"
     ]
    }
   ],
   "source": [
    "!pwd\n",
    "!date"
   ]
  },
  {
   "cell_type": "code",
   "execution_count": 3,
   "id": "26627787",
   "metadata": {},
   "outputs": [
    {
     "ename": "KeyboardInterrupt",
     "evalue": "",
     "output_type": "error",
     "traceback": [
      "\u001b[0;31m---------------------------------------------------------------------------\u001b[0m",
      "\u001b[0;31mKeyboardInterrupt\u001b[0m                         Traceback (most recent call last)",
      "\u001b[0;32m/tmp/ipykernel_5085/1543274593.py\u001b[0m in \u001b[0;36m<module>\u001b[0;34m\u001b[0m\n\u001b[1;32m     10\u001b[0m \u001b[0;32mfrom\u001b[0m \u001b[0mskimage\u001b[0m \u001b[0;32mimport\u001b[0m \u001b[0mio\u001b[0m \u001b[0;32mas\u001b[0m \u001b[0mskio\u001b[0m\u001b[0;34m\u001b[0m\u001b[0;34m\u001b[0m\u001b[0m\n\u001b[1;32m     11\u001b[0m \u001b[0;32mimport\u001b[0m \u001b[0mmatplotlib\u001b[0m\u001b[0;34m.\u001b[0m\u001b[0mpyplot\u001b[0m \u001b[0;32mas\u001b[0m \u001b[0mplt\u001b[0m\u001b[0;34m\u001b[0m\u001b[0;34m\u001b[0m\u001b[0m\n\u001b[0;32m---> 12\u001b[0;31m \u001b[0;32mfrom\u001b[0m \u001b[0maicscytoparam\u001b[0m \u001b[0;32mimport\u001b[0m \u001b[0mcytoparam\u001b[0m\u001b[0;34m\u001b[0m\u001b[0;34m\u001b[0m\u001b[0m\n\u001b[0m\u001b[1;32m     13\u001b[0m \u001b[0;32mfrom\u001b[0m \u001b[0msklearn\u001b[0m\u001b[0;34m.\u001b[0m\u001b[0mdecomposition\u001b[0m \u001b[0;32mimport\u001b[0m \u001b[0mPCA\u001b[0m\u001b[0;34m\u001b[0m\u001b[0;34m\u001b[0m\u001b[0m\n\u001b[1;32m     14\u001b[0m \u001b[0;32mfrom\u001b[0m \u001b[0maicsshparam\u001b[0m \u001b[0;32mimport\u001b[0m \u001b[0mshtools\u001b[0m\u001b[0;34m,\u001b[0m \u001b[0mshparam\u001b[0m\u001b[0;34m\u001b[0m\u001b[0;34m\u001b[0m\u001b[0m\n",
      "\u001b[0;32m/allen/aics/assay-dev/MicroscopyOtherData/Viana/projects/aics-cytoparam/aicscytoparam/cytoparam.py\u001b[0m in \u001b[0;36m<module>\u001b[0;34m\u001b[0m\n\u001b[1;32m      3\u001b[0m \u001b[0;32mimport\u001b[0m \u001b[0mnumpy\u001b[0m \u001b[0;32mas\u001b[0m \u001b[0mnp\u001b[0m\u001b[0;34m\u001b[0m\u001b[0;34m\u001b[0m\u001b[0m\n\u001b[1;32m      4\u001b[0m \u001b[0;32mfrom\u001b[0m \u001b[0maicsimageio\u001b[0m \u001b[0;32mimport\u001b[0m \u001b[0mAICSImage\u001b[0m\u001b[0;34m\u001b[0m\u001b[0;34m\u001b[0m\u001b[0m\n\u001b[0;32m----> 5\u001b[0;31m \u001b[0;32mfrom\u001b[0m \u001b[0maicsshparam\u001b[0m \u001b[0;32mimport\u001b[0m \u001b[0mshparam\u001b[0m\u001b[0;34m,\u001b[0m \u001b[0mshtools\u001b[0m\u001b[0;34m\u001b[0m\u001b[0;34m\u001b[0m\u001b[0m\n\u001b[0m\u001b[1;32m      6\u001b[0m \u001b[0;32mfrom\u001b[0m \u001b[0mscipy\u001b[0m \u001b[0;32mimport\u001b[0m \u001b[0minterpolate\u001b[0m \u001b[0;32mas\u001b[0m \u001b[0mspinterp\u001b[0m\u001b[0;34m\u001b[0m\u001b[0;34m\u001b[0m\u001b[0m\n\u001b[1;32m      7\u001b[0m \u001b[0;32mfrom\u001b[0m \u001b[0mtyping\u001b[0m \u001b[0;32mimport\u001b[0m \u001b[0mOptional\u001b[0m\u001b[0;34m,\u001b[0m \u001b[0mList\u001b[0m\u001b[0;34m,\u001b[0m \u001b[0mDict\u001b[0m\u001b[0;34m,\u001b[0m \u001b[0mTuple\u001b[0m\u001b[0;34m\u001b[0m\u001b[0;34m\u001b[0m\u001b[0m\n",
      "\u001b[0;32m~/anaconda3/envs/lab-variance/lib/python3.8/site-packages/aicsshparam/shparam.py\u001b[0m in \u001b[0;36m<module>\u001b[0;34m\u001b[0m\n\u001b[1;32m      3\u001b[0m \u001b[0;32mimport\u001b[0m \u001b[0mnumpy\u001b[0m \u001b[0;32mas\u001b[0m \u001b[0mnp\u001b[0m\u001b[0;34m\u001b[0m\u001b[0;34m\u001b[0m\u001b[0m\n\u001b[1;32m      4\u001b[0m \u001b[0;32mfrom\u001b[0m \u001b[0mvtk\u001b[0m\u001b[0;34m.\u001b[0m\u001b[0mutil\u001b[0m \u001b[0;32mimport\u001b[0m \u001b[0mnumpy_support\u001b[0m\u001b[0;34m\u001b[0m\u001b[0;34m\u001b[0m\u001b[0m\n\u001b[0;32m----> 5\u001b[0;31m \u001b[0;32mfrom\u001b[0m \u001b[0mskimage\u001b[0m \u001b[0;32mimport\u001b[0m \u001b[0mtransform\u001b[0m \u001b[0;32mas\u001b[0m \u001b[0msktrans\u001b[0m\u001b[0;34m\u001b[0m\u001b[0;34m\u001b[0m\u001b[0m\n\u001b[0m\u001b[1;32m      6\u001b[0m \u001b[0;32mfrom\u001b[0m \u001b[0mscipy\u001b[0m \u001b[0;32mimport\u001b[0m \u001b[0minterpolate\u001b[0m \u001b[0;32mas\u001b[0m \u001b[0mspinterp\u001b[0m\u001b[0;34m\u001b[0m\u001b[0;34m\u001b[0m\u001b[0m\n\u001b[1;32m      7\u001b[0m \u001b[0;34m\u001b[0m\u001b[0m\n",
      "\u001b[0;32m~/anaconda3/envs/lab-variance/lib/python3.8/importlib/_bootstrap.py\u001b[0m in \u001b[0;36m_handle_fromlist\u001b[0;34m(module, fromlist, import_, recursive)\u001b[0m\n",
      "\u001b[0;32m~/anaconda3/envs/lab-variance/lib/python3.8/site-packages/skimage/_shared/lazy.py\u001b[0m in \u001b[0;36m__getattr__\u001b[0;34m(name)\u001b[0m\n\u001b[1;32m     60\u001b[0m     \u001b[0;32mdef\u001b[0m \u001b[0m__getattr__\u001b[0m\u001b[0;34m(\u001b[0m\u001b[0mname\u001b[0m\u001b[0;34m)\u001b[0m\u001b[0;34m:\u001b[0m\u001b[0;34m\u001b[0m\u001b[0;34m\u001b[0m\u001b[0m\n\u001b[1;32m     61\u001b[0m         \u001b[0;32mif\u001b[0m \u001b[0mname\u001b[0m \u001b[0;32min\u001b[0m \u001b[0msubmodules\u001b[0m\u001b[0;34m:\u001b[0m\u001b[0;34m\u001b[0m\u001b[0;34m\u001b[0m\u001b[0m\n\u001b[0;32m---> 62\u001b[0;31m             \u001b[0;32mreturn\u001b[0m \u001b[0mimportlib\u001b[0m\u001b[0;34m.\u001b[0m\u001b[0mimport_module\u001b[0m\u001b[0;34m(\u001b[0m\u001b[0;34mf'{package_name}.{name}'\u001b[0m\u001b[0;34m)\u001b[0m\u001b[0;34m\u001b[0m\u001b[0;34m\u001b[0m\u001b[0m\n\u001b[0m\u001b[1;32m     63\u001b[0m         \u001b[0;32melif\u001b[0m \u001b[0mname\u001b[0m \u001b[0;32min\u001b[0m \u001b[0mattr_to_modules\u001b[0m\u001b[0;34m:\u001b[0m\u001b[0;34m\u001b[0m\u001b[0;34m\u001b[0m\u001b[0m\n\u001b[1;32m     64\u001b[0m             submod = importlib.import_module(\n",
      "\u001b[0;32m~/anaconda3/envs/lab-variance/lib/python3.8/importlib/__init__.py\u001b[0m in \u001b[0;36mimport_module\u001b[0;34m(name, package)\u001b[0m\n\u001b[1;32m    125\u001b[0m                 \u001b[0;32mbreak\u001b[0m\u001b[0;34m\u001b[0m\u001b[0;34m\u001b[0m\u001b[0m\n\u001b[1;32m    126\u001b[0m             \u001b[0mlevel\u001b[0m \u001b[0;34m+=\u001b[0m \u001b[0;36m1\u001b[0m\u001b[0;34m\u001b[0m\u001b[0;34m\u001b[0m\u001b[0m\n\u001b[0;32m--> 127\u001b[0;31m     \u001b[0;32mreturn\u001b[0m \u001b[0m_bootstrap\u001b[0m\u001b[0;34m.\u001b[0m\u001b[0m_gcd_import\u001b[0m\u001b[0;34m(\u001b[0m\u001b[0mname\u001b[0m\u001b[0;34m[\u001b[0m\u001b[0mlevel\u001b[0m\u001b[0;34m:\u001b[0m\u001b[0;34m]\u001b[0m\u001b[0;34m,\u001b[0m \u001b[0mpackage\u001b[0m\u001b[0;34m,\u001b[0m \u001b[0mlevel\u001b[0m\u001b[0;34m)\u001b[0m\u001b[0;34m\u001b[0m\u001b[0;34m\u001b[0m\u001b[0m\n\u001b[0m\u001b[1;32m    128\u001b[0m \u001b[0;34m\u001b[0m\u001b[0m\n\u001b[1;32m    129\u001b[0m \u001b[0;34m\u001b[0m\u001b[0m\n",
      "\u001b[0;32m~/anaconda3/envs/lab-variance/lib/python3.8/site-packages/skimage/transform/__init__.py\u001b[0m in \u001b[0;36m<module>\u001b[0;34m\u001b[0m\n\u001b[1;32m      2\u001b[0m                               \u001b[0mprobabilistic_hough_line\u001b[0m\u001b[0;34m,\u001b[0m \u001b[0mhough_circle\u001b[0m\u001b[0;34m,\u001b[0m\u001b[0;34m\u001b[0m\u001b[0;34m\u001b[0m\u001b[0m\n\u001b[1;32m      3\u001b[0m                               hough_circle_peaks, hough_ellipse)\n\u001b[0;32m----> 4\u001b[0;31m from .radon_transform import (radon, iradon, iradon_sart,\n\u001b[0m\u001b[1;32m      5\u001b[0m                               order_angles_golden_ratio)\n\u001b[1;32m      6\u001b[0m \u001b[0;32mfrom\u001b[0m \u001b[0;34m.\u001b[0m\u001b[0mfinite_radon_transform\u001b[0m \u001b[0;32mimport\u001b[0m \u001b[0mfrt2\u001b[0m\u001b[0;34m,\u001b[0m \u001b[0mifrt2\u001b[0m\u001b[0;34m\u001b[0m\u001b[0;34m\u001b[0m\u001b[0m\n",
      "\u001b[0;32m~/anaconda3/envs/lab-variance/lib/python3.8/site-packages/skimage/transform/radon_transform.py\u001b[0m in \u001b[0;36m<module>\u001b[0;34m\u001b[0m\n\u001b[1;32m      4\u001b[0m \u001b[0;32mfrom\u001b[0m \u001b[0mscipy\u001b[0m\u001b[0;34m.\u001b[0m\u001b[0mconstants\u001b[0m \u001b[0;32mimport\u001b[0m \u001b[0mgolden_ratio\u001b[0m\u001b[0;34m\u001b[0m\u001b[0;34m\u001b[0m\u001b[0m\n\u001b[1;32m      5\u001b[0m \u001b[0;32mfrom\u001b[0m \u001b[0mscipy\u001b[0m\u001b[0;34m.\u001b[0m\u001b[0mfft\u001b[0m \u001b[0;32mimport\u001b[0m \u001b[0mfft\u001b[0m\u001b[0;34m,\u001b[0m \u001b[0mifft\u001b[0m\u001b[0;34m,\u001b[0m \u001b[0mfftfreq\u001b[0m\u001b[0;34m,\u001b[0m \u001b[0mfftshift\u001b[0m\u001b[0;34m\u001b[0m\u001b[0;34m\u001b[0m\u001b[0m\n\u001b[0;32m----> 6\u001b[0;31m \u001b[0;32mfrom\u001b[0m \u001b[0;34m.\u001b[0m\u001b[0m_warps\u001b[0m \u001b[0;32mimport\u001b[0m \u001b[0mwarp\u001b[0m\u001b[0;34m\u001b[0m\u001b[0;34m\u001b[0m\u001b[0m\n\u001b[0m\u001b[1;32m      7\u001b[0m \u001b[0;32mfrom\u001b[0m \u001b[0;34m.\u001b[0m\u001b[0m_radon_transform\u001b[0m \u001b[0;32mimport\u001b[0m \u001b[0msart_projection_update\u001b[0m\u001b[0;34m\u001b[0m\u001b[0;34m\u001b[0m\u001b[0m\n\u001b[1;32m      8\u001b[0m \u001b[0;32mfrom\u001b[0m \u001b[0;34m.\u001b[0m\u001b[0;34m.\u001b[0m\u001b[0m_shared\u001b[0m\u001b[0;34m.\u001b[0m\u001b[0mutils\u001b[0m \u001b[0;32mimport\u001b[0m \u001b[0mconvert_to_float\u001b[0m\u001b[0;34m\u001b[0m\u001b[0;34m\u001b[0m\u001b[0m\n",
      "\u001b[0;32m~/anaconda3/envs/lab-variance/lib/python3.8/site-packages/skimage/transform/_warps.py\u001b[0m in \u001b[0;36m<module>\u001b[0;34m\u001b[0m\n\u001b[1;32m      7\u001b[0m                          ProjectiveTransform)\n\u001b[1;32m      8\u001b[0m \u001b[0;32mfrom\u001b[0m \u001b[0;34m.\u001b[0m\u001b[0m_warps_cy\u001b[0m \u001b[0;32mimport\u001b[0m \u001b[0m_warp_fast\u001b[0m\u001b[0;34m\u001b[0m\u001b[0;34m\u001b[0m\u001b[0m\n\u001b[0;32m----> 9\u001b[0;31m \u001b[0;32mfrom\u001b[0m \u001b[0;34m.\u001b[0m\u001b[0;34m.\u001b[0m\u001b[0mmeasure\u001b[0m \u001b[0;32mimport\u001b[0m \u001b[0mblock_reduce\u001b[0m\u001b[0;34m\u001b[0m\u001b[0;34m\u001b[0m\u001b[0m\n\u001b[0m\u001b[1;32m     10\u001b[0m \u001b[0;34m\u001b[0m\u001b[0m\n\u001b[1;32m     11\u001b[0m from .._shared.utils import (get_bound_method_class, safe_as_int, warn,\n",
      "\u001b[0;32m~/anaconda3/envs/lab-variance/lib/python3.8/site-packages/skimage/measure/__init__.py\u001b[0m in \u001b[0;36m<module>\u001b[0;34m\u001b[0m\n\u001b[1;32m      4\u001b[0m from ._regionprops import (regionprops, perimeter,\n\u001b[1;32m      5\u001b[0m                            perimeter_crofton, euler_number, regionprops_table)\n\u001b[0;32m----> 6\u001b[0;31m \u001b[0;32mfrom\u001b[0m \u001b[0;34m.\u001b[0m\u001b[0m_polygon\u001b[0m \u001b[0;32mimport\u001b[0m \u001b[0mapproximate_polygon\u001b[0m\u001b[0;34m,\u001b[0m \u001b[0msubdivide_polygon\u001b[0m\u001b[0;34m\u001b[0m\u001b[0;34m\u001b[0m\u001b[0m\n\u001b[0m\u001b[1;32m      7\u001b[0m \u001b[0;32mfrom\u001b[0m \u001b[0;34m.\u001b[0m\u001b[0mpnpoly\u001b[0m \u001b[0;32mimport\u001b[0m \u001b[0mpoints_in_poly\u001b[0m\u001b[0;34m,\u001b[0m \u001b[0mgrid_points_in_poly\u001b[0m\u001b[0;34m\u001b[0m\u001b[0;34m\u001b[0m\u001b[0m\n\u001b[1;32m      8\u001b[0m from ._moments import (moments, moments_central, moments_coords,\n",
      "\u001b[0;32m~/anaconda3/envs/lab-variance/lib/python3.8/site-packages/skimage/measure/_polygon.py\u001b[0m in \u001b[0;36m<module>\u001b[0;34m\u001b[0m\n\u001b[1;32m      1\u001b[0m \u001b[0;32mimport\u001b[0m \u001b[0mnumpy\u001b[0m \u001b[0;32mas\u001b[0m \u001b[0mnp\u001b[0m\u001b[0;34m\u001b[0m\u001b[0;34m\u001b[0m\u001b[0m\n\u001b[0;32m----> 2\u001b[0;31m \u001b[0;32mfrom\u001b[0m \u001b[0mscipy\u001b[0m \u001b[0;32mimport\u001b[0m \u001b[0msignal\u001b[0m\u001b[0;34m\u001b[0m\u001b[0;34m\u001b[0m\u001b[0m\n\u001b[0m\u001b[1;32m      3\u001b[0m \u001b[0;34m\u001b[0m\u001b[0m\n\u001b[1;32m      4\u001b[0m \u001b[0;34m\u001b[0m\u001b[0m\n\u001b[1;32m      5\u001b[0m \u001b[0;32mdef\u001b[0m \u001b[0mapproximate_polygon\u001b[0m\u001b[0;34m(\u001b[0m\u001b[0mcoords\u001b[0m\u001b[0;34m,\u001b[0m \u001b[0mtolerance\u001b[0m\u001b[0;34m)\u001b[0m\u001b[0;34m:\u001b[0m\u001b[0;34m\u001b[0m\u001b[0;34m\u001b[0m\u001b[0m\n",
      "\u001b[0;32m~/anaconda3/envs/lab-variance/lib/python3.8/site-packages/scipy/signal/__init__.py\u001b[0m in \u001b[0;36m<module>\u001b[0;34m\u001b[0m\n\u001b[1;32m    308\u001b[0m \u001b[0;32mfrom\u001b[0m \u001b[0;34m.\u001b[0m\u001b[0mspectral\u001b[0m \u001b[0;32mimport\u001b[0m \u001b[0;34m*\u001b[0m\u001b[0;34m\u001b[0m\u001b[0;34m\u001b[0m\u001b[0m\n\u001b[1;32m    309\u001b[0m \u001b[0;32mfrom\u001b[0m \u001b[0;34m.\u001b[0m\u001b[0mwavelets\u001b[0m \u001b[0;32mimport\u001b[0m \u001b[0;34m*\u001b[0m\u001b[0;34m\u001b[0m\u001b[0;34m\u001b[0m\u001b[0m\n\u001b[0;32m--> 310\u001b[0;31m \u001b[0;32mfrom\u001b[0m \u001b[0;34m.\u001b[0m\u001b[0m_peak_finding\u001b[0m \u001b[0;32mimport\u001b[0m \u001b[0;34m*\u001b[0m\u001b[0;34m\u001b[0m\u001b[0;34m\u001b[0m\u001b[0m\n\u001b[0m\u001b[1;32m    311\u001b[0m \u001b[0;32mfrom\u001b[0m \u001b[0;34m.\u001b[0m\u001b[0mwindows\u001b[0m \u001b[0;32mimport\u001b[0m \u001b[0mget_window\u001b[0m  \u001b[0;31m# keep this one in signal namespace\u001b[0m\u001b[0;34m\u001b[0m\u001b[0;34m\u001b[0m\u001b[0m\n\u001b[1;32m    312\u001b[0m \u001b[0;34m\u001b[0m\u001b[0m\n",
      "\u001b[0;32m~/anaconda3/envs/lab-variance/lib/python3.8/site-packages/scipy/signal/_peak_finding.py\u001b[0m in \u001b[0;36m<module>\u001b[0;34m\u001b[0m\n\u001b[1;32m      6\u001b[0m \u001b[0;34m\u001b[0m\u001b[0m\n\u001b[1;32m      7\u001b[0m \u001b[0;32mfrom\u001b[0m \u001b[0mscipy\u001b[0m\u001b[0;34m.\u001b[0m\u001b[0msignal\u001b[0m\u001b[0;34m.\u001b[0m\u001b[0mwavelets\u001b[0m \u001b[0;32mimport\u001b[0m \u001b[0mcwt\u001b[0m\u001b[0;34m,\u001b[0m \u001b[0mricker\u001b[0m\u001b[0;34m\u001b[0m\u001b[0;34m\u001b[0m\u001b[0m\n\u001b[0;32m----> 8\u001b[0;31m \u001b[0;32mfrom\u001b[0m \u001b[0mscipy\u001b[0m\u001b[0;34m.\u001b[0m\u001b[0mstats\u001b[0m \u001b[0;32mimport\u001b[0m \u001b[0mscoreatpercentile\u001b[0m\u001b[0;34m\u001b[0m\u001b[0;34m\u001b[0m\u001b[0m\n\u001b[0m\u001b[1;32m      9\u001b[0m \u001b[0;34m\u001b[0m\u001b[0m\n\u001b[1;32m     10\u001b[0m from ._peak_finding_utils import (\n",
      "\u001b[0;32m~/anaconda3/envs/lab-variance/lib/python3.8/site-packages/scipy/stats/__init__.py\u001b[0m in \u001b[0;36m<module>\u001b[0;34m\u001b[0m\n\u001b[1;32m    439\u001b[0m \"\"\"\n\u001b[1;32m    440\u001b[0m \u001b[0;34m\u001b[0m\u001b[0m\n\u001b[0;32m--> 441\u001b[0;31m \u001b[0;32mfrom\u001b[0m \u001b[0;34m.\u001b[0m\u001b[0mstats\u001b[0m \u001b[0;32mimport\u001b[0m \u001b[0;34m*\u001b[0m\u001b[0;34m\u001b[0m\u001b[0;34m\u001b[0m\u001b[0m\n\u001b[0m\u001b[1;32m    442\u001b[0m \u001b[0;32mfrom\u001b[0m \u001b[0;34m.\u001b[0m\u001b[0mdistributions\u001b[0m \u001b[0;32mimport\u001b[0m \u001b[0;34m*\u001b[0m\u001b[0;34m\u001b[0m\u001b[0;34m\u001b[0m\u001b[0m\n\u001b[1;32m    443\u001b[0m \u001b[0;32mfrom\u001b[0m \u001b[0;34m.\u001b[0m\u001b[0mmorestats\u001b[0m \u001b[0;32mimport\u001b[0m \u001b[0;34m*\u001b[0m\u001b[0;34m\u001b[0m\u001b[0;34m\u001b[0m\u001b[0m\n",
      "\u001b[0;32m~/anaconda3/envs/lab-variance/lib/python3.8/site-packages/scipy/stats/stats.py\u001b[0m in \u001b[0;36m<module>\u001b[0;34m\u001b[0m\n\u001b[1;32m     42\u001b[0m \u001b[0;32mfrom\u001b[0m \u001b[0mscipy\u001b[0m \u001b[0;32mimport\u001b[0m \u001b[0mlinalg\u001b[0m\u001b[0;34m\u001b[0m\u001b[0;34m\u001b[0m\u001b[0m\n\u001b[1;32m     43\u001b[0m \u001b[0;32mfrom\u001b[0m \u001b[0;34m.\u001b[0m \u001b[0;32mimport\u001b[0m \u001b[0mdistributions\u001b[0m\u001b[0;34m\u001b[0m\u001b[0;34m\u001b[0m\u001b[0m\n\u001b[0;32m---> 44\u001b[0;31m \u001b[0;32mfrom\u001b[0m \u001b[0;34m.\u001b[0m \u001b[0;32mimport\u001b[0m \u001b[0mmstats_basic\u001b[0m\u001b[0;34m\u001b[0m\u001b[0;34m\u001b[0m\u001b[0m\n\u001b[0m\u001b[1;32m     45\u001b[0m from ._stats_mstats_common import (_find_repeats, linregress, theilslopes,\n\u001b[1;32m     46\u001b[0m                                    siegelslopes)\n",
      "\u001b[0;32m~/anaconda3/envs/lab-variance/lib/python3.8/site-packages/scipy/stats/mstats_basic.py\u001b[0m in \u001b[0;36m<module>\u001b[0;34m\u001b[0m\n\u001b[1;32m   2414\u001b[0m \u001b[0;34m\u001b[0m\u001b[0m\n\u001b[1;32m   2415\u001b[0m \u001b[0;34m\u001b[0m\u001b[0m\n\u001b[0;32m-> 2416\u001b[0;31m DescribeResult = namedtuple('DescribeResult', ('nobs', 'minmax', 'mean',\n\u001b[0m\u001b[1;32m   2417\u001b[0m                                                \u001b[0;34m'variance'\u001b[0m\u001b[0;34m,\u001b[0m \u001b[0;34m'skewness'\u001b[0m\u001b[0;34m,\u001b[0m\u001b[0;34m\u001b[0m\u001b[0;34m\u001b[0m\u001b[0m\n\u001b[1;32m   2418\u001b[0m                                                'kurtosis'))\n",
      "\u001b[0;32m~/anaconda3/envs/lab-variance/lib/python3.8/collections/__init__.py\u001b[0m in \u001b[0;36mnamedtuple\u001b[0;34m(typename, field_names, rename, defaults, module)\u001b[0m\n\u001b[1;32m    392\u001b[0m     \u001b[0mnamespace\u001b[0m \u001b[0;34m=\u001b[0m \u001b[0;34m{\u001b[0m\u001b[0;34m'_tuple_new'\u001b[0m\u001b[0;34m:\u001b[0m \u001b[0mtuple_new\u001b[0m\u001b[0;34m,\u001b[0m \u001b[0;34m'__name__'\u001b[0m\u001b[0;34m:\u001b[0m \u001b[0;34mf'namedtuple_{typename}'\u001b[0m\u001b[0;34m}\u001b[0m\u001b[0;34m\u001b[0m\u001b[0;34m\u001b[0m\u001b[0m\n\u001b[1;32m    393\u001b[0m     \u001b[0;31m# Note: exec() has the side-effect of interning the field names\u001b[0m\u001b[0;34m\u001b[0m\u001b[0;34m\u001b[0m\u001b[0;34m\u001b[0m\u001b[0m\n\u001b[0;32m--> 394\u001b[0;31m     \u001b[0mexec\u001b[0m\u001b[0;34m(\u001b[0m\u001b[0ms\u001b[0m\u001b[0;34m,\u001b[0m \u001b[0mnamespace\u001b[0m\u001b[0;34m)\u001b[0m\u001b[0;34m\u001b[0m\u001b[0;34m\u001b[0m\u001b[0m\n\u001b[0m\u001b[1;32m    395\u001b[0m     \u001b[0m__new__\u001b[0m \u001b[0;34m=\u001b[0m \u001b[0mnamespace\u001b[0m\u001b[0;34m[\u001b[0m\u001b[0;34m'__new__'\u001b[0m\u001b[0;34m]\u001b[0m\u001b[0;34m\u001b[0m\u001b[0;34m\u001b[0m\u001b[0m\n\u001b[1;32m    396\u001b[0m     \u001b[0m__new__\u001b[0m\u001b[0;34m.\u001b[0m\u001b[0m__doc__\u001b[0m \u001b[0;34m=\u001b[0m \u001b[0;34mf'Create new instance of {typename}({arg_list})'\u001b[0m\u001b[0;34m\u001b[0m\u001b[0;34m\u001b[0m\u001b[0m\n",
      "\u001b[0;32m<string>\u001b[0m in \u001b[0;36m<module>\u001b[0;34m\u001b[0m\n",
      "\u001b[0;31mKeyboardInterrupt\u001b[0m: "
     ]
    }
   ],
   "source": [
    "import os\n",
    "import sys\n",
    "import pickle\n",
    "import importlib\n",
    "import concurrent\n",
    "import numpy as np\n",
    "import pandas as pd\n",
    "from pathlib import Path\n",
    "from tqdm.notebook import tqdm\n",
    "from skimage import io as skio\n",
    "import matplotlib.pyplot as plt\n",
    "from aicscytoparam import cytoparam\n",
    "from sklearn.decomposition import PCA\n",
    "from aicsshparam import shtools, shparam\n",
    "from aicsimageio import AICSImage\n",
    "from aicsimageio.writers import OmeTiffWriter\n",
    "from cvapipe_analysis.tools import io, viz, general, controller, shapespace, plotting\n",
    "\n",
    "sys.path.insert(1, '../tools')\n",
    "import common"
   ]
  },
  {
   "cell_type": "code",
   "execution_count": null,
   "id": "246fafb4",
   "metadata": {},
   "outputs": [],
   "source": [
    "# Controller form cvapipe_analysis\n",
    "path_config = Path(\"/allen/aics/assay-dev/MicroscopyOtherData/Viana/projects/cvapipe_analysis/\")\n",
    "config = general.load_config_file(path_config)\n",
    "control = controller.Controller(config)\n",
    "device = io.LocalStagingIO(control)\n",
    "df = device.load_step_manifest(\"preprocessing\")\n",
    "print(df.shape, control.get_staging())"
   ]
  },
  {
   "cell_type": "code",
   "execution_count": null,
   "id": "81462cf1",
   "metadata": {},
   "outputs": [],
   "source": [
    "space = shapespace.ShapeSpace(control)\n",
    "space.execute(df)"
   ]
  },
  {
   "cell_type": "code",
   "execution_count": null,
   "id": "bb13efd2",
   "metadata": {},
   "outputs": [],
   "source": [
    "# local_staging_variance_edges is generated by using the output dataframe from the\n",
    "# mapping process to filter out not matched cells from the full dataset.\n",
    "dsname = \"edges\"\n",
    "path_cvapipe = Path(control.get_staging()).parent\n",
    "datasets = {\n",
    "    dsname: {\n",
    "        \"control\": f\"{path_cvapipe}/local_staging_variance_edges\",\n",
    "        \"perturbed\": f\"{path_cvapipe}/local_staging_edge_cells_midpoint_expanded\"\n",
    "    }}"
   ]
  },
  {
   "cell_type": "code",
   "execution_count": null,
   "id": "88af31a9",
   "metadata": {},
   "outputs": [],
   "source": [
    "smapper = shapespace.ShapeSpaceMapper(space, output_folder=\"./\")\n",
    "smapper.use_full_base_dataset()\n",
    "smapper.set_make_plots_off()\n",
    "smapper.set_distance_threshold(1e10)\n",
    "smapper.map(datasets)\n",
    "df_map = smapper.result\n",
    "df_map.head()"
   ]
  },
  {
   "cell_type": "markdown",
   "id": "33e5ee15",
   "metadata": {},
   "source": [
    "### Control and Device for each shape matched dataset (control and perturbed)"
   ]
  },
  {
   "cell_type": "code",
   "execution_count": null,
   "id": "52c51980",
   "metadata": {},
   "outputs": [],
   "source": [
    "dsmanagers = common.setup_cvapipe_for_matched_dataset(config, datasets[dsname])"
   ]
  },
  {
   "cell_type": "markdown",
   "id": "f6614dea",
   "metadata": {},
   "source": [
    "### Load representations and compute PCA and compute LDA"
   ]
  },
  {
   "cell_type": "code",
   "execution_count": null,
   "id": "bd6afcfe",
   "metadata": {},
   "outputs": [],
   "source": [
    "importlib.reload(common)\n",
    "if not os.path.exists(\"./data.pkl\"):\n",
    "    print(\"Loading PILRs and running LDA...\")\n",
    "    pca_lda = common.run_lda_analysis(df_map=df_map, managers=dsmanagers)\n",
    "    with open(\"data.pkl\", \"wb\") as fp:\n",
    "        pickle.dump(pca_lda, fp)\n",
    "else:\n",
    "    print(\"Loading pre-computed LDA...\")\n",
    "    with open(\"data.pkl\", \"rb\") as fp:\n",
    "        pca_lda = pickle.load(fp)"
   ]
  },
  {
   "cell_type": "code",
   "execution_count": null,
   "id": "c9270cff",
   "metadata": {},
   "outputs": [],
   "source": [
    "# importlib.reload(common)\n",
    "# pca_lda = common.run_lda_analysis(df_map=df_map.loc[pd.IndexSlice[:,\"HIST1H2BJ\",:]], managers=dsmanagers)"
   ]
  },
  {
   "cell_type": "markdown",
   "id": "41ed6f37",
   "metadata": {},
   "source": [
    "### Finding cells nearest the mean of the two populations"
   ]
  },
  {
   "cell_type": "code",
   "execution_count": null,
   "id": "94d6b842",
   "metadata": {},
   "outputs": [],
   "source": [
    "ncells = 15\n",
    "CellIds = common.find_cells_nearest_the_mean_of_the_two_populations(\n",
    "    pca_lda = pca_lda,\n",
    "    ncells = ncells\n",
    ")"
   ]
  },
  {
   "cell_type": "markdown",
   "id": "99cbe178",
   "metadata": {},
   "source": [
    "### Load single cell data and generates stacks for selected cells"
   ]
  },
  {
   "cell_type": "code",
   "execution_count": null,
   "id": "771e24ff",
   "metadata": {},
   "outputs": [],
   "source": [
    "df_full = device.load_step_manifest(\"loaddata\")\n",
    "df_pt = dsmanagers[\"perturbed\"][\"device\"].load_step_manifest(\"loaddata\")"
   ]
  },
  {
   "cell_type": "code",
   "execution_count": null,
   "id": "b21cb4e4",
   "metadata": {},
   "outputs": [],
   "source": [
    "for gene, axes in pca_lda.items():\n",
    "    imgs_ct = common.load_multiple_single_cell_images_fast(\n",
    "        selection = {gene: [idx for ds, idx in CellIds[gene] if ds==0]},\n",
    "        df = df_full,\n",
    "        control = control,\n",
    "        redirect = True\n",
    "    )\n",
    "    imgs_pt = common.load_multiple_single_cell_images_fast(\n",
    "        selection = {gene: [idx for ds, idx in CellIds[gene] if ds==1]},\n",
    "        df = df_pt,\n",
    "        control = dsmanagers[\"perturbed\"][\"control\"],\n",
    "        redirect = False,\n",
    "        alignment = False\n",
    "    )\n",
    "    allcellsinfo = []\n",
    "    for ds, dsname, imgs in zip([0, 1], [\"Control\", \"Perturbed\"], [imgs_ct, imgs_pt]):\n",
    "        for cellinfo in imgs[gene]:\n",
    "            CellId = cellinfo[\"CellId\"]\n",
    "            allcellsinfo.append({\n",
    "                \"CellId\": CellId,\n",
    "                \"gene\": gene,\n",
    "                \"dataset\": dsname,\n",
    "                \"lda\": axes.at[(ds, CellId), \"LDA\"],\n",
    "                \"img\": cellinfo[\"img\"]\n",
    "            })\n",
    "    stack = common.get_stack_with_single_cell_from_two_populations(allcellsinfo, scale=4, bbox=400)\n",
    "    skio.imsave(f\"SingleCellsLDA-{gene}.tif\", stack)"
   ]
  },
  {
   "cell_type": "code",
   "execution_count": null,
   "id": "ad52b276",
   "metadata": {},
   "outputs": [],
   "source": [
    "common.now(\"complete\")"
   ]
  },
  {
   "cell_type": "code",
   "execution_count": null,
   "id": "07deb3a0",
   "metadata": {},
   "outputs": [],
   "source": []
  }
 ],
 "metadata": {
  "kernelspec": {
   "display_name": "Python 3 (ipykernel)",
   "language": "python",
   "name": "python3"
  },
  "language_info": {
   "codemirror_mode": {
    "name": "ipython",
    "version": 3
   },
   "file_extension": ".py",
   "mimetype": "text/x-python",
   "name": "python",
   "nbconvert_exporter": "python",
   "pygments_lexer": "ipython3",
   "version": "3.8.12"
  }
 },
 "nbformat": 4,
 "nbformat_minor": 5
}
