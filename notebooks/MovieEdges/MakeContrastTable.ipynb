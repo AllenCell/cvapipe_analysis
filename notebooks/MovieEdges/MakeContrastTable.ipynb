{
 "cells": [
  {
   "cell_type": "code",
   "execution_count": 10,
   "id": "b402ed37",
   "metadata": {},
   "outputs": [],
   "source": [
    "# Single cell instances for contact sheet"
   ]
  },
  {
   "cell_type": "code",
   "execution_count": 11,
   "id": "12ffd6df",
   "metadata": {},
   "outputs": [
    {
     "name": "stdout",
     "output_type": "stream",
     "text": [
      "/allen/aics/assay-dev/MicroscopyOtherData/Viana/projects/cvapipe_analysis/local_staging_notebooks/MovieEdges\n",
      "Sun Jun 26 01:17:45 PDT 2022\n"
     ]
    }
   ],
   "source": [
    "!pwd\n",
    "!date"
   ]
  },
  {
   "cell_type": "code",
   "execution_count": 19,
   "id": "19e31877",
   "metadata": {},
   "outputs": [],
   "source": [
    "import os\n",
    "import sys\n",
    "import json\n",
    "import importlib\n",
    "import concurrent\n",
    "import numpy as np\n",
    "import pandas as pd\n",
    "from pathlib import Path\n",
    "from tqdm.notebook import tqdm\n",
    "from skimage import io as skio\n",
    "import matplotlib.pyplot as plt\n",
    "from aicscytoparam import cytoparam\n",
    "from aicsshparam import shtools, shparam\n",
    "from aicsimageio import AICSImage\n",
    "from aicsimageio.writers import OmeTiffWriter\n",
    "from cvapipe_analysis.tools import io, viz, general, controller, shapespace, plotting\n",
    "\n",
    "sys.path.insert(1, '../tools')\n",
    "import common"
   ]
  },
  {
   "cell_type": "code",
   "execution_count": 13,
   "id": "ee4e913a",
   "metadata": {},
   "outputs": [
    {
     "name": "stdout",
     "output_type": "stream",
     "text": [
      "/allen/aics/assay-dev/MicroscopyOtherData/Viana/projects/cvapipe_analysis/local_staging_variance\n"
     ]
    }
   ],
   "source": [
    "path_config = Path(\"/allen/aics/assay-dev/MicroscopyOtherData/Viana/projects/cvapipe_analysis/\")\n",
    "control_main = controller.Controller(general.load_config_file(path_config))\n",
    "device_main = io.LocalStagingIO(control_main)\n",
    "print(control_main.get_staging())"
   ]
  },
  {
   "cell_type": "code",
   "execution_count": 14,
   "id": "ea558e9f",
   "metadata": {},
   "outputs": [
    {
     "name": "stdout",
     "output_type": "stream",
     "text": [
      "(216062, 46)\n"
     ]
    }
   ],
   "source": [
    "df = device_main.load_step_manifest(\"loaddata\")\n",
    "print(df.shape)"
   ]
  },
  {
   "cell_type": "code",
   "execution_count": 15,
   "id": "a1bfe633",
   "metadata": {},
   "outputs": [],
   "source": [
    "genes = control_main.get_gene_names()"
   ]
  },
  {
   "cell_type": "code",
   "execution_count": 16,
   "id": "37ad3d9e",
   "metadata": {},
   "outputs": [],
   "source": [
    "morphs = dict([(gene, []) for gene in genes])\n",
    "\n",
    "inner_alias = control_main.get_inner_most_alias_to_parameterize()\n",
    "outer_alias = control_main.get_outer_most_alias_to_parameterize()\n",
    "inner_mesh = device_main.read_vtk_polydata(f\"avgshape/edges_{inner_alias}_matched.vtk\")\n",
    "outer_mesh = device_main.read_vtk_polydata(f\"avgshape/edges_{outer_alias}_matched.vtk\")\n",
    "\n",
    "path_step = Path(\"/allen/aics/assay-dev/MicroscopyOtherData/Viana/projects/cvapipe_analysis/local_staging_variance_edges/shapemode\")\n",
    "control, device = common.get_managers_from_step_path(path_step)\n",
    "\n",
    "row = pd.Series({\"shape_mode\": \"NUC_MEM_PC1\", \"mpId\": 1, \"aggtype\": \"avg\", \"alias\": \"STR\"})\n",
    "domain, domain_nuc, domain_mem, coords_param = common.get_map_point_shape(control, device, row, inner_mesh=inner_mesh, outer_mesh=outer_mesh)\n",
    "\n",
    "for gene in genes:\n",
    "    row[\"structure\"] = gene\n",
    "    rep = device.read_agg_parameterized_intensity(row)\n",
    "    morphed = cytoparam.morph_representation_on_shape(\n",
    "        img=domain,\n",
    "        param_img_coords=coords_param,\n",
    "        representation=rep\n",
    "    )\n",
    "    morphed = np.stack([domain_nuc, domain_mem, morphed], axis=0)\n",
    "    morphs[gene].append(morphed)"
   ]
  },
  {
   "cell_type": "code",
   "execution_count": 25,
   "id": "5be4c18d",
   "metadata": {},
   "outputs": [],
   "source": [
    "contrast = {}\n",
    "for gene in genes:\n",
    "    mode = {\"nuc\":\"center_nuc\",\"mem\":\"center_nuc\",\"gfp\":\"center_nuc\"}\n",
    "    contrast[gene] = common.Projector.get_shared_morphed_max_based_on_pct_for_zy_views(\n",
    "        instances = morphs[gene],\n",
    "        pct = 90,\n",
    "        mode = mode,\n",
    "        func = np.mean\n",
    "    )"
   ]
  },
  {
   "cell_type": "code",
   "execution_count": 26,
   "id": "1b2426cd",
   "metadata": {},
   "outputs": [],
   "source": [
    "log = {\"contrast\": contrast, \"version\": {}}\n",
    "for fname in [\"../tools/common.py\", \"MakeContrastTable.ipynb\"]:\n",
    "    with open(fname, \"r\") as ftxt:\n",
    "        log[\"version\"][fname] = ftxt.read()\n",
    "with open(\"contrast_V3_90OnValids.json\", \"w\") as fj:\n",
    "    json.dump(log, fj, indent=4)"
   ]
  },
  {
   "cell_type": "code",
   "execution_count": 27,
   "id": "43317dbd",
   "metadata": {},
   "outputs": [
    {
     "name": "stdout",
     "output_type": "stream",
     "text": [
      "complete. 2022-06-26 03:33:25\n"
     ]
    }
   ],
   "source": [
    "common.now(\"complete.\")"
   ]
  },
  {
   "cell_type": "code",
   "execution_count": null,
   "id": "483bce70",
   "metadata": {},
   "outputs": [],
   "source": []
  }
 ],
 "metadata": {
  "kernelspec": {
   "display_name": "Python 3 (ipykernel)",
   "language": "python",
   "name": "python3"
  },
  "language_info": {
   "codemirror_mode": {
    "name": "ipython",
    "version": 3
   },
   "file_extension": ".py",
   "mimetype": "text/x-python",
   "name": "python",
   "nbconvert_exporter": "python",
   "pygments_lexer": "ipython3",
   "version": "3.8.12"
  }
 },
 "nbformat": 4,
 "nbformat_minor": 5
}
