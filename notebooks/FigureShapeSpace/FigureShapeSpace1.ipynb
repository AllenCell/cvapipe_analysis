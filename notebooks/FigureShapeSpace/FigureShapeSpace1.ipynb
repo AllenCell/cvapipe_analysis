{
 "cells": [
  {
   "cell_type": "code",
   "execution_count": 1,
   "id": "ec5018b1",
   "metadata": {},
   "outputs": [],
   "source": [
    "# Display the distribution of number of cells per shape mode along with explained variance"
   ]
  },
  {
   "cell_type": "code",
   "execution_count": 2,
   "id": "715c792f",
   "metadata": {},
   "outputs": [
    {
     "name": "stdout",
     "output_type": "stream",
     "text": [
      "Wed Mar 30 13:45:25 PDT 2022\r\n"
     ]
    }
   ],
   "source": [
    "!date"
   ]
  },
  {
   "cell_type": "code",
   "execution_count": 3,
   "id": "12e4860e",
   "metadata": {},
   "outputs": [],
   "source": [
    "import os\n",
    "import sys\n",
    "import importlib\n",
    "import numpy as np\n",
    "import pandas as pd\n",
    "from pathlib import Path\n",
    "from tqdm.notebook import tqdm\n",
    "from skimage import io as skio\n",
    "import matplotlib.pyplot as plt\n",
    "from aicscytoparam import cytoparam\n",
    "from aicsshparam import shtools, shparam\n",
    "from aicsimageio import AICSImage\n",
    "from aicsimageio.writers import OmeTiffWriter\n",
    "from cvapipe_analysis.tools import io, viz, general, controller, shapespace, plotting"
   ]
  },
  {
   "cell_type": "code",
   "execution_count": 4,
   "id": "e66d1176",
   "metadata": {},
   "outputs": [
    {
     "name": "stdout",
     "output_type": "stream",
     "text": [
      "/allen/aics/assay-dev/MicroscopyOtherData/Viana/projects/cvapipe_analysis/local_staging_variance\n"
     ]
    }
   ],
   "source": [
    "# Controller form cvapipe_analysis\n",
    "path_config = Path(\"/allen/aics/assay-dev/MicroscopyOtherData/Viana/projects/cvapipe_analysis/\")\n",
    "control = controller.Controller(general.load_config_file(path_config))\n",
    "print(control.get_staging())"
   ]
  },
  {
   "cell_type": "code",
   "execution_count": 5,
   "id": "f4a753c3",
   "metadata": {},
   "outputs": [],
   "source": [
    "device = io.LocalStagingIO(control)\n",
    "df = device.load_step_manifest(\"preprocessing\")\n",
    "space = shapespace.ShapeSpace(control)\n",
    "space.execute(df)"
   ]
  },
  {
   "cell_type": "code",
   "execution_count": 6,
   "id": "17fe4fc3",
   "metadata": {},
   "outputs": [
    {
     "data": {
      "image/png": "[encoded data removed]",
      "text/plain": [
       "<Figure size 144x288 with 8 Axes>"
      ]
     },
     "metadata": {
      "needs_background": "light"
     },
     "output_type": "display_data"
    }
   ],
   "source": [
    "height = 0.5\n",
    "bin_centers = control.get_map_points()\n",
    "binw = 0.5*np.diff(bin_centers).mean() if len(bin_centers) > 1 else 1\n",
    "bin_edges = np.unique([(b-binw, b+binw) for b in bin_centers])\n",
    "bin_edges[0] = -2.25\n",
    "bin_edges[-1] = 2.25\n",
    "sms = control.get_shape_modes()\n",
    "fig, axs = plt.subplots(len(sms),1, figsize=(4*height,len(sms)*height), sharex=True, gridspec_kw={\"hspace\": 0})\n",
    "for smid, (sm, ax) in enumerate(zip(sms, axs)):\n",
    "    space.set_active_shape_mode(shape_mode=sm, digitize=True)\n",
    "    values = space.axes[sm].values\n",
    "    std = space.get_active_scale()\n",
    "    weights = np.ones(len(values))/len(values)\n",
    "    ax.hist(values/std, bins=bin_edges, color=\"gray\", alpha=0.4, weights=weights)\n",
    "    ax.set_yticks([0, 0.2], [0, \"20%\"])\n",
    "    ax.tick_params(axis=\"y\", which='major', labelsize=8, pad=0)\n",
    "    ax.set_ylim(0, 0.3)\n",
    "    ax.axhline(y=0.2, color=\"k\", linestyle=\"--\", lw=0.5)\n",
    "    ax.text(-2.3,0.19,f\"PC{smid+1}\")\n",
    "ax.set_xlim(-2.5, 2.5)\n",
    "sigmas = np.linspace(-2, 2, 5)\n",
    "ax.set_xticks(sigmas, [f\"{int(s)}$\\sigma$\" for s in sigmas])\n",
    "ax.tick_params(axis=\"x\", which='major', labelsize=12)\n",
    "plt.tight_layout()\n",
    "plt.savefig(\"FigureShapeSpace1_hists.pdf\")\n",
    "plt.show()"
   ]
  },
  {
   "cell_type": "code",
   "execution_count": 9,
   "id": "ef06d180",
   "metadata": {},
   "outputs": [
    {
     "data": {
      "image/png": "[encoded data removed]",
      "text/plain": [
       "<Figure size 72x288 with 8 Axes>"
      ]
     },
     "metadata": {
      "needs_background": "light"
     },
     "output_type": "display_data"
    }
   ],
   "source": [
    "height = 0.5\n",
    "values = space.pca.explained_variance_ratio_\n",
    "sms = control.get_shape_modes()\n",
    "fig, axs = plt.subplots(len(sms),1, figsize=(2*height,len(sms)*height), sharex=True, gridspec_kw={\"hspace\": 0})\n",
    "for sm, ax, v in zip(sms, axs, values):\n",
    "    ax.barh(y=0, width=100*v, color=\"black\")\n",
    "    ax.set_yticks([])\n",
    "    ax.grid()\n",
    "ax.tick_params(axis=\"x\", which='major', labelsize=12)\n",
    "plt.tight_layout()\n",
    "plt.savefig(\"FigureShapeSpace1_vars.pdf\")\n",
    "plt.show()"
   ]
  },
  {
   "cell_type": "code",
   "execution_count": 8,
   "id": "9ab974bc",
   "metadata": {},
   "outputs": [
    {
     "name": "stdout",
     "output_type": "stream",
     "text": [
      "FigureShapeSpace1_hists.pdf  FigureShapeSpace1_vars.pdf\r\n",
      "FigureShapeSpace1.ipynb\r\n"
     ]
    }
   ],
   "source": [
    "!ls"
   ]
  },
  {
   "cell_type": "code",
   "execution_count": null,
   "id": "29cb4342",
   "metadata": {},
   "outputs": [],
   "source": []
  }
 ],
 "metadata": {
  "kernelspec": {
   "display_name": "Python 3 (ipykernel)",
   "language": "python",
   "name": "python3"
  },
  "language_info": {
   "codemirror_mode": {
    "name": "ipython",
    "version": 3
   },
   "file_extension": ".py",
   "mimetype": "text/x-python",
   "name": "python",
   "nbconvert_exporter": "python",
   "pygments_lexer": "ipython3",
   "version": "3.8.12"
  }
 },
 "nbformat": 4,
 "nbformat_minor": 5
}
