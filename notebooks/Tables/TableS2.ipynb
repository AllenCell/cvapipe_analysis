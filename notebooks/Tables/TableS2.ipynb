{
 "cells": [
  {
   "cell_type": "code",
   "execution_count": 1,
   "id": "6d5bbadd",
   "metadata": {},
   "outputs": [],
   "source": [
    "# Correlation matrices saved as Excel file\n",
    "# interaction map 8d, bins, shape modes\n",
    "# concordance 8d, bins, shape modes\n",
    "# concordance edge, non-edge, i1, m1, i2, m2 "
   ]
  },
  {
   "cell_type": "code",
   "execution_count": 2,
   "id": "4b66d441",
   "metadata": {},
   "outputs": [
    {
     "name": "stdout",
     "output_type": "stream",
     "text": [
      "/allen/aics/assay-dev/MicroscopyOtherData/Viana/projects/cvapipe_analysis/local_staging_notebooks/Tables\n",
      "Mon May 30 20:14:53 PDT 2022\n"
     ]
    }
   ],
   "source": [
    "!pwd\n",
    "!date"
   ]
  },
  {
   "cell_type": "code",
   "execution_count": 3,
   "id": "6307d332",
   "metadata": {},
   "outputs": [],
   "source": [
    "import os\n",
    "import sys\n",
    "import importlib\n",
    "import concurrent\n",
    "import numpy as np\n",
    "import pandas as pd\n",
    "from pathlib import Path\n",
    "from tqdm.notebook import tqdm\n",
    "from skimage import io as skio\n",
    "import matplotlib.pyplot as plt\n",
    "from aicscytoparam import cytoparam\n",
    "from aicsshparam import shtools, shparam\n",
    "from aicsimageio import AICSImage\n",
    "from aicsimageio.writers import OmeTiffWriter\n",
    "from cvapipe_analysis.tools import io, viz, general, controller, shapespace, plotting\n",
    "\n",
    "sys.path.insert(1, '../tools')\n",
    "import common"
   ]
  },
  {
   "cell_type": "code",
   "execution_count": 4,
   "id": "2e605326",
   "metadata": {},
   "outputs": [
    {
     "name": "stdout",
     "output_type": "stream",
     "text": [
      "/allen/aics/assay-dev/MicroscopyOtherData/Viana/projects/cvapipe_analysis/local_staging_variance\n"
     ]
    }
   ],
   "source": [
    "path_config = Path(\"/allen/aics/assay-dev/MicroscopyOtherData/Viana/projects/cvapipe_analysis/\")\n",
    "config = general.load_config_file(path_config)\n",
    "control = controller.Controller(config)\n",
    "device = io.LocalStagingIO(control)\n",
    "print(control.get_staging())"
   ]
  },
  {
   "cell_type": "code",
   "execution_count": 5,
   "id": "306c0f1c",
   "metadata": {},
   "outputs": [],
   "source": [
    "variables = control.get_variables_values_for_aggregation()\n",
    "df_agg = shapespace.ShapeSpaceBasic.get_aggregated_df(variables)\n",
    "variables.update({\"shape_mode\": [\"NdSphere\"], \"mpId\": [control.get_center_map_point_index()]})\n",
    "df_sphere = shapespace.ShapeSpaceBasic.get_aggregated_df(variables)\n",
    "df_agg = df_agg.append(df_sphere, ignore_index=True)\n",
    "df_agg =  df_agg.drop(columns=[\"structure\"]).drop_duplicates().reset_index(drop=True)"
   ]
  },
  {
   "cell_type": "markdown",
   "id": "d5a91441",
   "metadata": {},
   "source": [
    "# Avg. spatial interactions"
   ]
  },
  {
   "cell_type": "code",
   "execution_count": 18,
   "id": "c31986db",
   "metadata": {},
   "outputs": [],
   "source": [
    "full = np.zeros((8*25, 9*25))"
   ]
  },
  {
   "cell_type": "code",
   "execution_count": 27,
   "id": "1f5b776d",
   "metadata": {},
   "outputs": [],
   "source": [
    "for smid, sm in enumerate(control.get_shape_modes()):\n",
    "    for mpId in control.get_map_point_indexes():\n",
    "        row = df_agg.loc[(df_agg.mpId==mpId)&(df_agg.shape_mode==sm)]\n",
    "        row = row.loc[row.index[0]]\n",
    "        corr = device.build_correlation_matrix_of_avg_reps_from_corr_values(row)\n",
    "        full[(smid*25):((smid+1)*25), ((mpId-1)*25):(mpId*25)] = corr"
   ]
  },
  {
   "cell_type": "code",
   "execution_count": 28,
   "id": "2728aaed",
   "metadata": {},
   "outputs": [],
   "source": [
    "pd.DataFrame(full).to_csv(\"avg_spatial_int.csv\")"
   ]
  },
  {
   "cell_type": "code",
   "execution_count": 8,
   "id": "dc25db5f",
   "metadata": {},
   "outputs": [],
   "source": [
    "row = df_agg.loc[df_agg.index[-1]]\n",
    "corr = device.build_correlation_matrix_of_avg_reps_from_corr_values(row)\n",
    "corr = np.array(corr)\n",
    "pd.DataFrame(corr).to_csv(\"avg_spatial_int_8d.csv\")"
   ]
  },
  {
   "cell_type": "markdown",
   "id": "15f72e19",
   "metadata": {},
   "source": [
    "# Concordance"
   ]
  },
  {
   "cell_type": "code",
   "execution_count": 44,
   "id": "a7e43009",
   "metadata": {},
   "outputs": [],
   "source": [
    "full = np.zeros((8*25, 9*25))"
   ]
  },
  {
   "cell_type": "code",
   "execution_count": 45,
   "id": "cfc4e506",
   "metadata": {},
   "outputs": [],
   "source": [
    "for smid, sm in enumerate(control.get_shape_modes()):\n",
    "    for mpId in control.get_map_point_indexes():\n",
    "        row = df_agg.loc[(df_agg.mpId==mpId)&(df_agg.shape_mode==sm)]\n",
    "        row = row.loc[row.index[0]]\n",
    "        corr = device.read_corelation_matrix(row)\n",
    "        corr = plotting.PlotMaker.get_aggregated_matrix_from_df(control.get_gene_names(), corr)\n",
    "        full[(smid*25):((smid+1)*25), ((mpId-1)*25):(mpId*25)] = corr"
   ]
  },
  {
   "cell_type": "code",
   "execution_count": 46,
   "id": "5e64e4ed",
   "metadata": {},
   "outputs": [],
   "source": [
    "pd.DataFrame(full).to_csv(\"concordance.csv\", index=False, header=False)"
   ]
  },
  {
   "cell_type": "code",
   "execution_count": 42,
   "id": "8c8557ee",
   "metadata": {},
   "outputs": [],
   "source": [
    "row = df_agg.loc[df_agg.index[-1]]\n",
    "corr = device.read_corelation_matrix(row)\n",
    "corr = plotting.PlotMaker.get_aggregated_matrix_from_df(control.get_gene_names(), corr)\n",
    "pd.DataFrame(corr).to_csv(\"concordance_8d.csv\", index=False, header=False)"
   ]
  },
  {
   "cell_type": "markdown",
   "id": "51ef0f18",
   "metadata": {},
   "source": [
    "# Concordance for subsets"
   ]
  },
  {
   "cell_type": "code",
   "execution_count": 60,
   "id": "d578c826",
   "metadata": {},
   "outputs": [
    {
     "name": "stdout",
     "output_type": "stream",
     "text": [
      "non-edge (4477, 4477)\n"
     ]
    },
    {
     "name": "stderr",
     "output_type": "stream",
     "text": [
      "/allen/aics/assay-dev/MicroscopyOtherData/Viana/projects/cvapipe_analysis/cvapipe_analysis/tools/plotting.py:124: PerformanceWarning: indexing past lexsort depth may impact performance.\n",
      "  values = df_corr.loc[(gene1, gene2)].values\n"
     ]
    },
    {
     "name": "stdout",
     "output_type": "stream",
     "text": [
      "i1 (1969, 1969)\n",
      "i2 (877, 877)\n",
      "edge (5169, 5169)\n",
      "m1 (2201, 2201)\n",
      "m2 (981, 981)\n"
     ]
    }
   ],
   "source": [
    "for ds, staging in zip([\"non-edge\",\"i1\",\"i2\",\"edge\",\"m1\",\"m2\"],[\"local_staging_variance_edges\",\"local_staging_variance_m1m2\",\"local_staging_variance_m3\",\"local_staging_edge_cells_midpoint_expanded\",\"local_staging_m1m2\",\"local_staging_m3\"]):\n",
    "    path_step = Path(f\"/allen/aics/assay-dev/MicroscopyOtherData/Viana/projects/cvapipe_analysis/{staging}/correlation\")\n",
    "    ctrl, dev = common.get_managers_from_step_path(path_step)\n",
    "    variables = ctrl.get_variables_values_for_aggregation()\n",
    "    df_agg = shapespace.ShapeSpaceBasic.get_aggregated_df(variables)\n",
    "    df_agg =  df_agg.drop(columns=[\"structure\"]).drop_duplicates().reset_index(drop=True)\n",
    "    corr = dev.read_corelation_matrix(df_agg.loc[0])\n",
    "    print(ds, corr.shape)\n",
    "    corr = plotting.PlotMaker.get_aggregated_matrix_from_df(control.get_gene_names(), corr)\n",
    "    pd.DataFrame(corr).to_csv(f\"concordance_{ds}.csv\", index=False, header=False)"
   ]
  },
  {
   "cell_type": "code",
   "execution_count": 61,
   "id": "3c48b61b",
   "metadata": {},
   "outputs": [
    {
     "name": "stdout",
     "output_type": "stream",
     "text": [
      "complete. 2022-05-31 22:15:44\n"
     ]
    }
   ],
   "source": [
    "common.now(\"complete.\")"
   ]
  },
  {
   "cell_type": "code",
   "execution_count": null,
   "id": "b8c8b9e8",
   "metadata": {},
   "outputs": [],
   "source": []
  }
 ],
 "metadata": {
  "kernelspec": {
   "display_name": "Python 3 (ipykernel)",
   "language": "python",
   "name": "python3"
  },
  "language_info": {
   "codemirror_mode": {
    "name": "ipython",
    "version": 3
   },
   "file_extension": ".py",
   "mimetype": "text/x-python",
   "name": "python",
   "nbconvert_exporter": "python",
   "pygments_lexer": "ipython3",
   "version": "3.8.12"
  }
 },
 "nbformat": 4,
 "nbformat_minor": 5
}
