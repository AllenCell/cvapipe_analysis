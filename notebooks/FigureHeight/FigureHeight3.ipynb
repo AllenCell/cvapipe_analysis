{
 "cells": [
  {
   "cell_type": "code",
   "execution_count": 31,
   "id": "3453b951",
   "metadata": {},
   "outputs": [],
   "source": [
    "# Regression analysis for cell height"
   ]
  },
  {
   "cell_type": "code",
   "execution_count": 32,
   "id": "45d7e016",
   "metadata": {},
   "outputs": [
    {
     "name": "stdout",
     "output_type": "stream",
     "text": [
      "/allen/aics/assay-dev/MicroscopyOtherData/Viana/projects/cvapipe_analysis/local_staging_notebooks/FigureHeight\n",
      "Wed May 18 14:58:06 PDT 2022\n"
     ]
    }
   ],
   "source": [
    "!pwd\n",
    "!date"
   ]
  },
  {
   "cell_type": "code",
   "execution_count": 33,
   "id": "30cec3de",
   "metadata": {},
   "outputs": [],
   "source": [
    "import os\n",
    "import sys\n",
    "import importlib\n",
    "import numpy as np\n",
    "import pandas as pd\n",
    "from pathlib import Path\n",
    "from tqdm.notebook import tqdm\n",
    "import matplotlib.pyplot as plt\n",
    "from scipy import stats as spstats\n",
    "from aicscytoparam import cytoparam\n",
    "from scipy import cluster as spcluster\n",
    "from matplotlib import lines as pltlines\n",
    "from aicsimageio import AICSImage, writers\n",
    "from cvapipe_analysis.tools import io, viz, general, controller, shapespace, plotting\n",
    "\n",
    "sys.path.insert(1, '../tools')\n",
    "import common"
   ]
  },
  {
   "cell_type": "code",
   "execution_count": null,
   "id": "7b3b1e97",
   "metadata": {},
   "outputs": [],
   "source": []
  }
 ],
 "metadata": {
  "kernelspec": {
   "display_name": "Python 3 (ipykernel)",
   "language": "python",
   "name": "python3"
  },
  "language_info": {
   "codemirror_mode": {
    "name": "ipython",
    "version": 3
   },
   "file_extension": ".py",
   "mimetype": "text/x-python",
   "name": "python",
   "nbconvert_exporter": "python",
   "pygments_lexer": "ipython3",
   "version": "3.8.12"
  }
 },
 "nbformat": 4,
 "nbformat_minor": 5
}
