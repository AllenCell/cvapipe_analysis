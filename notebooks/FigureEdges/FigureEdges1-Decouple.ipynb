{
 "cells": [
  {
   "cell_type": "code",
   "execution_count": 1,
   "id": "62198de3",
   "metadata": {},
   "outputs": [],
   "source": [
    "# Histograms comparing different datasets (edges vs. non-edge cell sin the paper)"
   ]
  },
  {
   "cell_type": "code",
   "execution_count": 2,
   "id": "80380f9a",
   "metadata": {},
   "outputs": [
    {
     "name": "stdout",
     "output_type": "stream",
     "text": [
      "Wed Apr 26 14:38:03 PDT 2023\r\n"
     ]
    }
   ],
   "source": [
    "!date"
   ]
  },
  {
   "cell_type": "code",
   "execution_count": 4,
   "id": "f2a8d25a",
   "metadata": {},
   "outputs": [
    {
     "name": "stdout",
     "output_type": "stream",
     "text": [
      "/home/matheus.viana/anaconda3/envs/lab-variance/bin/python\r\n"
     ]
    }
   ],
   "source": [
    "!which python"
   ]
  },
  {
   "cell_type": "code",
   "execution_count": 5,
   "id": "c426601f",
   "metadata": {},
   "outputs": [
    {
     "name": "stdout",
     "output_type": "stream",
     "text": [
      "cvapipe-analysis           0.1.0                                                         /allen/aics/assay-dev/MicroscopyOtherData/Viana/projects/cvapipe_analysis\r\n"
     ]
    }
   ],
   "source": [
    "!pip list | grep cvapipe"
   ]
  },
  {
   "cell_type": "code",
   "execution_count": 3,
   "id": "afbe00f8",
   "metadata": {},
   "outputs": [],
   "source": [
    "import os\n",
    "import sys\n",
    "import importlib\n",
    "import concurrent\n",
    "import numpy as np\n",
    "import pandas as pd\n",
    "from pathlib import Path\n",
    "from tqdm.notebook import tqdm\n",
    "from skimage import io as skio\n",
    "import matplotlib.pyplot as plt\n",
    "from aicscytoparam import cytoparam\n",
    "from aicsshparam import shtools, shparam\n",
    "from aicsimageio import AICSImage\n",
    "from aicsimageio.writers import OmeTiffWriter\n",
    "from cvapipe_analysis.tools import io, viz, general, controller, shapespace, plotting\n",
    "\n",
    "sys.path.insert(1, '../tools')\n",
    "import common"
   ]
  },
  {
   "cell_type": "code",
   "execution_count": 6,
   "id": "0a8857c4",
   "metadata": {},
   "outputs": [
    {
     "name": "stdout",
     "output_type": "stream",
     "text": [
      "(147, 1218) /allen/aics/assay-dev/MicroscopyOtherData/Viana/datasets/AbbyCardios/staging_pca9\n"
     ]
    }
   ],
   "source": [
    "# Controller form cvapipe_analysis\n",
    "staging = Path(\"/allen/aics/assay-dev/MicroscopyOtherData/Viana/datasets/AbbyCardios/staging_pca9\")\n",
    "control = controller.Controller(general.load_config_file(staging))\n",
    "device = io.LocalStagingIO(control)\n",
    "df = device.load_step_manifest(\"preprocessing\")\n",
    "print(df.shape, control.get_staging())"
   ]
  },
  {
   "cell_type": "code",
   "execution_count": 7,
   "id": "60f993a5",
   "metadata": {},
   "outputs": [],
   "source": [
    "space = shapespace.ShapeSpace(control)\n",
    "space.execute(df)"
   ]
  },
  {
   "cell_type": "code",
   "execution_count": 8,
   "id": "27982e26",
   "metadata": {},
   "outputs": [],
   "source": [
    "datasets = {\n",
    "    \"pca62\": {\n",
    "        \"perturbed\": \"/allen/aics/assay-dev/MicroscopyOtherData/Viana/datasets/AbbyCardios/staging_pca62\"\n",
    "    }}"
   ]
  },
  {
   "cell_type": "code",
   "execution_count": 17,
   "id": "426413fc",
   "metadata": {},
   "outputs": [
    {
     "data": {
      "text/plain": [
       "<module 'cvapipe_analysis.tools.shapespace' from '/allen/aics/assay-dev/MicroscopyOtherData/Viana/projects/cvapipe_analysis/cvapipe_analysis/tools/shapespace.py'>"
      ]
     },
     "execution_count": 17,
     "metadata": {},
     "output_type": "execute_result"
    }
   ],
   "source": [
    "importlib.reload(general)\n",
    "importlib.reload(shapespace)"
   ]
  },
  {
   "cell_type": "code",
   "execution_count": 18,
   "id": "39fcfac8",
   "metadata": {},
   "outputs": [
    {
     "name": "stdout",
     "output_type": "stream",
     "text": [
      "\tpca62 loaded. (138, 1218)\n"
     ]
    }
   ],
   "source": [
    "smapper = shapespace.ShapeSpaceMapper(space, output_folder=\"./\")\n",
    "smapper.use_full_base_dataset()\n",
    "smapper.set_make_plots_off()\n",
    "smapper.set_distance_threshold(1e10)\n",
    "smapper.map(datasets)"
   ]
  },
  {
   "cell_type": "code",
   "execution_count": 29,
   "id": "e045ce28",
   "metadata": {},
   "outputs": [
    {
     "data": {
      "text/plain": [
       "<module 'cvapipe_analysis.tools.plotting' from '/allen/aics/assay-dev/MicroscopyOtherData/Viana/projects/cvapipe_analysis/cvapipe_analysis/tools/plotting.py'>"
      ]
     },
     "execution_count": 29,
     "metadata": {},
     "output_type": "execute_result"
    }
   ],
   "source": [
    "importlib.reload(plotting)"
   ]
  },
  {
   "cell_type": "code",
   "execution_count": 30,
   "id": "94e46be5",
   "metadata": {},
   "outputs": [
    {
     "data": {
      "image/png": "[encoded data removed]",
      "text/plain": [
       "<Figure size 108x108 with 1 Axes>"
      ]
     },
     "metadata": {
      "needs_background": "light"
     },
     "output_type": "display_data"
    },
    {
     "data": {
      "image/png": "[encoded data removed]",
      "text/plain": [
       "<Figure size 108x108 with 1 Axes>"
      ]
     },
     "metadata": {
      "needs_background": "light"
     },
     "output_type": "display_data"
    }
   ],
   "source": [
    "pmaker = plotting.ShapeSpaceMapperPlotMaker(control, \"./\")\n",
    "pmaker.set_dataframe(smapper.result)\n",
    "pmaker.plot_mapping_1d(display_both=False)"
   ]
  },
  {
   "cell_type": "code",
   "execution_count": 31,
   "id": "91389f07",
   "metadata": {},
   "outputs": [],
   "source": [
    "for (fig, _), name in zip(pmaker.figs, [\"hists\", \"hists_matched\"]):\n",
    "    fig.savefig(f\"{name}.pdf\")"
   ]
  },
  {
   "cell_type": "markdown",
   "id": "168d4904",
   "metadata": {},
   "source": [
    "### Reconstruct shapes of individual and matched datasets"
   ]
  },
  {
   "cell_type": "code",
   "execution_count": 32,
   "id": "e6beb370",
   "metadata": {},
   "outputs": [],
   "source": [
    "# These variables should match between control and perturbed dataset\n",
    "nisos = control.get_number_of_interpolating_points()\n",
    "inner_alias = control.get_inner_most_alias_to_parameterize()\n",
    "outer_alias = control.get_outer_most_alias_to_parameterize()"
   ]
  },
  {
   "cell_type": "code",
   "execution_count": 33,
   "id": "593be240",
   "metadata": {},
   "outputs": [],
   "source": [
    "# path_step = Path(datasets[\"edges\"][\"perturbed\"]) / \"shapemode\"\n",
    "config_pt = general.load_config_file(datasets[\"pca62\"][\"perturbed\"])\n",
    "control_pt = controller.Controller(config_pt)\n",
    "device_pt = io.LocalStagingIO(control_pt)"
   ]
  },
  {
   "cell_type": "code",
   "execution_count": 34,
   "id": "f98aeb55",
   "metadata": {},
   "outputs": [],
   "source": [
    "meshes = {\"ct\": {}, \"pt\": {}, \"mt\": {}}\n",
    "meshes[\"ct\"][\"inner\"] = device.read_mean_shape_mesh(inner_alias)\n",
    "meshes[\"ct\"][\"outer\"] = device.read_mean_shape_mesh(outer_alias)\n",
    "meshes[\"pt\"][\"inner\"] = device_pt.read_mean_shape_mesh(inner_alias)\n",
    "meshes[\"pt\"][\"outer\"] = device_pt.read_mean_shape_mesh(outer_alias)\n",
    "meshes[\"mt\"][\"inner\"] = device.read_vtk_polydata(f\"./avgshape/pca62_{inner_alias}_matched.vtk\")\n",
    "meshes[\"mt\"][\"outer\"] = device.read_vtk_polydata(f\"./avgshape/pca62_{outer_alias}_matched.vtk\")"
   ]
  },
  {
   "cell_type": "code",
   "execution_count": 35,
   "id": "ebd0149b",
   "metadata": {},
   "outputs": [],
   "source": [
    "instances = []\n",
    "for _, mesh in meshes.items():\n",
    "    domain, _ = cytoparam.voxelize_meshes([mesh[\"outer\"], mesh[\"inner\"]])    \n",
    "    domain = np.pad(domain, ((5,5),(5,5),(5,5)))\n",
    "    domain_nuc = (255*(domain>1)).astype(np.uint8)\n",
    "    domain_mem = (255*(domain>0)).astype(np.uint8)\n",
    "    instances.append(np.stack([domain_nuc, domain_mem, domain_mem], axis=0))"
   ]
  },
  {
   "cell_type": "code",
   "execution_count": 38,
   "id": "a0a86990",
   "metadata": {},
   "outputs": [
    {
     "data": {
      "text/plain": [
       "(3, 50, 135, 363)"
      ]
     },
     "execution_count": 38,
     "metadata": {},
     "output_type": "execute_result"
    }
   ],
   "source": [
    "instances[0].shape <<<<< not working here"
   ]
  },
  {
   "cell_type": "code",
   "execution_count": 41,
   "id": "07f926fa",
   "metadata": {},
   "outputs": [
    {
     "data": {
      "image/png": "[encoded data removed]",
      "text/plain": [
       "<Figure size 432x144 with 3 Axes>"
      ]
     },
     "metadata": {
      "needs_background": "light"
     },
     "output_type": "display_data"
    },
    {
     "data": {
      "image/png": "[encoded data removed]",
      "text/plain": [
       "<Figure size 432x144 with 3 Axes>"
      ]
     },
     "metadata": {
      "needs_background": "light"
     },
     "output_type": "display_data"
    },
    {
     "data": {
      "image/png": "[encoded data removed]",
      "text/plain": [
       "<Figure size 432x144 with 3 Axes>"
      ]
     },
     "metadata": {
      "needs_background": "light"
     },
     "output_type": "display_data"
    },
    {
     "data": {
      "image/png": "[encoded data removed]",
      "text/plain": [
       "<Figure size 432x144 with 3 Axes>"
      ]
     },
     "metadata": {
      "needs_background": "light"
     },
     "output_type": "display_data"
    },
    {
     "data": {
      "image/png": "[encoded data removed]",
      "text/plain": [
       "<Figure size 432x144 with 3 Axes>"
      ]
     },
     "metadata": {
      "needs_background": "light"
     },
     "output_type": "display_data"
    },
    {
     "data": {
      "image/png": "[encoded data removed]",
      "text/plain": [
       "<Figure size 432x144 with 3 Axes>"
      ]
     },
     "metadata": {
      "needs_background": "light"
     },
     "output_type": "display_data"
    }
   ],
   "source": [
    "mode = {\n",
    "    \"nuc\": \"center_nuc\",\n",
    "    \"mem\": \"center_nuc\",\n",
    "    \"gfp\": \"center_nuc\"\n",
    "}\n",
    "importlib.reload(common)\n",
    "args = {\"gridspec_kw\": {\"hspace\": 0, \"wspace\": -0.1}, \"sharex\": True, \"sharey\": True}\n",
    "for orient in [\"z\", \"y\", \"x\"]:\n",
    "    for alias in [\"nuc\", \"mem\"]:\n",
    "        fig, axs = plt.subplots(1,len(instances), figsize=(2*len(instances), 2), **args)\n",
    "        for ax, instance in zip(axs, instances):\n",
    "            ax.axis(\"off\")\n",
    "            proj = common.Projector(instance, box_size=400)\n",
    "            proj.set_projection_mode(ax=orient, mode=mode)\n",
    "            proj.project_on(alias=alias, ax=ax, scale_bar={\"pixel_size\":0.18, \"length\":15})\n",
    "        plt.savefig(f\"Figure1_shapes_{alias}_{orient}.png\", dpi=150)\n",
    "        plt.show()"
   ]
  },
  {
   "cell_type": "code",
   "execution_count": 42,
   "id": "b66678d1",
   "metadata": {},
   "outputs": [
    {
     "name": "stdout",
     "output_type": "stream",
     "text": [
      "complete 2023-04-26 21:56:43\n"
     ]
    }
   ],
   "source": [
    "common.now(\"complete\")"
   ]
  },
  {
   "cell_type": "code",
   "execution_count": null,
   "id": "3154642e",
   "metadata": {},
   "outputs": [],
   "source": []
  }
 ],
 "metadata": {
  "kernelspec": {
   "display_name": "Python 3 (ipykernel)",
   "language": "python",
   "name": "python3"
  },
  "language_info": {
   "codemirror_mode": {
    "name": "ipython",
    "version": 3
   },
   "file_extension": ".py",
   "mimetype": "text/x-python",
   "name": "python",
   "nbconvert_exporter": "python",
   "pygments_lexer": "ipython3",
   "version": "3.8.12"
  }
 },
 "nbformat": 4,
 "nbformat_minor": 5
}
