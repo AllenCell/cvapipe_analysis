{
 "cells": [
  {
   "cell_type": "code",
   "execution_count": 1,
   "id": "987615bd",
   "metadata": {},
   "outputs": [],
   "source": [
    "# Display the avg location of a particular structure in the mean shape of the matched dataset"
   ]
  },
  {
   "cell_type": "code",
   "execution_count": 2,
   "id": "696163b2",
   "metadata": {},
   "outputs": [
    {
     "name": "stdout",
     "output_type": "stream",
     "text": [
      "/allen/aics/assay-dev/MicroscopyOtherData/Viana/projects/cvapipe_analysis/local_staging_notebooks/FigureEdges\n",
      "Sun Jun 26 15:55:32 PDT 2022\n"
     ]
    }
   ],
   "source": [
    "!pwd\n",
    "!date"
   ]
  },
  {
   "cell_type": "code",
   "execution_count": 3,
   "id": "26627787",
   "metadata": {},
   "outputs": [],
   "source": [
    "import os\n",
    "import sys\n",
    "import json\n",
    "import importlib\n",
    "import concurrent\n",
    "import numpy as np\n",
    "import pandas as pd\n",
    "from pathlib import Path\n",
    "from tqdm.notebook import tqdm\n",
    "from skimage import io as skio\n",
    "import matplotlib.pyplot as plt\n",
    "from aicscytoparam import cytoparam\n",
    "from aicsshparam import shtools, shparam\n",
    "from aicsimageio import AICSImage\n",
    "from aicsimageio.writers import OmeTiffWriter\n",
    "from cvapipe_analysis.tools import io, viz, general, controller, shapespace, plotting\n",
    "\n",
    "sys.path.insert(1, '../tools')\n",
    "import common"
   ]
  },
  {
   "cell_type": "code",
   "execution_count": 5,
   "id": "246fafb4",
   "metadata": {},
   "outputs": [
    {
     "name": "stdout",
     "output_type": "stream",
     "text": [
      "(216062, 46) /allen/aics/assay-dev/MicroscopyOtherData/Viana/projects/cvapipe_analysis/local_staging_variance\n"
     ]
    }
   ],
   "source": [
    "path_config = Path(\"/allen/aics/assay-dev/MicroscopyOtherData/Viana/projects/cvapipe_analysis/\")\n",
    "control_main = controller.Controller(general.load_config_file(path_config))\n",
    "device_main = io.LocalStagingIO(control_main)\n",
    "df = device_main.load_step_manifest(\"loaddata\")\n",
    "print(df.shape, control_main.get_staging())"
   ]
  },
  {
   "cell_type": "code",
   "execution_count": 9,
   "id": "81462cf1",
   "metadata": {},
   "outputs": [],
   "source": [
    "genes = [\"TOMM20\"]"
   ]
  },
  {
   "cell_type": "code",
   "execution_count": 8,
   "id": "3eb4c5a5",
   "metadata": {},
   "outputs": [],
   "source": [
    "with open(\"../MovieEdges/contrast_V3_90OnValids.json\", \"r\") as fj:\n",
    "    contrast = json.load(fj)[\"contrast\"]"
   ]
  },
  {
   "cell_type": "code",
   "execution_count": 12,
   "id": "983a17a6",
   "metadata": {},
   "outputs": [],
   "source": [
    "data = {}\n",
    "for ds, staging, dsname in zip([\"edges\",\"edges\"], [\"variance_edges\",\"edge_cells_midpoint_expanded\"], [\"nonedge\",\"edge\"]):\n",
    "\n",
    "    inner_alias = control_main.get_inner_most_alias_to_parameterize()\n",
    "    outer_alias = control_main.get_outer_most_alias_to_parameterize()\n",
    "    inner_mesh = device_main.read_vtk_polydata(f\"avgshape/{ds}_{inner_alias}_matched.vtk\")\n",
    "    outer_mesh = device_main.read_vtk_polydata(f\"avgshape/{ds}_{outer_alias}_matched.vtk\")\n",
    "    \n",
    "    path_step = Path(f\"/allen/aics/assay-dev/MicroscopyOtherData/Viana/projects/cvapipe_analysis/local_staging_{staging}/shapemode\")\n",
    "    control, device = common.get_managers_from_step_path(path_step)\n",
    "\n",
    "    row = pd.Series({\"shape_mode\": \"NUC_MEM_PC1\", \"mpId\": 1, \"aggtype\": \"avg\", \"alias\": \"STR\"})\n",
    "    domain, domain_nuc, domain_mem, coords_param = common.get_map_point_shape(control, device, row, inner_mesh=inner_mesh, outer_mesh=outer_mesh)\n",
    "\n",
    "    morphs = {}\n",
    "    for gene in genes:\n",
    "        row[\"structure\"] = gene\n",
    "        rep = device.read_agg_parameterized_intensity(row)\n",
    "        morphed = cytoparam.morph_representation_on_shape(\n",
    "            img=domain,\n",
    "            param_img_coords=coords_param,\n",
    "            representation=rep\n",
    "        )\n",
    "        morphed = np.stack([domain_nuc, domain_mem, morphed], axis=0)\n",
    "        morphs[gene] = morphed\n",
    "    data[dsname] = morphs"
   ]
  },
  {
   "cell_type": "code",
   "execution_count": 13,
   "id": "ebc5b4eb",
   "metadata": {},
   "outputs": [],
   "source": [
    "mode = {\"nuc\": \"center_nuc\", \"mem\": \"center_nuc\", \"gfp\": \"center_nuc\"}\n",
    "args = {\"gridspec_kw\": {\"hspace\": 0, \"wspace\": 0}, \"sharex\": True, \"sharey\": True}"
   ]
  },
  {
   "cell_type": "code",
   "execution_count": 19,
   "id": "944c3f4b",
   "metadata": {},
   "outputs": [],
   "source": [
    "gene = genes[0]"
   ]
  },
  {
   "cell_type": "code",
   "execution_count": 20,
   "id": "f817480a",
   "metadata": {},
   "outputs": [
    {
     "data": {
      "image/png": "[encoded data removed]",
      "text/plain": [
       "<Figure size 288x144 with 2 Axes>"
      ]
     },
     "metadata": {
      "needs_background": "light"
     },
     "output_type": "display_data"
    },
    {
     "data": {
      "image/png": "[encoded data removed]",
      "text/plain": [
       "<Figure size 288x144 with 2 Axes>"
      ]
     },
     "metadata": {
      "needs_background": "light"
     },
     "output_type": "display_data"
    },
    {
     "data": {
      "image/png": "[encoded data removed]",
      "text/plain": [
       "<Figure size 288x144 with 2 Axes>"
      ]
     },
     "metadata": {
      "needs_background": "light"
     },
     "output_type": "display_data"
    },
    {
     "data": {
      "image/png": "[encoded data removed]",
      "text/plain": [
       "<Figure size 288x144 with 2 Axes>"
      ]
     },
     "metadata": {
      "needs_background": "light"
     },
     "output_type": "display_data"
    }
   ],
   "source": [
    "for orient in [\"z\", \"y\"]:\n",
    "    for alias in [\"nuc\", \"mem\"]:\n",
    "        fig, axs = plt.subplots(1,2, figsize=(4, 2), **args)\n",
    "        for ax, (pheno, instance) in zip(axs, data.items()):\n",
    "            ax.axis(\"off\")\n",
    "            proj = common.Projector(instance[gene])\n",
    "            proj.set_projection_mode(ax=orient, mode=mode)\n",
    "            proj.project_on(alias=alias, ax=ax, scale_bar={\"pixel_size\":0.108, \"length\":5})\n",
    "        plt.savefig(f\"FigureEdges2_{gene}_{alias}_{orient}.png\", dpi=150)\n",
    "        plt.show()"
   ]
  },
  {
   "cell_type": "code",
   "execution_count": 22,
   "id": "1fd185ac",
   "metadata": {},
   "outputs": [],
   "source": [
    "orients = [\"z\", \"y\"]\n",
    "vmax = np.max([contrast[gene][ax][1] for ax in orients])"
   ]
  },
  {
   "cell_type": "code",
   "execution_count": 24,
   "id": "7f6f94ff",
   "metadata": {},
   "outputs": [
    {
     "data": {
      "image/png": "[encoded data removed]",
      "text/plain": [
       "<Figure size 288x144 with 2 Axes>"
      ]
     },
     "metadata": {
      "needs_background": "light"
     },
     "output_type": "display_data"
    },
    {
     "data": {
      "image/png": "[encoded data removed]",
      "text/plain": [
       "<Figure size 288x144 with 2 Axes>"
      ]
     },
     "metadata": {
      "needs_background": "light"
     },
     "output_type": "display_data"
    }
   ],
   "source": [
    "for orient in orients:\n",
    "    fig, axs = plt.subplots(1,2, figsize=(4, 2), **args)\n",
    "    for ax, (pheno, instance) in zip(axs, data.items()):\n",
    "        ax.axis(\"off\")\n",
    "        proj = common.Projector(instance[gene])\n",
    "        proj.set_projection_mode(ax=orient, mode=mode)\n",
    "        proj.set_vmin_vmax_gfp_values(0, vmax)\n",
    "        view = proj.project_on(alias=\"gfp\", ax=ax)\n",
    "    plt.savefig(f\"FigureEdges2_{gene}_gfp_{orient}.png\", dpi=150)\n",
    "    plt.show()"
   ]
  },
  {
   "cell_type": "code",
   "execution_count": 25,
   "id": "8279f9c7",
   "metadata": {},
   "outputs": [
    {
     "name": "stdout",
     "output_type": "stream",
     "text": [
      "complete 2022-06-26 16:11:05\n"
     ]
    }
   ],
   "source": [
    "common.now(\"complete\")"
   ]
  },
  {
   "cell_type": "code",
   "execution_count": null,
   "id": "45f830fe",
   "metadata": {},
   "outputs": [],
   "source": []
  }
 ],
 "metadata": {
  "kernelspec": {
   "display_name": "Python 3 (ipykernel)",
   "language": "python",
   "name": "python3"
  },
  "language_info": {
   "codemirror_mode": {
    "name": "ipython",
    "version": 3
   },
   "file_extension": ".py",
   "mimetype": "text/x-python",
   "name": "python",
   "nbconvert_exporter": "python",
   "pygments_lexer": "ipython3",
   "version": "3.8.12"
  }
 },
 "nbformat": 4,
 "nbformat_minor": 5
}
