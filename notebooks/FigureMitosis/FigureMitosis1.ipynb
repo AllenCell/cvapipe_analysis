{
 "cells": [
  {
   "cell_type": "code",
   "execution_count": 1,
   "id": "33b42dcb",
   "metadata": {},
   "outputs": [],
   "source": [
    "# Histograms for interphase vs. mitotic matched datasets. To run this notebook\n",
    "# one needs to run the package variance-paper-reply* first.\n",
    "#\n",
    "# *needs renaming it after paper resubmission: suggested name cvapipe_mapping"
   ]
  },
  {
   "cell_type": "code",
   "execution_count": 2,
   "id": "81547c39",
   "metadata": {},
   "outputs": [
    {
     "name": "stdout",
     "output_type": "stream",
     "text": [
      "Mon Feb 28 21:10:36 PST 2022\n",
      "/allen/aics/assay-dev/MicroscopyOtherData/Viana/projects/cvapipe_analysis/local_staging_notebooks/FigureMitosis\n"
     ]
    }
   ],
   "source": [
    "!date\n",
    "!pwd"
   ]
  },
  {
   "cell_type": "code",
   "execution_count": 1,
   "id": "54ed7eff",
   "metadata": {},
   "outputs": [],
   "source": [
    "import os\n",
    "import sys\n",
    "import importlib\n",
    "import concurrent\n",
    "import numpy as np\n",
    "import pandas as pd\n",
    "from pathlib import Path\n",
    "from tqdm.notebook import tqdm\n",
    "from skimage import io as skio\n",
    "import matplotlib.pyplot as plt\n",
    "from aicscytoparam import cytoparam\n",
    "from aicsshparam import shtools, shparam\n",
    "from aicsimageio import AICSImage\n",
    "from aicsimageio.writers import OmeTiffWriter\n",
    "from cvapipe_analysis.tools import io, viz, general, controller, shapespace, plotting\n",
    "\n",
    "sys.path.insert(1, '../tools')\n",
    "import common"
   ]
  },
  {
   "cell_type": "code",
   "execution_count": 2,
   "id": "b0812a55",
   "metadata": {},
   "outputs": [
    {
     "name": "stdout",
     "output_type": "stream",
     "text": [
      "(202847, 1290) /allen/aics/assay-dev/MicroscopyOtherData/Viana/projects/cvapipe_analysis/local_staging_variance\n"
     ]
    }
   ],
   "source": [
    "# Controller form cvapipe_analysis\n",
    "path_config = Path(\"/allen/aics/assay-dev/MicroscopyOtherData/Viana/projects/cvapipe_analysis/\")\n",
    "control = controller.Controller(general.load_config_file(path_config))\n",
    "device = io.LocalStagingIO(control)\n",
    "df = device.load_step_manifest(\"preprocessing\")\n",
    "print(df.shape, control.get_staging())"
   ]
  },
  {
   "cell_type": "code",
   "execution_count": 5,
   "id": "02639892",
   "metadata": {},
   "outputs": [],
   "source": [
    "space = shapespace.ShapeSpace(control)\n",
    "space.execute(df)"
   ]
  },
  {
   "cell_type": "code",
   "execution_count": 6,
   "id": "1f3f0bd2",
   "metadata": {},
   "outputs": [],
   "source": [
    "path_cvapipe = Path(control.get_staging()).parent\n",
    "datasets = {\n",
    "    \"M1M2\": {\n",
    "        \"control\": f\"{path_cvapipe}/local_staging_variance_m1m2\",\n",
    "        \"perturbed\": f\"{path_cvapipe}/local_staging_m1m2\"\n",
    "    },\n",
    "    \"M3\": {\n",
    "        \"control\": f\"{path_cvapipe}/local_staging_variance_m3\",\n",
    "        \"perturbed\": f\"{path_cvapipe}/local_staging_m3\"\n",
    "    }}"
   ]
  },
  {
   "cell_type": "code",
   "execution_count": 7,
   "id": "78928dad",
   "metadata": {},
   "outputs": [
    {
     "name": "stdout",
     "output_type": "stream",
     "text": [
      "\tM1M2 loaded. (2201, 1255)\n",
      "\tM3 loaded. (981, 1255)\n"
     ]
    }
   ],
   "source": [
    "smapper = shapespace.ShapeSpaceMapper(space, output_folder=\"./\")\n",
    "smapper.use_full_base_dataset()\n",
    "smapper.set_make_plots_off()\n",
    "smapper.set_distance_threshold(1e10)\n",
    "smapper.map(datasets)"
   ]
  },
  {
   "cell_type": "code",
   "execution_count": 8,
   "id": "0fff0ec6",
   "metadata": {},
   "outputs": [
    {
     "data": {
      "text/plain": [
       "<module 'cvapipe_analysis.tools.plotting' from '/allen/aics/assay-dev/MicroscopyOtherData/Viana/projects/cvapipe_analysis/cvapipe_analysis/tools/plotting.py'>"
      ]
     },
     "execution_count": 8,
     "metadata": {},
     "output_type": "execute_result"
    }
   ],
   "source": [
    "importlib.reload(plotting)"
   ]
  },
  {
   "cell_type": "code",
   "execution_count": 9,
   "id": "52cbb222",
   "metadata": {},
   "outputs": [
    {
     "data": {
      "image/png": "[encoded data removed]",
      "text/plain": [
       "<Figure size 864x108 with 8 Axes>"
      ]
     },
     "metadata": {
      "needs_background": "light"
     },
     "output_type": "display_data"
    },
    {
     "data": {
      "image/png": "[encoded data removed]",
      "text/plain": [
       "<Figure size 864x108 with 8 Axes>"
      ]
     },
     "metadata": {
      "needs_background": "light"
     },
     "output_type": "display_data"
    },
    {
     "data": {
      "image/png": "[encoded data removed]",
      "text/plain": [
       "<Figure size 864x108 with 8 Axes>"
      ]
     },
     "metadata": {
      "needs_background": "light"
     },
     "output_type": "display_data"
    },
    {
     "data": {
      "image/png": "[encoded data removed]",
      "text/plain": [
       "<Figure size 864x108 with 8 Axes>"
      ]
     },
     "metadata": {
      "needs_background": "light"
     },
     "output_type": "display_data"
    }
   ],
   "source": [
    "pmaker = plotting.ShapeSpaceMapperPlotMaker(control, \"./\")\n",
    "pmaker.set_dataframe(smapper.result)\n",
    "pmaker.plot_mapping_1d(display_both=False)"
   ]
  },
  {
   "cell_type": "code",
   "execution_count": 44,
   "id": "8ed250db",
   "metadata": {},
   "outputs": [],
   "source": [
    "for fig, desc in pmaker.figs:\n",
    "    fig.savefig(f\"hists_{desc}.pdf\")"
   ]
  },
  {
   "cell_type": "markdown",
   "id": "a936725d",
   "metadata": {},
   "source": [
    "### Reconstruct shapes of individual and matched datasets"
   ]
  },
  {
   "cell_type": "code",
   "execution_count": 12,
   "id": "c06aec84",
   "metadata": {},
   "outputs": [],
   "source": [
    "instances = {}\n",
    "# Loop over all cells, edge cells and cells from shape matched dataset\n",
    "for dsname in datasets.keys():\n",
    "    instances[dsname] = []\n",
    "    for prefix, suffix in zip([\"base\", dsname, dsname], [\"\", \"\", \"_base_matched\"]):\n",
    "        nisos = control.get_number_of_interpolating_points()\n",
    "        inner_alias = control.get_inner_most_alias_to_parameterize()\n",
    "        fname = f\"avgshape/{prefix}_{inner_alias}{suffix}.vtk\"\n",
    "        inner_mesh = device.read_vtk_polydata(fname)\n",
    "        outer_alias = control.get_outer_most_alias_to_parameterize()\n",
    "        fname = f\"avgshape/{prefix}_{outer_alias}{suffix}.vtk\"\n",
    "        outer_mesh = device.read_vtk_polydata(fname)\n",
    "        domain, _ = cytoparam.voxelize_meshes([outer_mesh, inner_mesh])\n",
    "\n",
    "        domain_nuc = (255*(domain>1)).astype(np.uint8)\n",
    "        domain_mem = (255*(domain>0)).astype(np.uint8)\n",
    "\n",
    "        instances[dsname].append(np.stack([domain_nuc, domain_mem, domain_mem], axis=0))"
   ]
  },
  {
   "cell_type": "code",
   "execution_count": 15,
   "id": "64a3c509",
   "metadata": {},
   "outputs": [
    {
     "data": {
      "image/png": "[encoded data removed]",
      "text/plain": [
       "<Figure size 432x144 with 3 Axes>"
      ]
     },
     "metadata": {
      "needs_background": "light"
     },
     "output_type": "display_data"
    },
    {
     "data": {
      "image/png": "[encoded data removed]",
      "text/plain": [
       "<Figure size 432x144 with 3 Axes>"
      ]
     },
     "metadata": {
      "needs_background": "light"
     },
     "output_type": "display_data"
    },
    {
     "data": {
      "image/png": "[encoded data removed]",
      "text/plain": [
       "<Figure size 432x144 with 3 Axes>"
      ]
     },
     "metadata": {
      "needs_background": "light"
     },
     "output_type": "display_data"
    },
    {
     "data": {
      "image/png": "[encoded data removed]",
      "text/plain": [
       "<Figure size 432x144 with 3 Axes>"
      ]
     },
     "metadata": {
      "needs_background": "light"
     },
     "output_type": "display_data"
    },
    {
     "data": {
      "image/png": "[encoded data removed]",
      "text/plain": [
       "<Figure size 432x144 with 3 Axes>"
      ]
     },
     "metadata": {
      "needs_background": "light"
     },
     "output_type": "display_data"
    },
    {
     "data": {
      "image/png": "[encoded data removed]",
      "text/plain": [
       "<Figure size 432x144 with 3 Axes>"
      ]
     },
     "metadata": {
      "needs_background": "light"
     },
     "output_type": "display_data"
    },
    {
     "data": {
      "image/png": "[encoded data removed]",
      "text/plain": [
       "<Figure size 432x144 with 3 Axes>"
      ]
     },
     "metadata": {
      "needs_background": "light"
     },
     "output_type": "display_data"
    },
    {
     "data": {
      "image/png": "[encoded data removed]",
      "text/plain": [
       "<Figure size 432x144 with 3 Axes>"
      ]
     },
     "metadata": {
      "needs_background": "light"
     },
     "output_type": "display_data"
    },
    {
     "data": {
      "image/png": "[encoded data removed]",
      "text/plain": [
       "<Figure size 432x144 with 3 Axes>"
      ]
     },
     "metadata": {
      "needs_background": "light"
     },
     "output_type": "display_data"
    },
    {
     "data": {
      "image/png": "[encoded data removed]",
      "text/plain": [
       "<Figure size 432x144 with 3 Axes>"
      ]
     },
     "metadata": {
      "needs_background": "light"
     },
     "output_type": "display_data"
    },
    {
     "data": {
      "image/png": "[encoded data removed]",
      "text/plain": [
       "<Figure size 432x144 with 3 Axes>"
      ]
     },
     "metadata": {
      "needs_background": "light"
     },
     "output_type": "display_data"
    },
    {
     "data": {
      "image/png": "[encoded data removed]",
      "text/plain": [
       "<Figure size 432x144 with 3 Axes>"
      ]
     },
     "metadata": {
      "needs_background": "light"
     },
     "output_type": "display_data"
    }
   ],
   "source": [
    "mode = {\n",
    "    \"nuc\": \"center_nuc\",\n",
    "    \"mem\": \"center_nuc\",\n",
    "    \"gfp\": \"center_nuc\"\n",
    "}\n",
    "args = {\"gridspec_kw\": {\"hspace\": 0, \"wspace\": -0.1}, \"sharex\": True, \"sharey\": True}\n",
    "for dsname in datasets.keys():\n",
    "    for orient in [\"z\", \"y\", \"x\"]:\n",
    "        for alias in [\"nuc\", \"mem\"]:\n",
    "            fig, axs = plt.subplots(1,len(instances[dsname]), figsize=(2*len(instances[dsname]), 2), **args)\n",
    "            for ax, instance in zip(axs, instances[dsname]):\n",
    "                ax.axis(\"off\")\n",
    "                proj = common.Projector(instance, box_size=300)\n",
    "                proj.set_projection_mode(ax=orient, mode=mode)\n",
    "                proj.project_on(alias=alias, ax=ax, scale_bar={\"pixel_size\":0.108, \"length\":5})\n",
    "            plt.savefig(f\"FigureMitosis1_shapes_{dsname}_{alias}_{orient}.png\", dpi=150)\n",
    "            plt.show()"
   ]
  },
  {
   "cell_type": "code",
   "execution_count": 16,
   "id": "f71561b5",
   "metadata": {},
   "outputs": [],
   "source": [
    "# if you have time can you send me the correlation value between:\n",
    "# PC1 and height for allCells, edgeCells, nonEdgeCells\n",
    "# PC2 and height for allCells, edgeCells, nonEdgeCells\n",
    "# PC1 and PC2 for allCells, edgeCells, nonEdgeCells\n",
    "# height and volume for allCells, edgeCells, nonEdgeCells\n",
    "# Perhaps it would be good to get these numbers for M1M2 and M3 also… just in case\n",
    "# (this relates to stuff you and Theo were disucssing but it has general implications\n",
    "#  that affect also scaling results) (e"
   ]
  },
  {
   "cell_type": "code",
   "execution_count": 11,
   "id": "e4251c2a",
   "metadata": {},
   "outputs": [
    {
     "data": {
      "text/html": [
       "<div>\n",
       "<style scoped>\n",
       "    .dataframe tbody tr th:only-of-type {\n",
       "        vertical-align: middle;\n",
       "    }\n",
       "\n",
       "    .dataframe tbody tr th {\n",
       "        vertical-align: top;\n",
       "    }\n",
       "\n",
       "    .dataframe thead th {\n",
       "        text-align: right;\n",
       "    }\n",
       "</style>\n",
       "<table border=\"1\" class=\"dataframe\">\n",
       "  <thead>\n",
       "    <tr style=\"text-align: right;\">\n",
       "      <th></th>\n",
       "      <th>PC1</th>\n",
       "      <th>PC2</th>\n",
       "      <th>Volume</th>\n",
       "      <th>Height</th>\n",
       "    </tr>\n",
       "  </thead>\n",
       "  <tbody>\n",
       "    <tr>\n",
       "      <th>PC1</th>\n",
       "      <td>1.000000</td>\n",
       "      <td>-0.040731</td>\n",
       "      <td>0.577904</td>\n",
       "      <td>0.928708</td>\n",
       "    </tr>\n",
       "    <tr>\n",
       "      <th>PC2</th>\n",
       "      <td>-0.040731</td>\n",
       "      <td>1.000000</td>\n",
       "      <td>0.622820</td>\n",
       "      <td>-0.183600</td>\n",
       "    </tr>\n",
       "    <tr>\n",
       "      <th>Volume</th>\n",
       "      <td>0.577904</td>\n",
       "      <td>0.622820</td>\n",
       "      <td>1.000000</td>\n",
       "      <td>0.466443</td>\n",
       "    </tr>\n",
       "    <tr>\n",
       "      <th>Height</th>\n",
       "      <td>0.928708</td>\n",
       "      <td>-0.183600</td>\n",
       "      <td>0.466443</td>\n",
       "      <td>1.000000</td>\n",
       "    </tr>\n",
       "  </tbody>\n",
       "</table>\n",
       "</div>"
      ],
      "text/plain": [
       "             PC1       PC2    Volume    Height\n",
       "PC1     1.000000 -0.040731  0.577904  0.928708\n",
       "PC2    -0.040731  1.000000  0.622820 -0.183600\n",
       "Volume  0.577904  0.622820  1.000000  0.466443\n",
       "Height  0.928708 -0.183600  0.466443  1.000000"
      ]
     },
     "execution_count": 11,
     "metadata": {},
     "output_type": "execute_result"
    }
   ],
   "source": [
    "# Controller form cvapipe_analysis\n",
    "path_config = Path(\"/allen/aics/assay-dev/MicroscopyOtherData/Viana/projects/cvapipe_analysis/\")\n",
    "config = general.load_config_file(path_config)\n",
    "config[\"project\"][\"local_staging\"] = \"/allen/aics/assay-dev/MicroscopyOtherData/Viana/projects/cvapipe_analysis/local_staging_m3\"\n",
    "control = controller.Controller(config)\n",
    "device = io.LocalStagingIO(control)\n",
    "df = device.load_step_manifest(\"preprocessing\")\n",
    "\n",
    "space = shapespace.ShapeSpace(control)\n",
    "space.execute(df)\n",
    "\n",
    "names = [\"PC1\", \"PC2\", \"Volume\", \"Height\"]\n",
    "feats = [space.shape_modes.NUC_MEM_PC1, space.shape_modes.NUC_MEM_PC2, df.loc[space.shape_modes.index, \"MEM_shape_volume\"], df.loc[space.shape_modes.index, \"MEM_position_depth\"]]\n",
    "\n",
    "data = pd.DataFrame(np.zeros((len(names), len(names))), index=names, columns=names)\n",
    "for n1, f1 in zip(names, feats):\n",
    "    for n2, f2 in zip(names, feats):\n",
    "        data.at[n1,n2] = np.corrcoef(f1,f2)[0, 1]\n",
    "\n",
    "data"
   ]
  },
  {
   "cell_type": "code",
   "execution_count": 4,
   "id": "f83a1d5c",
   "metadata": {},
   "outputs": [
    {
     "ename": "TypeError",
     "evalue": "Cannot interpret '4' as a data type",
     "output_type": "error",
     "traceback": [
      "\u001b[0;31m---------------------------------------------------------------------------\u001b[0m",
      "\u001b[0;31mTypeError\u001b[0m                                 Traceback (most recent call last)",
      "\u001b[0;32m/tmp/ipykernel_21283/1058049356.py\u001b[0m in \u001b[0;36m<module>\u001b[0;34m\u001b[0m\n\u001b[0;32m----> 1\u001b[0;31m \u001b[0mnp\u001b[0m\u001b[0;34m.\u001b[0m\u001b[0mzeros\u001b[0m\u001b[0;34m(\u001b[0m\u001b[0mlen\u001b[0m\u001b[0;34m(\u001b[0m\u001b[0mnames\u001b[0m\u001b[0;34m)\u001b[0m\u001b[0;34m,\u001b[0m \u001b[0mlen\u001b[0m\u001b[0;34m(\u001b[0m\u001b[0mnames\u001b[0m\u001b[0;34m)\u001b[0m\u001b[0;34m)\u001b[0m\u001b[0;34m\u001b[0m\u001b[0;34m\u001b[0m\u001b[0m\n\u001b[0m",
      "\u001b[0;31mTypeError\u001b[0m: Cannot interpret '4' as a data type"
     ]
    }
   ],
   "source": [
    "np.zeros((len(names), len(names)))"
   ]
  },
  {
   "cell_type": "code",
   "execution_count": 19,
   "id": "006018ed",
   "metadata": {},
   "outputs": [
    {
     "data": {
      "text/plain": [
       "0.9226805110837694"
      ]
     },
     "execution_count": 19,
     "metadata": {},
     "output_type": "execute_result"
    }
   ],
   "source": [
    "allcells, 0.92, -0.04, -0.02, 0.32\n",
    "nonedges, 0.91, -0.08, -0.01, 0.37\n",
    "edges, 0.80, 0.20, -0.00, 0.35\n",
    "non-m1m2, 0.94, -0.00, -0.01, 0.42\n",
    "m1m2, 0.94, -0.05, -0.03, 0.40\n",
    "non-m3, 0.96, -0.03, -0.05, 0.47\n",
    "m3, 0.93, -0.18, -0.04, 0.47"
   ]
  },
  {
   "cell_type": "code",
   "execution_count": null,
   "id": "8ea36cf1",
   "metadata": {},
   "outputs": [],
   "source": [
    "          PC1xH PC2xH  PC2xV PC1xPC2 HxV\n",
    "allcells, 0.92, -0.04, 0.87, -0.02, -0.02\n",
    "nonedges, 0.91, -0.08, 0.74, -0.01, -0.01\n",
    "edges,    0.80,  0.20, 0.58, -0.00, -0.00\n",
    "non-m1m2, 0.94, -0.00, 0.64, -0.01, -0.01\n",
    "m1m2,     0.94, -0.05, 0.79, -0.03, -0.03\n",
    "non-m3,   0.96, -0.03, 0.84, -0.05, -0.05 \n",
    "m3,       0.93, -0.18, 0.62, -0.04, -0.04"
   ]
  }
 ],
 "metadata": {
  "kernelspec": {
   "display_name": "Python 3 (ipykernel)",
   "language": "python",
   "name": "python3"
  },
  "language_info": {
   "codemirror_mode": {
    "name": "ipython",
    "version": 3
   },
   "file_extension": ".py",
   "mimetype": "text/x-python",
   "name": "python",
   "nbconvert_exporter": "python",
   "pygments_lexer": "ipython3",
   "version": "3.8.12"
  }
 },
 "nbformat": 4,
 "nbformat_minor": 5
}
