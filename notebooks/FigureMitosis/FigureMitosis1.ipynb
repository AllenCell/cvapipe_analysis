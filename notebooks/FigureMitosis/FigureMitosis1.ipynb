{
 "cells": [
  {
   "cell_type": "code",
   "execution_count": 1,
   "id": "33b42dcb",
   "metadata": {},
   "outputs": [],
   "source": [
    "# Histograms for interphase vs. mitotic matched datasets."
   ]
  },
  {
   "cell_type": "code",
   "execution_count": 2,
   "id": "81547c39",
   "metadata": {},
   "outputs": [
    {
     "name": "stdout",
     "output_type": "stream",
     "text": [
      "Tue Jul  5 14:13:59 PDT 2022\n",
      "/allen/aics/assay-dev/MicroscopyOtherData/Viana/projects/cvapipe_analysis/local_staging_notebooks/FigureMitosis\n"
     ]
    }
   ],
   "source": [
    "!date\n",
    "!pwd"
   ]
  },
  {
   "cell_type": "code",
   "execution_count": 3,
   "id": "54ed7eff",
   "metadata": {},
   "outputs": [],
   "source": [
    "import os\n",
    "import sys\n",
    "import importlib\n",
    "import concurrent\n",
    "import numpy as np\n",
    "import pandas as pd\n",
    "from pathlib import Path\n",
    "from tqdm.notebook import tqdm\n",
    "from skimage import io as skio\n",
    "import matplotlib.pyplot as plt\n",
    "from aicscytoparam import cytoparam\n",
    "from aicsshparam import shtools, shparam\n",
    "from aicsimageio import AICSImage\n",
    "from aicsimageio.writers import OmeTiffWriter\n",
    "from cvapipe_analysis.tools import io, viz, general, controller, shapespace, plotting\n",
    "\n",
    "sys.path.insert(1, '../tools')\n",
    "import common"
   ]
  },
  {
   "cell_type": "code",
   "execution_count": 4,
   "id": "b0812a55",
   "metadata": {},
   "outputs": [
    {
     "name": "stdout",
     "output_type": "stream",
     "text": [
      "(202847, 1290) /allen/aics/assay-dev/MicroscopyOtherData/Viana/projects/cvapipe_analysis/local_staging_variance\n"
     ]
    }
   ],
   "source": [
    "# Controller form cvapipe_analysis\n",
    "path_config = Path(\"/allen/aics/assay-dev/MicroscopyOtherData/Viana/projects/cvapipe_analysis/\")\n",
    "control = controller.Controller(general.load_config_file(path_config))\n",
    "device = io.LocalStagingIO(control)\n",
    "df = device.load_step_manifest(\"preprocessing\")\n",
    "print(df.shape, control.get_staging())"
   ]
  },
  {
   "cell_type": "code",
   "execution_count": 5,
   "id": "02639892",
   "metadata": {},
   "outputs": [],
   "source": [
    "space = shapespace.ShapeSpace(control)\n",
    "space.execute(df)"
   ]
  },
  {
   "cell_type": "code",
   "execution_count": 6,
   "id": "1f3f0bd2",
   "metadata": {},
   "outputs": [],
   "source": [
    "path_cvapipe = Path(control.get_staging()).parent\n",
    "datasets = {\n",
    "    \"M1M2\": {\n",
    "        \"control\": f\"{path_cvapipe}/local_staging_variance_m1m2\",\n",
    "        \"perturbed\": f\"{path_cvapipe}/local_staging_m1m2\"\n",
    "    },\n",
    "    \"M3\": {\n",
    "        \"control\": f\"{path_cvapipe}/local_staging_variance_m3\",\n",
    "        \"perturbed\": f\"{path_cvapipe}/local_staging_m3\"\n",
    "    }}"
   ]
  },
  {
   "cell_type": "code",
   "execution_count": 7,
   "id": "78928dad",
   "metadata": {},
   "outputs": [
    {
     "name": "stdout",
     "output_type": "stream",
     "text": [
      "\tM1M2 loaded. (2201, 1255)\n",
      "\tM3 loaded. (981, 1255)\n"
     ]
    }
   ],
   "source": [
    "smapper = shapespace.ShapeSpaceMapper(space, output_folder=\"./\")\n",
    "smapper.use_full_base_dataset()\n",
    "smapper.set_make_plots_off()\n",
    "smapper.set_distance_threshold(1e10)\n",
    "smapper.map(datasets)"
   ]
  },
  {
   "cell_type": "code",
   "execution_count": 8,
   "id": "0fff0ec6",
   "metadata": {},
   "outputs": [
    {
     "data": {
      "text/plain": [
       "<module 'cvapipe_analysis.tools.plotting' from '/allen/aics/assay-dev/MicroscopyOtherData/Viana/projects/cvapipe_analysis/cvapipe_analysis/tools/plotting.py'>"
      ]
     },
     "execution_count": 8,
     "metadata": {},
     "output_type": "execute_result"
    }
   ],
   "source": [
    "importlib.reload(plotting)"
   ]
  },
  {
   "cell_type": "code",
   "execution_count": 9,
   "id": "52cbb222",
   "metadata": {},
   "outputs": [
    {
     "data": {
      "image/png": "[encoded data removed]",
      "text/plain": [
       "<Figure size 864x108 with 8 Axes>"
      ]
     },
     "metadata": {
      "needs_background": "light"
     },
     "output_type": "display_data"
    },
    {
     "data": {
      "image/png": "[encoded data removed]",
      "text/plain": [
       "<Figure size 864x108 with 8 Axes>"
      ]
     },
     "metadata": {
      "needs_background": "light"
     },
     "output_type": "display_data"
    },
    {
     "data": {
      "image/png": "[encoded data removed]",
      "text/plain": [
       "<Figure size 864x108 with 8 Axes>"
      ]
     },
     "metadata": {
      "needs_background": "light"
     },
     "output_type": "display_data"
    },
    {
     "data": {
      "image/png": "[encoded data removed]",
      "text/plain": [
       "<Figure size 864x108 with 8 Axes>"
      ]
     },
     "metadata": {
      "needs_background": "light"
     },
     "output_type": "display_data"
    }
   ],
   "source": [
    "pmaker = plotting.ShapeSpaceMapperPlotMaker(control, \"./\")\n",
    "pmaker.set_dataframe(smapper.result)\n",
    "pmaker.plot_mapping_1d(display_both=False)"
   ]
  },
  {
   "cell_type": "code",
   "execution_count": 10,
   "id": "8ed250db",
   "metadata": {},
   "outputs": [],
   "source": [
    "for fig, desc in pmaker.figs:\n",
    "    fig.savefig(f\"hists_{desc}.pdf\")"
   ]
  },
  {
   "cell_type": "markdown",
   "id": "a936725d",
   "metadata": {},
   "source": [
    "### Reconstruct shapes of individual and matched datasets"
   ]
  },
  {
   "cell_type": "code",
   "execution_count": 11,
   "id": "c06aec84",
   "metadata": {},
   "outputs": [],
   "source": [
    "instances = {}\n",
    "# Loop over all cells, edge cells and cells from shape matched dataset\n",
    "for dsname in datasets.keys():\n",
    "    instances[dsname] = []\n",
    "    for prefix, suffix in zip([\"base\", dsname, dsname], [\"\", \"\", \"_base_matched\"]):\n",
    "        nisos = control.get_number_of_interpolating_points()\n",
    "        inner_alias = control.get_inner_most_alias_to_parameterize()\n",
    "        fname = f\"avgshape/{prefix}_{inner_alias}{suffix}.vtk\"\n",
    "        inner_mesh = device.read_vtk_polydata(fname)\n",
    "        outer_alias = control.get_outer_most_alias_to_parameterize()\n",
    "        fname = f\"avgshape/{prefix}_{outer_alias}{suffix}.vtk\"\n",
    "        outer_mesh = device.read_vtk_polydata(fname)\n",
    "        domain, _ = cytoparam.voxelize_meshes([outer_mesh, inner_mesh])\n",
    "\n",
    "        domain_nuc = (255*(domain>1)).astype(np.uint8)\n",
    "        domain_mem = (255*(domain>0)).astype(np.uint8)\n",
    "\n",
    "        instances[dsname].append(np.stack([domain_nuc, domain_mem, domain_mem], axis=0))"
   ]
  },
  {
   "cell_type": "code",
   "execution_count": 12,
   "id": "64a3c509",
   "metadata": {},
   "outputs": [
    {
     "data": {
      "image/png": "[encoded data removed]",
      "text/plain": [
       "<Figure size 432x144 with 3 Axes>"
      ]
     },
     "metadata": {
      "needs_background": "light"
     },
     "output_type": "display_data"
    },
    {
     "data": {
      "image/png": "[encoded data removed]",
      "text/plain": [
       "<Figure size 432x144 with 3 Axes>"
      ]
     },
     "metadata": {
      "needs_background": "light"
     },
     "output_type": "display_data"
    },
    {
     "data": {
      "image/png": "[encoded data removed]",
      "text/plain": [
       "<Figure size 432x144 with 3 Axes>"
      ]
     },
     "metadata": {
      "needs_background": "light"
     },
     "output_type": "display_data"
    },
    {
     "data": {
      "image/png": "[encoded data removed]",
      "text/plain": [
       "<Figure size 432x144 with 3 Axes>"
      ]
     },
     "metadata": {
      "needs_background": "light"
     },
     "output_type": "display_data"
    },
    {
     "data": {
      "image/png": "[encoded data removed]",
      "text/plain": [
       "<Figure size 432x144 with 3 Axes>"
      ]
     },
     "metadata": {
      "needs_background": "light"
     },
     "output_type": "display_data"
    },
    {
     "data": {
      "image/png": "[encoded data removed]",
      "text/plain": [
       "<Figure size 432x144 with 3 Axes>"
      ]
     },
     "metadata": {
      "needs_background": "light"
     },
     "output_type": "display_data"
    },
    {
     "data": {
      "image/png": "[encoded data removed]",
      "text/plain": [
       "<Figure size 432x144 with 3 Axes>"
      ]
     },
     "metadata": {
      "needs_background": "light"
     },
     "output_type": "display_data"
    },
    {
     "data": {
      "image/png": "[encoded data removed]",
      "text/plain": [
       "<Figure size 432x144 with 3 Axes>"
      ]
     },
     "metadata": {
      "needs_background": "light"
     },
     "output_type": "display_data"
    },
    {
     "data": {
      "image/png": "[encoded data removed]",
      "text/plain": [
       "<Figure size 432x144 with 3 Axes>"
      ]
     },
     "metadata": {
      "needs_background": "light"
     },
     "output_type": "display_data"
    },
    {
     "data": {
      "image/png": "[encoded data removed]",
      "text/plain": [
       "<Figure size 432x144 with 3 Axes>"
      ]
     },
     "metadata": {
      "needs_background": "light"
     },
     "output_type": "display_data"
    },
    {
     "data": {
      "image/png": "[encoded data removed]",
      "text/plain": [
       "<Figure size 432x144 with 3 Axes>"
      ]
     },
     "metadata": {
      "needs_background": "light"
     },
     "output_type": "display_data"
    },
    {
     "data": {
      "image/png": "[encoded data removed]",
      "text/plain": [
       "<Figure size 432x144 with 3 Axes>"
      ]
     },
     "metadata": {
      "needs_background": "light"
     },
     "output_type": "display_data"
    }
   ],
   "source": [
    "mode = {\n",
    "    \"nuc\": \"center_nuc\",\n",
    "    \"mem\": \"center_nuc\",\n",
    "    \"gfp\": \"center_nuc\"\n",
    "}\n",
    "args = {\"gridspec_kw\": {\"hspace\": 0, \"wspace\": -0.1}, \"sharex\": True, \"sharey\": True}\n",
    "for dsname in datasets.keys():\n",
    "    for orient in [\"z\", \"y\", \"x\"]:\n",
    "        for alias in [\"nuc\", \"mem\"]:\n",
    "            fig, axs = plt.subplots(1,len(instances[dsname]), figsize=(2*len(instances[dsname]), 2), **args)\n",
    "            for ax, instance in zip(axs, instances[dsname]):\n",
    "                ax.axis(\"off\")\n",
    "                proj = common.Projector(instance, box_size=300)\n",
    "                proj.set_projection_mode(ax=orient, mode=mode)\n",
    "                proj.project_on(alias=alias, ax=ax, scale_bar={\"pixel_size\":0.108, \"length\":5})\n",
    "            plt.savefig(f\"FigureMitosis1_shapes_{dsname}_{alias}_{orient}.png\", dpi=150)\n",
    "            plt.show()"
   ]
  },
  {
   "cell_type": "code",
   "execution_count": 13,
   "id": "3da166e2",
   "metadata": {},
   "outputs": [
    {
     "name": "stdout",
     "output_type": "stream",
     "text": [
      "complete. 2022-07-05 14:16:26\n"
     ]
    }
   ],
   "source": [
    "common.now(\"complete.\")"
   ]
  }
 ],
 "metadata": {
  "kernelspec": {
   "display_name": "Python 3 (ipykernel)",
   "language": "python",
   "name": "python3"
  },
  "language_info": {
   "codemirror_mode": {
    "name": "ipython",
    "version": 3
   },
   "file_extension": ".py",
   "mimetype": "text/x-python",
   "name": "python",
   "nbconvert_exporter": "python",
   "pygments_lexer": "ipython3",
   "version": "3.8.12"
  }
 },
 "nbformat": 4,
 "nbformat_minor": 5
}
