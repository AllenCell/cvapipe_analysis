{
 "cells": [
  {
   "cell_type": "code",
   "execution_count": 1,
   "id": "1167070b",
   "metadata": {},
   "outputs": [],
   "source": [
    "# Viz for stereotypy single column heatmap computed using cells from the 8dim sphere"
   ]
  },
  {
   "cell_type": "code",
   "execution_count": 2,
   "id": "8af6f299",
   "metadata": {},
   "outputs": [
    {
     "name": "stdout",
     "output_type": "stream",
     "text": [
      "Wed Feb 16 11:31:29 PST 2022\r\n"
     ]
    }
   ],
   "source": [
    "!date"
   ]
  },
  {
   "cell_type": "code",
   "execution_count": 3,
   "id": "232b26a7",
   "metadata": {},
   "outputs": [
    {
     "name": "stdout",
     "output_type": "stream",
     "text": [
      "/allen/aics/assay-dev/MicroscopyOtherData/Viana/projects/cvapipe_analysis/local_staging_notebooks/FigureVariation\r\n"
     ]
    }
   ],
   "source": [
    "!pwd"
   ]
  },
  {
   "cell_type": "code",
   "execution_count": 4,
   "id": "38fbfcd9",
   "metadata": {},
   "outputs": [],
   "source": [
    "import numpy as np\n",
    "import pandas as pd\n",
    "from tqdm import tqdm\n",
    "from pathlib import Path\n",
    "from skimage import io as skio\n",
    "import matplotlib.pyplot as plt\n",
    "from cvapipe_analysis.tools import io, viz, general, controller, shapespace, plotting\n",
    "\n",
    "# import mouskatools"
   ]
  },
  {
   "cell_type": "code",
   "execution_count": 5,
   "id": "ef2c2f14",
   "metadata": {},
   "outputs": [
    {
     "name": "stdout",
     "output_type": "stream",
     "text": [
      "/allen/aics/assay-dev/MicroscopyOtherData/Viana/projects/cvapipe_analysis/local_staging_variance\n"
     ]
    }
   ],
   "source": [
    "# Controller form cvapipe_analysis\n",
    "path_config = Path(\"/allen/aics/assay-dev/MicroscopyOtherData/Viana/projects/cvapipe_analysis/\")\n",
    "control = controller.Controller(general.load_config_file(path_config))\n",
    "device = io.LocalStagingIO(control)\n",
    "print(control.get_staging())"
   ]
  },
  {
   "cell_type": "code",
   "execution_count": 6,
   "id": "2d5e3f43",
   "metadata": {},
   "outputs": [
    {
     "data": {
      "text/html": [
       "<div>\n",
       "<style scoped>\n",
       "    .dataframe tbody tr th:only-of-type {\n",
       "        vertical-align: middle;\n",
       "    }\n",
       "\n",
       "    .dataframe tbody tr th {\n",
       "        vertical-align: top;\n",
       "    }\n",
       "\n",
       "    .dataframe thead th {\n",
       "        text-align: right;\n",
       "    }\n",
       "</style>\n",
       "<table border=\"1\" class=\"dataframe\">\n",
       "  <thead>\n",
       "    <tr style=\"text-align: right;\">\n",
       "      <th></th>\n",
       "      <th>shape_mode</th>\n",
       "      <th>mpId</th>\n",
       "      <th>aggtype</th>\n",
       "      <th>alias</th>\n",
       "    </tr>\n",
       "  </thead>\n",
       "  <tbody>\n",
       "    <tr>\n",
       "      <th>0</th>\n",
       "      <td>NdSphere</td>\n",
       "      <td>5</td>\n",
       "      <td>avg</td>\n",
       "      <td>STR</td>\n",
       "    </tr>\n",
       "  </tbody>\n",
       "</table>\n",
       "</div>"
      ],
      "text/plain": [
       "  shape_mode  mpId aggtype alias\n",
       "0   NdSphere     5     avg   STR"
      ]
     },
     "execution_count": 6,
     "metadata": {},
     "output_type": "execute_result"
    }
   ],
   "source": [
    "variables = control.get_variables_values_for_aggregation()\n",
    "variables.update({\"shape_mode\": [\"NdSphere\"], \"mpId\": [control.get_center_map_point_index()]})\n",
    "space = shapespace.ShapeSpaceBasic(control)\n",
    "df = space.get_aggregated_df(variables).drop(columns=[\"structure\"]).drop_duplicates().reset_index(drop=True)\n",
    "df"
   ]
  },
  {
   "cell_type": "code",
   "execution_count": 9,
   "id": "2f8ef6dc",
   "metadata": {},
   "outputs": [
    {
     "data": {
      "text/plain": [
       "'avg-STR-NdSphere-5'"
      ]
     },
     "execution_count": 9,
     "metadata": {},
     "output_type": "execute_result"
    },
    {
     "data": {
      "image/png": "[encoded data removed]",
      "text/plain": [
       "<Figure size 576x576 with 1 Axes>"
      ]
     },
     "metadata": {
      "needs_background": "light"
     },
     "output_type": "display_data"
    }
   ],
   "source": [
    "row = df.loc[0]\n",
    "df_corr = device.read_corelation_matrix(row)\n",
    "genes = control.get_gene_names()\n",
    "pmaker = plotting.ConcordancePlotMaker(control)\n",
    "pmaker.set_row(row)\n",
    "pmaker.set_heatmap_min_max_values(-0.2, 0.2)\n",
    "corr = pmaker.get_aggregated_matrix_from_df(genes, df_corr)\n",
    "pmaker.make_heatmap(np.diag(corr).reshape(-1,1), display=True)"
   ]
  },
  {
   "cell_type": "code",
   "execution_count": 11,
   "id": "d1d6b789",
   "metadata": {},
   "outputs": [],
   "source": [
    "fig, prefix = pmaker.figs[0]\n",
    "fig.savefig(f\"FigureVariation2_ster.pdf\")"
   ]
  },
  {
   "cell_type": "code",
   "execution_count": 24,
   "id": "fab86bc8",
   "metadata": {},
   "outputs": [],
   "source": [
    "rank = [1+np.argsort(np.diag(corr))[::-1].tolist().index(g) for g, _ in enumerate(genes)]\n",
    "np.savetxt(f\"FigureVariation2_ster.txt\", rank, fmt='%d')"
   ]
  },
  {
   "cell_type": "code",
   "execution_count": 25,
   "id": "b06a9235",
   "metadata": {},
   "outputs": [
    {
     "name": "stdout",
     "output_type": "stream",
     "text": [
      "FigureVariation1.ipynb\t   FigureVariation2_ster.txt\r\n",
      "FigureVariation2.ipynb\t   VizCorrelationMatrix_htmp.png\r\n",
      "FigureVariation2_ster.pdf\r\n"
     ]
    }
   ],
   "source": [
    "!ls"
   ]
  }
 ],
 "metadata": {
  "kernelspec": {
   "display_name": "Python 3 (ipykernel)",
   "language": "python",
   "name": "python3"
  },
  "language_info": {
   "codemirror_mode": {
    "name": "ipython",
    "version": 3
   },
   "file_extension": ".py",
   "mimetype": "text/x-python",
   "name": "python",
   "nbconvert_exporter": "python",
   "pygments_lexer": "ipython3",
   "version": "3.8.12"
  }
 },
 "nbformat": 4,
 "nbformat_minor": 5
}
