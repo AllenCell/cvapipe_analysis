{
 "cells": [
  {
   "cell_type": "code",
   "execution_count": 1,
   "id": "b402ed37",
   "metadata": {},
   "outputs": [],
   "source": [
    "# Create the contrast based on i1 and i2"
   ]
  },
  {
   "cell_type": "code",
   "execution_count": 2,
   "id": "12ffd6df",
   "metadata": {},
   "outputs": [
    {
     "name": "stdout",
     "output_type": "stream",
     "text": [
      "/allen/aics/assay-dev/MicroscopyOtherData/Viana/projects/cvapipe_analysis/local_staging_notebooks/MovieMitosis\n",
      "Sun Jun 26 02:43:47 PDT 2022\n"
     ]
    }
   ],
   "source": [
    "!pwd\n",
    "!date"
   ]
  },
  {
   "cell_type": "code",
   "execution_count": 3,
   "id": "19e31877",
   "metadata": {},
   "outputs": [],
   "source": [
    "import os\n",
    "import sys\n",
    "import json\n",
    "import importlib\n",
    "import concurrent\n",
    "import numpy as np\n",
    "import pandas as pd\n",
    "from pathlib import Path\n",
    "from tqdm.notebook import tqdm\n",
    "from skimage import io as skio\n",
    "import matplotlib.pyplot as plt\n",
    "from aicscytoparam import cytoparam\n",
    "from aicsshparam import shtools, shparam\n",
    "from aicsimageio import AICSImage\n",
    "from aicsimageio.writers import OmeTiffWriter\n",
    "from cvapipe_analysis.tools import io, viz, general, controller, shapespace, plotting\n",
    "\n",
    "sys.path.insert(1, '../tools')\n",
    "import common"
   ]
  },
  {
   "cell_type": "code",
   "execution_count": 4,
   "id": "ee4e913a",
   "metadata": {},
   "outputs": [
    {
     "name": "stdout",
     "output_type": "stream",
     "text": [
      "/allen/aics/assay-dev/MicroscopyOtherData/Viana/projects/cvapipe_analysis/local_staging_variance\n"
     ]
    }
   ],
   "source": [
    "path_config = Path(\"/allen/aics/assay-dev/MicroscopyOtherData/Viana/projects/cvapipe_analysis/\")\n",
    "control_main = controller.Controller(general.load_config_file(path_config))\n",
    "device_main = io.LocalStagingIO(control_main)\n",
    "print(control_main.get_staging())"
   ]
  },
  {
   "cell_type": "code",
   "execution_count": 5,
   "id": "ea558e9f",
   "metadata": {},
   "outputs": [
    {
     "name": "stdout",
     "output_type": "stream",
     "text": [
      "(216062, 46)\n"
     ]
    }
   ],
   "source": [
    "df = device_main.load_step_manifest(\"loaddata\")\n",
    "print(df.shape)"
   ]
  },
  {
   "cell_type": "markdown",
   "id": "32bfb749",
   "metadata": {},
   "source": [
    "### Create domain (mean cell shape)"
   ]
  },
  {
   "cell_type": "code",
   "execution_count": 6,
   "id": "b1242376",
   "metadata": {},
   "outputs": [],
   "source": [
    "datasets = [\"m1\", \"m2\"]\n",
    "genes = control_main.get_gene_names()"
   ]
  },
  {
   "cell_type": "code",
   "execution_count": 7,
   "id": "dbbe7185",
   "metadata": {},
   "outputs": [],
   "source": [
    "morphs = dict([(gene, []) for gene in genes])\n",
    "for ds in datasets:\n",
    "    inner_alias = control_main.get_inner_most_alias_to_parameterize()\n",
    "    outer_alias = control_main.get_outer_most_alias_to_parameterize()\n",
    "    inner_mesh = device_main.read_vtk_polydata(f\"avgshape/{ds}_{inner_alias}_matched.vtk\")\n",
    "    outer_mesh = device_main.read_vtk_polydata(f\"avgshape/{ds}_{outer_alias}_matched.vtk\")\n",
    "    \n",
    "    staging = \"m1m2\" if ds==\"m1\" else \"m3\"\n",
    "    path_step = Path(f\"/allen/aics/assay-dev/MicroscopyOtherData/Viana/projects/cvapipe_analysis/local_staging_variance_{staging}/shapemode\")\n",
    "    control, device = common.get_managers_from_step_path(path_step)\n",
    "\n",
    "    row = pd.Series({\"shape_mode\": \"NUC_MEM_PC1\", \"mpId\": 1, \"aggtype\": \"avg\", \"alias\": \"STR\"})\n",
    "    domain, domain_nuc, domain_mem, coords_param = common.get_map_point_shape(control, device, row, inner_mesh=inner_mesh, outer_mesh=outer_mesh)\n",
    "    \n",
    "    for gene in genes:\n",
    "        row[\"structure\"] = gene\n",
    "        rep = device.read_agg_parameterized_intensity(row)\n",
    "        morphed = cytoparam.morph_representation_on_shape(\n",
    "            img=domain,\n",
    "            param_img_coords=coords_param,\n",
    "            representation=rep\n",
    "        )\n",
    "        morphed = np.stack([domain_nuc, domain_mem, morphed], axis=0)\n",
    "        morphs[gene].append(morphed)"
   ]
  },
  {
   "cell_type": "code",
   "execution_count": 8,
   "id": "5a265e19",
   "metadata": {},
   "outputs": [
    {
     "data": {
      "text/plain": [
       "<module 'common' from '/allen/aics/assay-dev/MicroscopyOtherData/Viana/projects/cvapipe_analysis/local_staging_notebooks/MovieMitosis/../tools/common.py'>"
      ]
     },
     "execution_count": 8,
     "metadata": {},
     "output_type": "execute_result"
    }
   ],
   "source": [
    "importlib.reload(common)"
   ]
  },
  {
   "cell_type": "code",
   "execution_count": 12,
   "id": "5347a048",
   "metadata": {},
   "outputs": [],
   "source": [
    "contrast = {}\n",
    "for gene in genes:\n",
    "    mode = {\"nuc\":\"center_nuc\",\"mem\":\"center_nuc\",\"gfp\":\"center_nuc\"}\n",
    "    contrast[gene] = common.Projector.get_shared_morphed_max_based_on_pct_for_zy_views(\n",
    "        instances = morphs[gene],\n",
    "        pct = 90,\n",
    "        mode = mode,\n",
    "        func = np.mean\n",
    "    )"
   ]
  },
  {
   "cell_type": "code",
   "execution_count": 13,
   "id": "46e38640",
   "metadata": {},
   "outputs": [],
   "source": [
    "log = {\"contrast\": contrast, \"version\": {}}\n",
    "for fname in [\"../tools/common.py\", \"MakeContrastTable.ipynb\"]:\n",
    "    with open(fname, \"r\") as ftxt:\n",
    "        log[\"version\"][fname] = ftxt.read()\n",
    "with open(\"contrast_V3_90OnValids.json\", \"w\") as fj:\n",
    "    json.dump(log, fj, indent=4)"
   ]
  },
  {
   "cell_type": "code",
   "execution_count": 14,
   "id": "6c0e62fe",
   "metadata": {},
   "outputs": [
    {
     "name": "stdout",
     "output_type": "stream",
     "text": [
      "complete 2022-06-26 03:05:34\n"
     ]
    }
   ],
   "source": [
    "common.now(\"complete\")"
   ]
  },
  {
   "cell_type": "code",
   "execution_count": null,
   "id": "521111a8",
   "metadata": {},
   "outputs": [],
   "source": []
  }
 ],
 "metadata": {
  "kernelspec": {
   "display_name": "Python 3 (ipykernel)",
   "language": "python",
   "name": "python3"
  },
  "language_info": {
   "codemirror_mode": {
    "name": "ipython",
    "version": 3
   },
   "file_extension": ".py",
   "mimetype": "text/x-python",
   "name": "python",
   "nbconvert_exporter": "python",
   "pygments_lexer": "ipython3",
   "version": "3.8.12"
  }
 },
 "nbformat": 4,
 "nbformat_minor": 5
}
