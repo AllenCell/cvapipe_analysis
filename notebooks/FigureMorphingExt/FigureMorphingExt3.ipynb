{
 "cells": [
  {
   "cell_type": "code",
   "execution_count": 1,
   "id": "2aa357f7",
   "metadata": {},
   "outputs": [],
   "source": [
    "# Average morphed cells for PXN and TOMM20 to illustrate the difference between GFP and SEG"
   ]
  },
  {
   "cell_type": "code",
   "execution_count": 2,
   "id": "090dcd7f",
   "metadata": {},
   "outputs": [
    {
     "name": "stdout",
     "output_type": "stream",
     "text": [
      "/allen/aics/assay-dev/MicroscopyOtherData/Viana/projects/cvapipe_analysis/local_staging_notebooks/FigureMorphingExt\n",
      "Sun Jun 26 20:35:32 PDT 2022\n"
     ]
    }
   ],
   "source": [
    "!pwd\n",
    "!date"
   ]
  },
  {
   "cell_type": "code",
   "execution_count": 3,
   "id": "8a1c55bb",
   "metadata": {},
   "outputs": [],
   "source": [
    "import os\n",
    "import sys\n",
    "import importlib\n",
    "import concurrent\n",
    "import numpy as np\n",
    "import pandas as pd\n",
    "from pathlib import Path\n",
    "from tqdm.notebook import tqdm\n",
    "from skimage import io as skio\n",
    "import matplotlib.pyplot as plt\n",
    "from aicscytoparam import cytoparam\n",
    "from aicsshparam import shtools, shparam\n",
    "from aicsimageio import AICSImage, writers\n",
    "from cvapipe_analysis.tools import io, viz, general, controller, shapespace, plotting\n",
    "from cvapipe_analysis.steps.compute_features.compute_features_tools import FeatureCalculator\n",
    "from vtk import util\n",
    "sys.path.insert(1, '../tools')\n",
    "import common"
   ]
  },
  {
   "cell_type": "code",
   "execution_count": 4,
   "id": "f6afedd0",
   "metadata": {},
   "outputs": [
    {
     "name": "stdout",
     "output_type": "stream",
     "text": [
      "/allen/aics/assay-dev/MicroscopyOtherData/Viana/projects/cvapipe_analysis/local_staging_variance\n"
     ]
    }
   ],
   "source": [
    "# Controller form cvapipe_analysis\n",
    "path_config = Path(\"/allen/aics/assay-dev/MicroscopyOtherData/Viana/projects/cvapipe_analysis/\")\n",
    "control = controller.Controller(general.load_config_file(path_config))\n",
    "print(control.get_staging())"
   ]
  },
  {
   "cell_type": "code",
   "execution_count": 5,
   "id": "ccada398",
   "metadata": {},
   "outputs": [
    {
     "name": "stdout",
     "output_type": "stream",
     "text": [
      "(202847, 1290)\n"
     ]
    }
   ],
   "source": [
    "device = io.LocalStagingIO(control)\n",
    "df = device.load_step_manifest(\"preprocessing\")\n",
    "print(df.shape)"
   ]
  },
  {
   "cell_type": "code",
   "execution_count": 6,
   "id": "45337785",
   "metadata": {},
   "outputs": [],
   "source": [
    "importlib.reload(shapespace)\n",
    "space = shapespace.ShapeSpace(control)\n",
    "space.execute(df)"
   ]
  },
  {
   "cell_type": "code",
   "execution_count": 7,
   "id": "9747774c",
   "metadata": {},
   "outputs": [],
   "source": [
    "df_sphere = space.get_cells_inside_ndsphere_of_radius()\n",
    "df_sphere = df_sphere.set_index(\"structure\")"
   ]
  },
  {
   "cell_type": "code",
   "execution_count": 24,
   "id": "92fa55be",
   "metadata": {},
   "outputs": [
    {
     "data": {
      "text/plain": [
       "<module 'common' from '/allen/aics/assay-dev/MicroscopyOtherData/Viana/projects/cvapipe_analysis/local_staging_notebooks/FigureMorphingExt/../tools/common.py'>"
      ]
     },
     "execution_count": 24,
     "metadata": {},
     "output_type": "execute_result"
    }
   ],
   "source": [
    "importlib.reload(common)"
   ]
  },
  {
   "cell_type": "code",
   "execution_count": 25,
   "id": "054061b2",
   "metadata": {},
   "outputs": [],
   "source": [
    "# Running the parameterization here because we don't have pre-computed PILRs for GFP, only SEG.\n",
    "def parameterize_this_cell(irow):\n",
    "\n",
    "    index, row = irow\n",
    "\n",
    "    #Use redirect_path form common <<<<<<<<<<<<<<<<<<\n",
    "    \n",
    "#     subpath_old = \"projects/cvapipe_analysis\"\n",
    "#     subpath_new = \"datasets/hpisc_single_cell/variance\"\n",
    "#     # redirecting the path to seg images bc some files are corrupted (fixme before resubmission)\n",
    "#     row.crop_seg = row.crop_seg.replace(subpath_old, subpath_new)\n",
    "    \n",
    "    producer = io.DataProducer(control)\n",
    "    row = common.redirect_single_cell_path(row)\n",
    "    producer.set_row(row)\n",
    "    producer.load_single_cell_data()\n",
    "    producer.align_data()\n",
    "    \n",
    "    nuc = (producer.data_aligned[3]>0).astype(np.uint8)\n",
    "    mem = (producer.data_aligned[4]>0).astype(np.uint8)\n",
    "    \n",
    "    (coeffs_mem, _), (mem, mesh_mem, _, centroid_mem) = shparam.get_shcoeffs(\n",
    "        image=mem,\n",
    "        lmax=control.get_lmax(),\n",
    "        sigma=control.get_sigma(),\n",
    "        alignment_2d=False\n",
    "    )\n",
    "\n",
    "    (coeffs_nuc, _), (nuc, mesh_nuc, _, centroid_nuc) = shparam.get_shcoeffs(\n",
    "        image=nuc,\n",
    "        lmax=control.get_lmax(),\n",
    "        sigma=control.get_sigma(),\n",
    "        alignment_2d=False\n",
    "    )\n",
    "    \n",
    "    nuc = nuc.astype(np.uint8)\n",
    "    mem = mem.astype(np.uint8)\n",
    "    instance = np.stack([nuc, mem, producer.data_aligned[2], producer.data_aligned[-1]], axis=0).astype(np.uint16)\n",
    "\n",
    "    niso = control.get_number_of_interpolating_points()\n",
    "    coords_param, coeffs_centroid = cytoparam.parameterize_image_coordinates(\n",
    "        seg_mem=mem,\n",
    "        seg_nuc=nuc,\n",
    "        lmax=control.get_lmax(),\n",
    "        nisos=[niso, niso]\n",
    "    )\n",
    "\n",
    "    coeffs_mem, centroid_mem, coeffs_nuc, centroid_nuc = coeffs_centroid\n",
    "\n",
    "    rep = cytoparam.parameterization_from_shcoeffs(\n",
    "        coeffs_mem=coeffs_mem,\n",
    "        centroid_mem=centroid_mem,\n",
    "        coeffs_nuc=coeffs_nuc,\n",
    "        centroid_nuc=centroid_nuc,\n",
    "        nisos=[niso, niso],\n",
    "        images_to_probe=[(\"gfp\", instance[-2]), (\"seg\", instance[-1])]\n",
    "    ).data.squeeze()\n",
    "    \n",
    "    return rep"
   ]
  },
  {
   "cell_type": "code",
   "execution_count": 26,
   "id": "777d52f2",
   "metadata": {},
   "outputs": [
    {
     "data": {
      "application/vnd.jupyter.widget-view+json": {
       "model_id": "f72a76a2f1754ec3a1c3e48d8cd9866e",
       "version_major": 2,
       "version_minor": 0
      },
      "text/plain": [
       "  0%|          | 0/627 [00:00<?, ?it/s]"
      ]
     },
     "metadata": {},
     "output_type": "display_data"
    },
    {
     "data": {
      "application/vnd.jupyter.widget-view+json": {
       "model_id": "d5af85c3d6a14a718df997bad2d463da",
       "version_major": 2,
       "version_minor": 0
      },
      "text/plain": [
       "  0%|          | 0/4158 [00:00<?, ?it/s]"
      ]
     },
     "metadata": {},
     "output_type": "display_data"
    },
    {
     "name": "stderr",
     "output_type": "stream",
     "text": [
      "/home/matheus.viana/anaconda3/envs/lab-variance/lib/python3.8/site-packages/aicsshparam/shparam.py:127: UserWarning: Mesh centroid seems to fall outside the object. This indicates        the mesh may not be a manifold suitable for spherical harmonics        parameterization.\n",
      "  warnings.warn(\n",
      "/home/matheus.viana/anaconda3/envs/lab-variance/lib/python3.8/site-packages/aicsshparam/shparam.py:127: UserWarning: Mesh centroid seems to fall outside the object. This indicates        the mesh may not be a manifold suitable for spherical harmonics        parameterization.\n",
      "  warnings.warn(\n"
     ]
    }
   ],
   "source": [
    "# Parameterize cells of all structures we want in the figure\n",
    "reps = {}\n",
    "genes = [\"PXN\", \"TOMM20\"]\n",
    "for gene in genes:\n",
    "    irows = [irow for irow in df.loc[df_sphere.loc[gene].CellIds].iterrows()]\n",
    "    with concurrent.futures.ProcessPoolExecutor(control.get_ncores()) as executor:\n",
    "        reps[gene] = np.array(list(tqdm(executor.map(parameterize_this_cell, irows), total=len(irows)))).mean(axis=0)"
   ]
  },
  {
   "cell_type": "markdown",
   "id": "100d7ad2",
   "metadata": {},
   "source": [
    "### Create the domain to morph aggregations into"
   ]
  },
  {
   "cell_type": "code",
   "execution_count": 27,
   "id": "e5cbed72",
   "metadata": {},
   "outputs": [
    {
     "data": {
      "text/html": [
       "<div>\n",
       "<style scoped>\n",
       "    .dataframe tbody tr th:only-of-type {\n",
       "        vertical-align: middle;\n",
       "    }\n",
       "\n",
       "    .dataframe tbody tr th {\n",
       "        vertical-align: top;\n",
       "    }\n",
       "\n",
       "    .dataframe thead th {\n",
       "        text-align: right;\n",
       "    }\n",
       "</style>\n",
       "<table border=\"1\" class=\"dataframe\">\n",
       "  <thead>\n",
       "    <tr style=\"text-align: right;\">\n",
       "      <th></th>\n",
       "      <th>shape_mode</th>\n",
       "      <th>mpId</th>\n",
       "      <th>aggtype</th>\n",
       "      <th>alias</th>\n",
       "    </tr>\n",
       "  </thead>\n",
       "  <tbody>\n",
       "    <tr>\n",
       "      <th>4</th>\n",
       "      <td>NUC_MEM_PC1</td>\n",
       "      <td>5</td>\n",
       "      <td>avg</td>\n",
       "      <td>STR</td>\n",
       "    </tr>\n",
       "  </tbody>\n",
       "</table>\n",
       "</div>"
      ],
      "text/plain": [
       "    shape_mode  mpId aggtype alias\n",
       "4  NUC_MEM_PC1     5     avg   STR"
      ]
     },
     "execution_count": 27,
     "metadata": {},
     "output_type": "execute_result"
    }
   ],
   "source": [
    "variables = control.get_variables_values_for_aggregation()\n",
    "df_agg = shapespace.ShapeSpaceBasic(control).get_aggregated_df(variables).drop(columns=[\"structure\"])\n",
    "df_agg = df_agg.drop_duplicates().reset_index(drop=True)\n",
    "df_agg = df_agg.loc[df_agg.mpId==control.get_center_map_point_index()].head(1)\n",
    "df_agg"
   ]
  },
  {
   "cell_type": "code",
   "execution_count": 28,
   "id": "fd711253",
   "metadata": {},
   "outputs": [],
   "source": [
    "device.row = df_agg.loc[df_agg.index[0]]\n",
    "nisos = control.get_number_of_interpolating_points()\n",
    "inner_alias = control.get_inner_most_alias_to_parameterize()\n",
    "inner_mesh = device.read_map_point_mesh(inner_alias)\n",
    "outer_alias = control.get_outer_most_alias_to_parameterize()\n",
    "outer_mesh = device.read_map_point_mesh(outer_alias)\n",
    "domain, origin = cytoparam.voxelize_meshes([outer_mesh, inner_mesh])\n",
    "coords_param, coeffs_centroid = cytoparam.parameterize_image_coordinates(\n",
    "    seg_mem=(domain>0).astype(np.uint8),\n",
    "    seg_nuc=(domain>1).astype(np.uint8),\n",
    "    lmax=control.get_lmax(), nisos=[nisos, nisos]\n",
    ")\n",
    "coeffs_mem, centroid_mem, coeffs_nuc, centroid_nuc = coeffs_centroid\n",
    "coords_param += np.array(centroid_nuc).reshape(3, 1, 1)-np.array(centroid_mem).reshape(3, 1, 1)"
   ]
  },
  {
   "cell_type": "code",
   "execution_count": 29,
   "id": "bb8856c1",
   "metadata": {},
   "outputs": [],
   "source": [
    "domain_nuc = (255*(domain>1)).astype(np.uint8)\n",
    "domain_mem = (255*(domain>0)).astype(np.uint8)"
   ]
  },
  {
   "cell_type": "markdown",
   "id": "6d81210a",
   "metadata": {},
   "source": [
    "### Morphing PILRs into mean shape"
   ]
  },
  {
   "cell_type": "code",
   "execution_count": 30,
   "id": "e57681b4",
   "metadata": {},
   "outputs": [],
   "source": [
    "morphs = {}\n",
    "for gene, rep in reps.items():\n",
    "    for ch, chname in enumerate([\"gfp\", \"seg\"]):\n",
    "        morphed = cytoparam.morph_representation_on_shape(\n",
    "            img=domain,\n",
    "            param_img_coords=coords_param,\n",
    "            representation=rep[ch]\n",
    "        )\n",
    "        morphs[f\"{gene}_{chname}\"] = np.stack([domain_nuc, domain_mem, morphed], axis=0)"
   ]
  },
  {
   "cell_type": "code",
   "execution_count": 31,
   "id": "145d3087",
   "metadata": {},
   "outputs": [
    {
     "data": {
      "image/png": "[encoded data removed]",
      "text/plain": [
       "<Figure size 288x288 with 4 Axes>"
      ]
     },
     "metadata": {
      "needs_background": "light"
     },
     "output_type": "display_data"
    },
    {
     "data": {
      "image/png": "[encoded data removed]",
      "text/plain": [
       "<Figure size 288x288 with 4 Axes>"
      ]
     },
     "metadata": {
      "needs_background": "light"
     },
     "output_type": "display_data"
    }
   ],
   "source": [
    "mode = {\n",
    "    \"nuc\":\"center_nuc\",\n",
    "    \"mem\":\"center_nuc\",\n",
    "    \"gfp\":\"center_nuc\"\n",
    "}\n",
    "args = {\"gridspec_kw\": {\"hspace\": 0, \"wspace\": 0}, \"sharex\": True, \"sharey\": True}\n",
    "for alias in [\"nuc\", \"mem\"]:\n",
    "    fig, axes = plt.subplots(len(genes), 2, figsize=(2*2,2*len(genes)), **args)\n",
    "    for gid, (gene, axs) in enumerate(zip(genes, axes)):\n",
    "        for imtype, ax in zip([\"gfp\", \"seg\"], axs):\n",
    "            ax.axis(\"off\")\n",
    "            instance = morphs[f\"{gene}_{imtype}\"]\n",
    "            proj = common.Projector(instance)\n",
    "            proj.set_projection_mode(ax=\"y\", mode=mode)\n",
    "            proj.project_on(alias=alias, ax=ax, scale_bar={\"pixel_size\":0.108, \"length\":5})\n",
    "    plt.savefig(f\"FigureMorphingExt3_gfp_seg_{alias}_y.png\", dpi=150)\n",
    "    plt.show()"
   ]
  },
  {
   "cell_type": "code",
   "execution_count": 36,
   "id": "fc3fd546",
   "metadata": {},
   "outputs": [
    {
     "name": "stdout",
     "output_type": "stream",
     "text": [
      "Image shape: (300, 300, 300), slices used: (145,148,149)\n",
      "Image shape: (300, 300, 300), slices used: (145,148,149)\n",
      "Image shape: (300, 300, 300), slices used: (145,148,149)\n",
      "GFP min/max: 406.660 / 414.153\n",
      "Image shape: (300, 300, 300), slices used: (145,148,149)\n",
      "Image shape: (300, 300, 300), slices used: (145,148,149)\n",
      "Image shape: (300, 300, 300), slices used: (145,148,149)\n",
      "vmin/vmax values already set...\n",
      "Image shape: (300, 300, 300), slices used: (145,148,149)\n",
      "Image shape: (300, 300, 300), slices used: (145,148,149)\n",
      "Image shape: (300, 300, 300), slices used: (145,148,149)\n",
      "GFP min/max: 416.561 / 465.339\n",
      "Image shape: (300, 300, 300), slices used: (145,148,149)\n",
      "Image shape: (300, 300, 300), slices used: (145,148,149)\n",
      "Image shape: (300, 300, 300), slices used: (145,148,149)\n",
      "vmin/vmax values already set...\n"
     ]
    },
    {
     "data": {
      "image/png": "[encoded data removed]",
      "text/plain": [
       "<Figure size 288x288 with 4 Axes>"
      ]
     },
     "metadata": {
      "needs_background": "light"
     },
     "output_type": "display_data"
    }
   ],
   "source": [
    "mode = {\n",
    "    \"nuc\":\"center_nuc\",\n",
    "    \"mem\":\"center_nuc\",\n",
    "    \"gfp\":\"center_nuc\"\n",
    "}\n",
    "args = {\"gridspec_kw\": {\"hspace\": 0, \"wspace\": 0}, \"sharex\": True, \"sharey\": True}\n",
    "for alias in [\"gfp\"]:\n",
    "    fig, axes = plt.subplots(len(genes), 2, figsize=(2*2,2*len(genes)), **args)\n",
    "    for gid, (gene, axs) in enumerate(zip(genes, axes)):\n",
    "        for imtype, ax in zip([\"gfp\", \"seg\"], axs):\n",
    "            ax.axis(\"off\")\n",
    "            instance = morphs[f\"{gene}_{imtype}\"]\n",
    "            proj = common.Projector(instance)\n",
    "            proj.set_verbose_on()\n",
    "            proj.set_projection_mode(ax=\"y\", mode=mode)\n",
    "            if imtype == \"seg\":\n",
    "                vmin, vmax = control.get_optimal_avgseg_contrast(gene)\n",
    "                proj.set_vmin_vmax_gfp_values(vmin, vmax)\n",
    "            else:\n",
    "                proj.set_gfp_percentiles([20, 98], local=True)\n",
    "            proj.project_on(alias=alias, ax=ax)\n",
    "    plt.savefig(f\"FigureMorphingExt3_gfp_seg_gfp_y.png\", dpi=150)\n",
    "    plt.show()"
   ]
  },
  {
   "cell_type": "code",
   "execution_count": 38,
   "id": "2f22507b",
   "metadata": {},
   "outputs": [
    {
     "name": "stdout",
     "output_type": "stream",
     "text": [
      "complete 2022-06-27 08:49:58\n"
     ]
    }
   ],
   "source": [
    "common.now(\"complete\")"
   ]
  },
  {
   "cell_type": "code",
   "execution_count": null,
   "id": "a02b7257",
   "metadata": {},
   "outputs": [],
   "source": []
  }
 ],
 "metadata": {
  "kernelspec": {
   "display_name": "Python 3 (ipykernel)",
   "language": "python",
   "name": "python3"
  },
  "language_info": {
   "codemirror_mode": {
    "name": "ipython",
    "version": 3
   },
   "file_extension": ".py",
   "mimetype": "text/x-python",
   "name": "python",
   "nbconvert_exporter": "python",
   "pygments_lexer": "ipython3",
   "version": "3.8.12"
  }
 },
 "nbformat": 4,
 "nbformat_minor": 5
}
