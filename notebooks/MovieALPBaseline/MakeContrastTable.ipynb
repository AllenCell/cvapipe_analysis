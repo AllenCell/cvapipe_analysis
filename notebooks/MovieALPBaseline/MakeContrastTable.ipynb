{
 "cells": [
  {
   "cell_type": "code",
   "execution_count": 1,
   "id": "b402ed37",
   "metadata": {},
   "outputs": [],
   "source": [
    "# Creates an animated contact sheet of avg. morphed cells across map points"
   ]
  },
  {
   "cell_type": "code",
   "execution_count": 2,
   "id": "12ffd6df",
   "metadata": {},
   "outputs": [
    {
     "name": "stdout",
     "output_type": "stream",
     "text": [
      "/allen/aics/assay-dev/MicroscopyOtherData/Viana/projects/cvapipe_analysis/local_staging_notebooks/MovieALPBaseline\n",
      "Sun Jun 26 02:10:27 PDT 2022\n"
     ]
    }
   ],
   "source": [
    "!pwd\n",
    "!date"
   ]
  },
  {
   "cell_type": "code",
   "execution_count": 3,
   "id": "19e31877",
   "metadata": {},
   "outputs": [],
   "source": [
    "import os\n",
    "import sys\n",
    "import json\n",
    "import importlib\n",
    "import concurrent\n",
    "import numpy as np\n",
    "import pandas as pd\n",
    "from pathlib import Path\n",
    "from tqdm.notebook import tqdm\n",
    "from skimage import io as skio\n",
    "import matplotlib.pyplot as plt\n",
    "from aicscytoparam import cytoparam\n",
    "from aicsshparam import shtools, shparam\n",
    "from aicsimageio import AICSImage\n",
    "from aicsimageio.writers import OmeTiffWriter\n",
    "from cvapipe_analysis.tools import io, viz, general, controller, shapespace, plotting\n",
    "\n",
    "sys.path.insert(1, '../tools')\n",
    "import common"
   ]
  },
  {
   "cell_type": "code",
   "execution_count": 4,
   "id": "ee4e913a",
   "metadata": {},
   "outputs": [
    {
     "name": "stdout",
     "output_type": "stream",
     "text": [
      "/allen/aics/assay-dev/MicroscopyOtherData/Viana/projects/cvapipe_analysis/local_staging_variance\n"
     ]
    }
   ],
   "source": [
    "# Controller form cvapipe_analysis\n",
    "path_config = Path(\"/allen/aics/assay-dev/MicroscopyOtherData/Viana/projects/cvapipe_analysis/\")\n",
    "control = controller.Controller(general.load_config_file(path_config))\n",
    "print(control.get_staging())"
   ]
  },
  {
   "cell_type": "code",
   "execution_count": 5,
   "id": "ea558e9f",
   "metadata": {},
   "outputs": [],
   "source": [
    "device = io.LocalStagingIO(control)\n",
    "df = device.load_step_manifest(\"preprocessing\")\n",
    "space = shapespace.ShapeSpace(control)\n",
    "space.execute(df)"
   ]
  },
  {
   "cell_type": "code",
   "execution_count": 6,
   "id": "e9549c37",
   "metadata": {},
   "outputs": [
    {
     "data": {
      "text/html": [
       "<div>\n",
       "<style scoped>\n",
       "    .dataframe tbody tr th:only-of-type {\n",
       "        vertical-align: middle;\n",
       "    }\n",
       "\n",
       "    .dataframe tbody tr th {\n",
       "        vertical-align: top;\n",
       "    }\n",
       "\n",
       "    .dataframe thead th {\n",
       "        text-align: right;\n",
       "    }\n",
       "</style>\n",
       "<table border=\"1\" class=\"dataframe\">\n",
       "  <thead>\n",
       "    <tr style=\"text-align: right;\">\n",
       "      <th></th>\n",
       "      <th>shape_mode</th>\n",
       "      <th>mpId</th>\n",
       "      <th>aggtype</th>\n",
       "      <th>alias</th>\n",
       "    </tr>\n",
       "  </thead>\n",
       "  <tbody>\n",
       "    <tr>\n",
       "      <th>0</th>\n",
       "      <td>NUC_MEM_PC1</td>\n",
       "      <td>1</td>\n",
       "      <td>avg</td>\n",
       "      <td>STR</td>\n",
       "    </tr>\n",
       "    <tr>\n",
       "      <th>1</th>\n",
       "      <td>NUC_MEM_PC1</td>\n",
       "      <td>2</td>\n",
       "      <td>avg</td>\n",
       "      <td>STR</td>\n",
       "    </tr>\n",
       "    <tr>\n",
       "      <th>2</th>\n",
       "      <td>NUC_MEM_PC1</td>\n",
       "      <td>3</td>\n",
       "      <td>avg</td>\n",
       "      <td>STR</td>\n",
       "    </tr>\n",
       "    <tr>\n",
       "      <th>3</th>\n",
       "      <td>NUC_MEM_PC1</td>\n",
       "      <td>4</td>\n",
       "      <td>avg</td>\n",
       "      <td>STR</td>\n",
       "    </tr>\n",
       "    <tr>\n",
       "      <th>4</th>\n",
       "      <td>NUC_MEM_PC1</td>\n",
       "      <td>5</td>\n",
       "      <td>avg</td>\n",
       "      <td>STR</td>\n",
       "    </tr>\n",
       "  </tbody>\n",
       "</table>\n",
       "</div>"
      ],
      "text/plain": [
       "    shape_mode  mpId aggtype alias\n",
       "0  NUC_MEM_PC1     1     avg   STR\n",
       "1  NUC_MEM_PC1     2     avg   STR\n",
       "2  NUC_MEM_PC1     3     avg   STR\n",
       "3  NUC_MEM_PC1     4     avg   STR\n",
       "4  NUC_MEM_PC1     5     avg   STR"
      ]
     },
     "execution_count": 6,
     "metadata": {},
     "output_type": "execute_result"
    }
   ],
   "source": [
    "variables = control.get_variables_values_for_aggregation()\n",
    "df_agg = shapespace.ShapeSpaceBasic(control).get_aggregated_df(variables)\n",
    "df_agg = df_agg.drop(columns=[\"structure\"]).drop_duplicates().reset_index(drop=True)\n",
    "df_agg.head()"
   ]
  },
  {
   "cell_type": "code",
   "execution_count": 7,
   "id": "51581018",
   "metadata": {},
   "outputs": [],
   "source": [
    "shape_modes = control.get_shape_modes()\n",
    "df_agg = df_agg.loc[df_agg.shape_mode.isin(shape_modes)]\n",
    "df_agg = df_agg.loc[df_agg.mpId==control.get_center_map_point_index()]"
   ]
  },
  {
   "cell_type": "code",
   "execution_count": 8,
   "id": "2a4e3a4b",
   "metadata": {},
   "outputs": [],
   "source": [
    "def process_this_gene(gene):\n",
    "    row_w_gene = row.copy()\n",
    "    row_w_gene[\"structure\"] = gene\n",
    "    rep = device.read_agg_parameterized_intensity(row_w_gene)\n",
    "    morphed = cytoparam.morph_representation_on_shape(\n",
    "        img=domain,\n",
    "        param_img_coords=coords_param,\n",
    "        representation=rep\n",
    "    )\n",
    "    return np.stack([domain_nuc, domain_mem, morphed], axis=0)"
   ]
  },
  {
   "cell_type": "code",
   "execution_count": 9,
   "id": "8e6760c1",
   "metadata": {},
   "outputs": [],
   "source": [
    "genes = control.get_gene_names()"
   ]
  },
  {
   "cell_type": "code",
   "execution_count": 24,
   "id": "944597a0",
   "metadata": {},
   "outputs": [
    {
     "data": {
      "text/plain": [
       "<module 'common' from '/allen/aics/assay-dev/MicroscopyOtherData/Viana/projects/cvapipe_analysis/local_staging_notebooks/MovieALPBaseline/../tools/common.py'>"
      ]
     },
     "execution_count": 24,
     "metadata": {},
     "output_type": "execute_result"
    }
   ],
   "source": [
    "importlib.reload(common)"
   ]
  },
  {
   "cell_type": "code",
   "execution_count": 11,
   "id": "ef211ec3",
   "metadata": {},
   "outputs": [
    {
     "data": {
      "application/vnd.jupyter.widget-view+json": {
       "model_id": "cfc9bc444d074957b614e3637d1da2cf",
       "version_major": 2,
       "version_minor": 0
      },
      "text/plain": [
       "  0%|          | 0/8 [00:00<?, ?it/s]"
      ]
     },
     "metadata": {},
     "output_type": "display_data"
    },
    {
     "data": {
      "application/vnd.jupyter.widget-view+json": {
       "model_id": "",
       "version_major": 2,
       "version_minor": 0
      },
      "text/plain": [
       "  0%|          | 0/25 [00:00<?, ?it/s]"
      ]
     },
     "metadata": {},
     "output_type": "display_data"
    },
    {
     "data": {
      "application/vnd.jupyter.widget-view+json": {
       "model_id": "",
       "version_major": 2,
       "version_minor": 0
      },
      "text/plain": [
       "  0%|          | 0/25 [00:00<?, ?it/s]"
      ]
     },
     "metadata": {},
     "output_type": "display_data"
    },
    {
     "data": {
      "application/vnd.jupyter.widget-view+json": {
       "model_id": "",
       "version_major": 2,
       "version_minor": 0
      },
      "text/plain": [
       "  0%|          | 0/25 [00:00<?, ?it/s]"
      ]
     },
     "metadata": {},
     "output_type": "display_data"
    },
    {
     "data": {
      "application/vnd.jupyter.widget-view+json": {
       "model_id": "",
       "version_major": 2,
       "version_minor": 0
      },
      "text/plain": [
       "  0%|          | 0/25 [00:00<?, ?it/s]"
      ]
     },
     "metadata": {},
     "output_type": "display_data"
    },
    {
     "data": {
      "application/vnd.jupyter.widget-view+json": {
       "model_id": "",
       "version_major": 2,
       "version_minor": 0
      },
      "text/plain": [
       "  0%|          | 0/25 [00:00<?, ?it/s]"
      ]
     },
     "metadata": {},
     "output_type": "display_data"
    },
    {
     "data": {
      "application/vnd.jupyter.widget-view+json": {
       "model_id": "",
       "version_major": 2,
       "version_minor": 0
      },
      "text/plain": [
       "  0%|          | 0/25 [00:00<?, ?it/s]"
      ]
     },
     "metadata": {},
     "output_type": "display_data"
    },
    {
     "data": {
      "application/vnd.jupyter.widget-view+json": {
       "model_id": "",
       "version_major": 2,
       "version_minor": 0
      },
      "text/plain": [
       "  0%|          | 0/25 [00:00<?, ?it/s]"
      ]
     },
     "metadata": {},
     "output_type": "display_data"
    },
    {
     "data": {
      "application/vnd.jupyter.widget-view+json": {
       "model_id": "",
       "version_major": 2,
       "version_minor": 0
      },
      "text/plain": [
       "  0%|          | 0/25 [00:00<?, ?it/s]"
      ]
     },
     "metadata": {},
     "output_type": "display_data"
    }
   ],
   "source": [
    "morphs = dict([(gene, []) for gene in genes])\n",
    "for index, row in tqdm(df_agg.iterrows(), total=len(df_agg)):\n",
    "    domain, domain_nuc, domain_mem, coords_param = common.get_map_point_shape(control, device, row)\n",
    "    with concurrent.futures.ProcessPoolExecutor(control.get_ncores()) as executor:\n",
    "        morphed = list(tqdm(executor.map(process_this_gene, genes), total=len(genes), leave=False))\n",
    "    for gid, gene in enumerate(genes):\n",
    "        morphs[gene].append(morphed[gid])"
   ]
  },
  {
   "cell_type": "code",
   "execution_count": 30,
   "id": "cac89465",
   "metadata": {},
   "outputs": [],
   "source": [
    "pct = {}\n",
    "for gene in genes:\n",
    "    val = 90\n",
    "    pct[gene] = val"
   ]
  },
  {
   "cell_type": "code",
   "execution_count": 31,
   "id": "977665f9",
   "metadata": {},
   "outputs": [
    {
     "name": "stdout",
     "output_type": "stream",
     "text": [
      "CPU times: user 2min 45s, sys: 4.1 s, total: 2min 49s\n",
      "Wall time: 2min 49s\n"
     ]
    }
   ],
   "source": [
    "%%time\n",
    "contrast = {}\n",
    "for gene in genes:\n",
    "    mode = {\"nuc\":\"center_nuc\",\"mem\":\"center_nuc\",\"gfp\":\"center_nuc\"}\n",
    "    contrast[gene] = common.Projector.get_shared_morphed_max_based_on_pct_for_zy_views(\n",
    "        instances = morphs[gene],\n",
    "        pct = pct[gene],\n",
    "        mode = mode,\n",
    "        func = np.max\n",
    "    )"
   ]
  },
  {
   "cell_type": "code",
   "execution_count": 32,
   "id": "8427e93a",
   "metadata": {},
   "outputs": [],
   "source": [
    "log = {\"contrast\": contrast, \"version\": {}}\n",
    "for fname in [\"../tools/common.py\", \"MakeContrastTable.ipynb\"]:\n",
    "    with open(fname, \"r\") as ftxt:\n",
    "        log[\"version\"][fname] = ftxt.read()\n",
    "with open(\"contrast_V3_90OnValids.json\", \"w\") as fj:\n",
    "    json.dump(log, fj, indent=4)"
   ]
  },
  {
   "cell_type": "code",
   "execution_count": 33,
   "id": "2770b375",
   "metadata": {},
   "outputs": [
    {
     "name": "stdout",
     "output_type": "stream",
     "text": [
      "complete 2022-06-26 11:55:33\n"
     ]
    }
   ],
   "source": [
    "common.now(\"complete\")"
   ]
  },
  {
   "cell_type": "code",
   "execution_count": null,
   "id": "e3138e9b",
   "metadata": {},
   "outputs": [],
   "source": []
  }
 ],
 "metadata": {
  "kernelspec": {
   "display_name": "Python 3 (ipykernel)",
   "language": "python",
   "name": "python3"
  },
  "language_info": {
   "codemirror_mode": {
    "name": "ipython",
    "version": 3
   },
   "file_extension": ".py",
   "mimetype": "text/x-python",
   "name": "python",
   "nbconvert_exporter": "python",
   "pygments_lexer": "ipython3",
   "version": "3.8.12"
  }
 },
 "nbformat": 4,
 "nbformat_minor": 5
}
