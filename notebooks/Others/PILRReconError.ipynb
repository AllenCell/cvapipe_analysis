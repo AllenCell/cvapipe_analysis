{
 "cells": [
  {
   "cell_type": "code",
   "execution_count": 1,
   "id": "0fd49d64",
   "metadata": {},
   "outputs": [
    {
     "name": "stderr",
     "output_type": "stream",
     "text": [
      "28-Sep-22 11:58:23 - bfio.backends - WARNING  - Java backend is not available. This could be due to a missing dependency (jpype).\n"
     ]
    }
   ],
   "source": [
    "import os\n",
    "import sys\n",
    "import importlib\n",
    "import concurrent\n",
    "import numpy as np\n",
    "import pandas as pd\n",
    "from pathlib import Path\n",
    "from tqdm.notebook import tqdm\n",
    "from skimage import io as skio\n",
    "import matplotlib.pyplot as plt\n",
    "from aicscytoparam import cytoparam\n",
    "from sklearn.decomposition import PCA\n",
    "from aicsshparam import shtools, shparam\n",
    "from aicsimageio import AICSImage\n",
    "from aicsimageio.writers import OmeTiffWriter\n",
    "from cvapipe_analysis.tools import io, viz, general, controller, shapespace, plotting"
   ]
  },
  {
   "cell_type": "code",
   "execution_count": 2,
   "id": "63287ec4",
   "metadata": {},
   "outputs": [],
   "source": [
    "config = general.load_config_file(\"/allen/aics/assay-dev/MicroscopyOtherData/Viana/datasets/variance/\")"
   ]
  },
  {
   "cell_type": "code",
   "execution_count": 3,
   "id": "86d2a31d",
   "metadata": {},
   "outputs": [],
   "source": [
    "config[\"project\"][\"local_staging\"] = \"/allen/aics/assay-dev/MicroscopyOtherData/Viana/datasets/variance/\""
   ]
  },
  {
   "cell_type": "code",
   "execution_count": 5,
   "id": "6d173608",
   "metadata": {},
   "outputs": [],
   "source": [
    "control = controller.Controller(config)\n",
    "device = io.LocalStagingIO(control)"
   ]
  },
  {
   "cell_type": "code",
   "execution_count": 6,
   "id": "6bb45a9d",
   "metadata": {},
   "outputs": [],
   "source": [
    "df = device.load_step_manifest(\"preprocessing\")"
   ]
  },
  {
   "cell_type": "code",
   "execution_count": 7,
   "id": "ebd1dfd1",
   "metadata": {},
   "outputs": [],
   "source": [
    "space = shapespace.ShapeSpace(control)\n",
    "space.execute(df)"
   ]
  },
  {
   "cell_type": "code",
   "execution_count": null,
   "id": "9de6d452",
   "metadata": {},
   "outputs": [],
   "source": [
    "# space.set_active_shape_mode(\"NUC_MEM_PC1\", digitize=True)\n",
    "# mpId = control.get_center_map_point_index()\n",
    "# space.set_active_map_point_index(mpId)\n",
    "# CellIds = space.get_active_cellids()"
   ]
  },
  {
   "cell_type": "code",
   "execution_count": 8,
   "id": "e54f6f82",
   "metadata": {},
   "outputs": [],
   "source": [
    "space.set_active_shape_mode(\"NUC_MEM_PC1\", digitize=True)\n",
    "df_withbins = df.join(space.meta[space.meta[\"mpId\"] == control.get_center_map_point_index()][\"mpId\"])\n",
    "df_withbins = df_withbins[df_withbins[\"mpId\"].notna()]"
   ]
  },
  {
   "cell_type": "code",
   "execution_count": 27,
   "id": "ed7a4d54",
   "metadata": {},
   "outputs": [],
   "source": [
    "SEED = 24\n",
    "sampled_strucs = []\n",
    "for _, data in df_withbins.groupby([\"structure_name\"]):\n",
    "    sampled_struc_data = data.sample(32, random_state=SEED)\n",
    "    sampled_strucs.append(sampled_struc_data)\n",
    "df_subset = pd.concat(sampled_strucs)"
   ]
  },
  {
   "cell_type": "code",
   "execution_count": 28,
   "id": "8e8cbf4c",
   "metadata": {},
   "outputs": [
    {
     "data": {
      "text/plain": [
       "AAVS1        32\n",
       "NPM1         32\n",
       "TOMM20       32\n",
       "TJP1         32\n",
       "ST6GAL1      32\n",
       "SON          32\n",
       "SMC1A        32\n",
       "SLC25A17     32\n",
       "SEC61B       32\n",
       "RAB5A        32\n",
       "PXN          32\n",
       "NUP153       32\n",
       "MYH10        32\n",
       "ACTB         32\n",
       "LMNB1        32\n",
       "LAMP1        32\n",
       "HIST1H2BJ    32\n",
       "GJA1         32\n",
       "FBL          32\n",
       "DSP          32\n",
       "CTNNB1       32\n",
       "CETN2        32\n",
       "ATP2A2       32\n",
       "ACTN1        32\n",
       "TUBA1B       32\n",
       "Name: structure_name, dtype: int64"
      ]
     },
     "execution_count": 28,
     "metadata": {},
     "output_type": "execute_result"
    }
   ],
   "source": [
    "df_subset[\"structure_name\"].value_counts()"
   ]
  },
  {
   "cell_type": "code",
   "execution_count": 30,
   "id": "aaf45fba",
   "metadata": {},
   "outputs": [
    {
     "data": {
      "text/plain": [
       "{'appName': 'cvapipe_analysis',\n",
       " 'project': {'local_staging': '/allen/aics/assay-dev/MicroscopyOtherData/Viana/datasets/variance/',\n",
       "  'overwrite': False},\n",
       " 'data': {'cell': {'alias': 'MEM',\n",
       "   'channel': 'membrane_segmentation',\n",
       "   'color': '#F200FF'},\n",
       "  'cell-roof': {'alias': 'MEMROOF',\n",
       "   'channel': 'membrane_segmentation_roof',\n",
       "   'color': '#F200FF'},\n",
       "  'nucleus': {'alias': 'NUC',\n",
       "   'channel': 'dna_segmentation',\n",
       "   'color': '#3AADA7'},\n",
       "  'structure': {'alias': 'STR',\n",
       "   'channel': 'struct_segmentation_roof',\n",
       "   'color': '#000000'},\n",
       "  'raw-structure-str': {'alias': 'RAWSTR_MASKEDBY_STR',\n",
       "   'channel': 'structure',\n",
       "   'color': '#000000'},\n",
       "  'raw-structure-nuc': {'alias': 'RAWSTR_MASKEDBY_NUC',\n",
       "   'channel': 'structure',\n",
       "   'color': '#000000'},\n",
       "  'raw-structure-mem': {'alias': 'RAWSTR_MASKEDBY_MEM',\n",
       "   'channel': 'structure',\n",
       "   'color': '#000000'}},\n",
       " 'features': {'aliases': ['NUC',\n",
       "   'MEM',\n",
       "   'STR',\n",
       "   'RAWSTR_MASKEDBY_STR',\n",
       "   'RAWSTR_MASKEDBY_NUC',\n",
       "   'RAWSTR_MASKEDBY_MEM'],\n",
       "  'intensity': {'RAWSTR_MASKEDBY_STR': 'STR',\n",
       "   'RAWSTR_MASKEDBY_NUC': 'NUC',\n",
       "   'RAWSTR_MASKEDBY_MEM': 'MEMROOF'},\n",
       "  'SHE': {'alignment': {'align': True, 'unique': False, 'reference': 'cell'},\n",
       "   'aliases': ['NUC', 'MEM'],\n",
       "   'sigma': {'NUC': 2, 'MEM': 2},\n",
       "   'lmax': 16}},\n",
       " 'preprocessing': {'remove_mitotics': True,\n",
       "  'remove_outliers': True,\n",
       "  'filtering': {'filter': False, 'csv': None, 'specs': None}},\n",
       " 'shapespace': {'aliases': ['NUC', 'MEM'],\n",
       "  'sorter': 'MEM',\n",
       "  'removal_pct': 1.0,\n",
       "  'number_of_shape_modes': 8,\n",
       "  'map_points': [-2.0, -1.5, -1.0, -0.5, 0.0, 0.5, 1.0, 1.5, 2.0],\n",
       "  'plot': {'frame': True,\n",
       "   'swapxy_on_zproj': False,\n",
       "   'limits': [-150, 150, -80, 80]}},\n",
       " 'parameterization': {'inner': 'NUC',\n",
       "  'outer': 'MEM',\n",
       "  'parameterize': ['STR'],\n",
       "  'number_of_interpolating_points': 32},\n",
       " 'aggregation': {'type': ['avg']},\n",
       " 'structures': {'FBL': ['nucleoli [DFC)',\n",
       "   '#A9D1E5',\n",
       "   \"{'raw': (420, 2610), 'seg': (0,30), 'avgseg': (80,160)}\"],\n",
       "  'NPM1': ['nucleoli [GC)',\n",
       "   '#88D1E5',\n",
       "   \"{'raw': (480, 8300), 'seg': (0,30), 'avgseg': (80,160)}\"],\n",
       "  'SON': ['nuclear speckles',\n",
       "   '#3292C9',\n",
       "   \"{'raw': (420, 1500), 'seg': (0,10), 'avgseg': (10,60)}\"],\n",
       "  'SMC1A': ['cohesins',\n",
       "   '#306598',\n",
       "   \"{'raw': (450, 630), 'seg': (0,2), 'avgseg': (0,15)}\"],\n",
       "  'HIST1H2BJ': ['histones',\n",
       "   '#305098',\n",
       "   \"{'raw': (450, 2885), 'seg': (0,30), 'avgseg': (10,100)}\"],\n",
       "  'LMNB1': ['nuclear envelope',\n",
       "   '#084AE7',\n",
       "   \"{'raw': (475,1700), 'seg': (0,30), 'avgseg': (0,60)}\"],\n",
       "  'NUP153': ['nuclear pores',\n",
       "   '#0840E7',\n",
       "   \"{'raw': (420, 600), 'seg': (0,15), 'avgseg': (0,50)}\"],\n",
       "  'SEC61B': ['ER [Sec61 beta)',\n",
       "   '#FFFFB5',\n",
       "   \"{'raw': (490,1070), 'seg': (0,30), 'avgseg': (0,100)}\"],\n",
       "  'ATP2A2': ['ER [SERCA2)',\n",
       "   '#FFFFA0',\n",
       "   \"{'raw': (430,670), 'seg': (0,25), 'avgseg': (0,80)}\"],\n",
       "  'SLC25A17': ['peroxisomes',\n",
       "   '#FFD184',\n",
       "   \"{'raw': (400,515), 'seg': (0,7), 'avgseg': (0,15)}\"],\n",
       "  'RAB5A': ['endosomes',\n",
       "   '#FFC846',\n",
       "   \"{'raw': (420,600), 'seg': (0,7), 'avgseg': (0,10)}\"],\n",
       "  'TOMM20': ['mitochondria',\n",
       "   '#FFBE37',\n",
       "   \"{'raw': (410,815), 'seg': (0,27), 'avgseg': (0,50)}\"],\n",
       "  'LAMP1': ['lysosomes',\n",
       "   '#AD952A',\n",
       "   \"{'raw': (440,800), 'seg': (0,27), 'avgseg': (0,30)}\"],\n",
       "  'ST6GAL1': ['Golgi',\n",
       "   '#B7952A',\n",
       "   \"{'raw': (400,490), 'seg': (0,17), 'avgseg': (0,30)}\"],\n",
       "  'TUBA1B': ['microtubules',\n",
       "   '#9D7000',\n",
       "   \"{'raw': (1100,3200), 'seg': (0,22), 'avgseg': (0,60)}\"],\n",
       "  'CETN2': ['centrioles',\n",
       "   '#C8E1AA',\n",
       "   \"{'raw': (440,800), 'seg': (0, 2), 'avgseg': (0,2)}\"],\n",
       "  'GJA1': ['gap junctions',\n",
       "   '#BEE18C',\n",
       "   \"{'raw': (420,2200), 'seg': (0,4), 'avgseg': (0,8)}\"],\n",
       "  'TJP1': ['tight junctions',\n",
       "   '#B4C878',\n",
       "   \"{'raw': (420,1500), 'seg': (0,8), 'avgseg': (0,20)}\"],\n",
       "  'DSP': ['desmosomes',\n",
       "   '#B4C864',\n",
       "   \"{'raw': (410,620), 'seg': (0,5), 'avgseg': (0,3)}\"],\n",
       "  'CTNNB1': ['adherens junctions',\n",
       "   '#96AA46',\n",
       "   \"{'raw': (410,750), 'seg': (0,22), 'avgseg': (5,40)}\"],\n",
       "  'AAVS1': ['plasma membrane',\n",
       "   '#FFD2FF',\n",
       "   \"{'raw': (505,2255), 'seg': (0,30), 'avgseg': (10,120)}\"],\n",
       "  'ACTB': ['actin filaments',\n",
       "   '#E6A0FF',\n",
       "   \"{'raw': (550,1300), 'seg': (0,18), 'avgseg': (0,35)}\"],\n",
       "  'ACTN1': ['actin bundles',\n",
       "   '#E696FF',\n",
       "   \"{'raw': (440,730), 'seg': (0,13), 'avgseg': (0,25)}\"],\n",
       "  'MYH10': ['actomyosin bundles',\n",
       "   '#FF82FF',\n",
       "   \"{'raw': (440,900), 'seg': (0,13), 'avgseg': (0,25)}\"],\n",
       "  'PXN': ['matrix adhesions',\n",
       "   '#CB1CCC',\n",
       "   \"{'raw': (410,490), 'seg': (0,5), 'avgseg': (0,5)}\"]},\n",
       " 'distribute': {'cores': 30,\n",
       "  'number_of_workers': 16,\n",
       "  'memory': '8GB',\n",
       "  'queue': 'aics_cpu_general',\n",
       "  'walltime': '9-24:00:00',\n",
       "  'python_env': '/home/matheus.viana/anaconda3/envs/cvapipe/'},\n",
       " 'log': {}}"
      ]
     },
     "execution_count": 30,
     "metadata": {},
     "output_type": "execute_result"
    }
   ],
   "source": [
    "config"
   ]
  },
  {
   "cell_type": "code",
   "execution_count": 31,
   "id": "99afd039",
   "metadata": {},
   "outputs": [],
   "source": [
    "from cvapipe_analysis.steps.parameterization.parameterization_tools import Parameterizer\n",
    "\n",
    "parameterizer = Parameterizer(control)\n",
    "parameterizer.subfolder = \"parameterization/representations_reconerr_seg\""
   ]
  },
  {
   "cell_type": "code",
   "execution_count": null,
   "id": "f876d11b",
   "metadata": {},
   "outputs": [],
   "source": [
    "# using raw data"
   ]
  },
  {
   "cell_type": "code",
   "execution_count": null,
   "id": "43df16c3",
   "metadata": {},
   "outputs": [],
   "source": [
    "# using seg data"
   ]
  },
  {
   "cell_type": "code",
   "execution_count": null,
   "id": "8de7b272",
   "metadata": {},
   "outputs": [],
   "source": []
  }
 ],
 "metadata": {
  "kernelspec": {
   "display_name": "Python 3 (ipykernel)",
   "language": "python",
   "name": "python3"
  },
  "language_info": {
   "codemirror_mode": {
    "name": "ipython",
    "version": 3
   },
   "file_extension": ".py",
   "mimetype": "text/x-python",
   "name": "python",
   "nbconvert_exporter": "python",
   "pygments_lexer": "ipython3",
   "version": "3.8.13"
  }
 },
 "nbformat": 4,
 "nbformat_minor": 5
}
