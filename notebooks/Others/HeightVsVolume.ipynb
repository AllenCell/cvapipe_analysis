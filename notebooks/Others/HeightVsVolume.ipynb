{
 "cells": [
  {
   "cell_type": "code",
   "execution_count": 2,
   "id": "01691c3e",
   "metadata": {},
   "outputs": [],
   "source": [
    "# Exploring height vs volume"
   ]
  },
  {
   "cell_type": "code",
   "execution_count": 3,
   "id": "47099de9",
   "metadata": {},
   "outputs": [
    {
     "name": "stdout",
     "output_type": "stream",
     "text": [
      "/allen/aics/assay-dev/MicroscopyOtherData/Viana/projects/cvapipe_analysis/local_staging_notebooks/Others\n",
      "Wed Jun 22 21:46:16 PDT 2022\n"
     ]
    }
   ],
   "source": [
    "!pwd\n",
    "!date"
   ]
  },
  {
   "cell_type": "code",
   "execution_count": 4,
   "id": "1a1b3e9c",
   "metadata": {},
   "outputs": [],
   "source": [
    "import os\n",
    "import sys\n",
    "import importlib\n",
    "import concurrent\n",
    "import numpy as np\n",
    "import pandas as pd\n",
    "from pathlib import Path\n",
    "from tqdm.notebook import tqdm\n",
    "from skimage import io as skio\n",
    "import matplotlib.pyplot as plt\n",
    "from aicscytoparam import cytoparam\n",
    "from sklearn.decomposition import PCA\n",
    "from aicsshparam import shtools, shparam\n",
    "from aicsimageio import AICSImage\n",
    "from aicsimageio.writers import OmeTiffWriter\n",
    "from cvapipe_analysis.tools import io, viz, general, controller, shapespace, plotting\n",
    "\n",
    "sys.path.insert(1, '../tools')\n",
    "import common"
   ]
  },
  {
   "cell_type": "code",
   "execution_count": 11,
   "id": "82f0d177",
   "metadata": {},
   "outputs": [
    {
     "name": "stdout",
     "output_type": "stream",
     "text": [
      "baseline (202847, 1290)\n",
      "non-edge (5169, 1255)\n",
      "edge (4477, 1290)\n",
      "i1 (1969, 1290)\n",
      "i2 (877, 1290)\n",
      "m1 (2201, 1255)\n",
      "m2 (981, 1255)\n"
     ]
    }
   ],
   "source": [
    "dfs = {}\n",
    "for staging, ds in zip([\"variance\",\"edge_cells_midpoint_expanded\",\"variance_edges\",\"variance_m1m2\",\"variance_m3\",\"m1m2\",\"m3\"],[\"baseline\", \"non-edge\", \"edge\", \"i1\", \"i2\", \"m1\", \"m2\"]):\n",
    "    path_step = Path(f\"/allen/aics/assay-dev/MicroscopyOtherData/Viana/projects/cvapipe_analysis/local_staging_{staging}/preprocessing\")\n",
    "    config = general.load_config_file(path=path_step, fname=\"parameters.yaml\")\n",
    "    control = controller.Controller(config)\n",
    "    device = io.LocalStagingIO(control)\n",
    "    df = device.load_step_manifest(\"preprocessing\")\n",
    "    dfs[ds] = df\n",
    "    print(ds, df.shape)"
   ]
  },
  {
   "cell_type": "code",
   "execution_count": 12,
   "id": "f66a247c",
   "metadata": {},
   "outputs": [
    {
     "name": "stdout",
     "output_type": "stream",
     "text": [
      "baseline: 0.34\n",
      "non-edge: 0.34\n",
      "edge: 0.37\n",
      "i1: 0.41\n",
      "i2: 0.50\n",
      "m1: 0.39\n",
      "m2: 0.42\n"
     ]
    }
   ],
   "source": [
    "for ds, df in dfs.items():\n",
    "    corr = np.corrcoef(df.MEM_shape_volume.values,df.MEM_position_depth.values)[0,1]\n",
    "    print(f\"{ds}: {corr:.2f}\")"
   ]
  },
  {
   "cell_type": "code",
   "execution_count": 35,
   "id": "ed7c30ca",
   "metadata": {},
   "outputs": [
    {
     "data": {
      "image/png": "[encoded data removed]",
      "text/plain": [
       "<Figure size 216x216 with 1 Axes>"
      ]
     },
     "metadata": {
      "needs_background": "light"
     },
     "output_type": "display_data"
    }
   ],
   "source": [
    "fig, ax = plt.subplots(1,1, figsize=(3,3))\n",
    "for staging, ds in zip([\"variance\",\"variance_edges\",\"edge_cells_midpoint_expanded\",\"variance_m1m2\",\"variance_m3\",\"m1m2\",\"m3\"],[\"baseline\", \"non-edge\", \"edge\", \"i1\", \"i2\", \"m1\", \"m2\"]):\n",
    "    if \"edge\" in ds or \"baseline\" in ds:\n",
    "        path_step = Path(f\"/allen/aics/assay-dev/MicroscopyOtherData/Viana/projects/cvapipe_analysis/local_staging_{staging}/shapemode\")\n",
    "        config = general.load_config_file(path=path_step, fname=\"parameters.yaml\")\n",
    "        control = controller.Controller(config)\n",
    "        device = io.LocalStagingIO(control)\n",
    "        space = shapespace.ShapeSpace(control)\n",
    "        space.execute(dfs[ds])\n",
    "        y = dfs[ds].MEM_shape_volume*(0.108**3)\n",
    "        if ds == \"baseline\":\n",
    "            ax.hist(y, density=True, label=ds, color=\"gray\", alpha=0.5)\n",
    "        elif ds in [\"non-edge\", \"i1\", \"i2\"]:\n",
    "            ax.hist(y, density=True, histtype=\"step\", label=ds, lw=3, color=\"k\")\n",
    "        else:\n",
    "            ax.hist(y, density=True, histtype=\"step\", label=ds, lw=3, color=\"r\")\n",
    "ax.set_xlabel(\"cell volume (µm3)\", fontsize=14)\n",
    "plt.legend()\n",
    "plt.show()"
   ]
  },
  {
   "cell_type": "code",
   "execution_count": 34,
   "id": "1e210843",
   "metadata": {},
   "outputs": [
    {
     "data": {
      "image/png": "[encoded data removed]",
      "text/plain": [
       "<Figure size 216x216 with 1 Axes>"
      ]
     },
     "metadata": {
      "needs_background": "light"
     },
     "output_type": "display_data"
    }
   ],
   "source": [
    "fig, ax = plt.subplots(1,1, figsize=(3,3))\n",
    "for staging, ds in zip([\"variance\",\"variance_edges\",\"edge_cells_midpoint_expanded\",\"variance_m1m2\",\"variance_m3\",\"m1m2\",\"m3\"],[\"baseline\", \"non-edge\", \"edge\", \"i1\", \"i2\", \"m1\", \"m2\"]):\n",
    "    if \"edge\" in ds or \"baseline\" in ds:\n",
    "        path_step = Path(f\"/allen/aics/assay-dev/MicroscopyOtherData/Viana/projects/cvapipe_analysis/local_staging_{staging}/shapemode\")\n",
    "        config = general.load_config_file(path=path_step, fname=\"parameters.yaml\")\n",
    "        control = controller.Controller(config)\n",
    "        device = io.LocalStagingIO(control)\n",
    "        space = shapespace.ShapeSpace(control)\n",
    "        space.execute(dfs[ds])\n",
    "        y = dfs[ds].MEM_position_depth*(0.108**1)\n",
    "        if ds == \"baseline\":\n",
    "            ax.hist(y, density=True, label=ds, color=\"gray\", alpha=0.5)\n",
    "        elif ds in [\"non-edge\", \"i1\", \"i2\"]:\n",
    "            ax.hist(y, density=True, histtype=\"step\", label=ds, lw=3, color=\"k\")\n",
    "        else:\n",
    "            ax.hist(y, density=True, histtype=\"step\", label=ds, lw=3, color=\"r\")\n",
    "ax.set_xlabel(\"cell height (µm)\", fontsize=14)\n",
    "plt.legend()\n",
    "plt.show()"
   ]
  },
  {
   "cell_type": "code",
   "execution_count": null,
   "id": "5f7e92e7",
   "metadata": {},
   "outputs": [],
   "source": []
  }
 ],
 "metadata": {
  "kernelspec": {
   "display_name": "Python 3 (ipykernel)",
   "language": "python",
   "name": "python3"
  },
  "language_info": {
   "codemirror_mode": {
    "name": "ipython",
    "version": 3
   },
   "file_extension": ".py",
   "mimetype": "text/x-python",
   "name": "python",
   "nbconvert_exporter": "python",
   "pygments_lexer": "ipython3",
   "version": "3.8.12"
  }
 },
 "nbformat": 4,
 "nbformat_minor": 5
}
