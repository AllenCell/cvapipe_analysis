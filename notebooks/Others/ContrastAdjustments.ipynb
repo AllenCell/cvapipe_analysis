{
 "cells": [
  {
   "cell_type": "code",
   "execution_count": 1,
   "id": "b402ed37",
   "metadata": {},
   "outputs": [],
   "source": [
    "# Helper to adjust contrast of avg seg of a given structure"
   ]
  },
  {
   "cell_type": "code",
   "execution_count": 2,
   "id": "12ffd6df",
   "metadata": {},
   "outputs": [
    {
     "name": "stdout",
     "output_type": "stream",
     "text": [
      "/allen/aics/assay-dev/MicroscopyOtherData/Viana/projects/cvapipe_analysis/local_staging_notebooks/Others\n",
      "Fri Jun 24 11:02:27 PDT 2022\n"
     ]
    }
   ],
   "source": [
    "!pwd\n",
    "!date"
   ]
  },
  {
   "cell_type": "code",
   "execution_count": 3,
   "id": "19e31877",
   "metadata": {},
   "outputs": [],
   "source": [
    "import os\n",
    "import sys\n",
    "import pickle\n",
    "import importlib\n",
    "import concurrent\n",
    "import numpy as np\n",
    "import pandas as pd\n",
    "from pathlib import Path\n",
    "from tqdm.notebook import tqdm\n",
    "from skimage import io as skio\n",
    "import matplotlib.pyplot as plt\n",
    "from aicscytoparam import cytoparam\n",
    "from aicsshparam import shtools, shparam\n",
    "from aicsimageio import AICSImage\n",
    "from aicsimageio.writers import OmeTiffWriter\n",
    "from cvapipe_analysis.tools import io, viz, general, controller, shapespace, plotting\n",
    "\n",
    "sys.path.insert(1, '../tools')\n",
    "import common"
   ]
  },
  {
   "cell_type": "code",
   "execution_count": 4,
   "id": "d9089dea",
   "metadata": {},
   "outputs": [],
   "source": [
    "# Controller form cvapipe_analysis\n",
    "path_config = Path(\"/allen/aics/assay-dev/MicroscopyOtherData/Viana/projects/cvapipe_analysis/\")\n",
    "config = general.load_config_file(path_config)\n",
    "control_main = controller.Controller(config)"
   ]
  },
  {
   "cell_type": "code",
   "execution_count": 5,
   "id": "ee4e913a",
   "metadata": {},
   "outputs": [
    {
     "name": "stdout",
     "output_type": "stream",
     "text": [
      "/allen/aics/assay-dev/MicroscopyOtherData/Viana/projects/cvapipe_analysis/local_staging_variance\n"
     ]
    }
   ],
   "source": [
    "# Controller form cvapipe_analysis\n",
    "path_step = Path(\"/allen/aics/assay-dev/MicroscopyOtherData/Viana/projects/cvapipe_analysis/local_staging_variance/shapemode\")\n",
    "control, device = common.get_managers_from_step_path(path_step)\n",
    "print(control.get_staging())"
   ]
  },
  {
   "cell_type": "markdown",
   "id": "840da89a",
   "metadata": {},
   "source": [
    "### Create domain"
   ]
  },
  {
   "cell_type": "code",
   "execution_count": 6,
   "id": "83516ead",
   "metadata": {},
   "outputs": [],
   "source": [
    "gene = \"PXN\""
   ]
  },
  {
   "cell_type": "code",
   "execution_count": 7,
   "id": "c0591519",
   "metadata": {},
   "outputs": [
    {
     "data": {
      "text/plain": [
       "<module 'cvapipe_analysis.tools.io' from '/allen/aics/assay-dev/MicroscopyOtherData/Viana/projects/cvapipe_analysis/cvapipe_analysis/tools/io.py'>"
      ]
     },
     "execution_count": 7,
     "metadata": {},
     "output_type": "execute_result"
    }
   ],
   "source": [
    "importlib.reload(io)"
   ]
  },
  {
   "cell_type": "code",
   "execution_count": 8,
   "id": "4e53fb60",
   "metadata": {},
   "outputs": [],
   "source": [
    "morphs = []\n",
    "for staging, ds in zip([\"local_staging_variance_m1m2\", \"local_staging_variance_m3\", \"local_staging_m1m2\", \"local_staging_m3\"], [\"m1\", \"m2\", \"m1\", \"m2\"]):\n",
    "    path_step = Path(f\"/allen/aics/assay-dev/MicroscopyOtherData/Viana/projects/cvapipe_analysis/{staging}/shapemode\")\n",
    "    control, device = common.get_managers_from_step_path(path_step)\n",
    "\n",
    "    nisos = control.get_number_of_interpolating_points()\n",
    "    inner_alias = control.get_inner_most_alias_to_parameterize()\n",
    "    outer_alias = control.get_outer_most_alias_to_parameterize()\n",
    "    inner_mesh = device.read_vtk_polydata(f\"../MovieMitosis/avgshape/{ds}_{inner_alias}_matched.vtk\")\n",
    "    outer_mesh = device.read_vtk_polydata(f\"../MovieMitosis/avgshape/{ds}_{outer_alias}_matched.vtk\")\n",
    "    domain, origin = cytoparam.voxelize_meshes([outer_mesh, inner_mesh])\n",
    "    coords_param, coeffs_centroid = cytoparam.parameterize_image_coordinates(\n",
    "        seg_mem=(domain>0).astype(np.uint8),\n",
    "        seg_nuc=(domain>1).astype(np.uint8),\n",
    "        lmax=control.get_lmax(), nisos=[nisos, nisos]\n",
    "    )\n",
    "    coeffs_mem, centroid_mem, coeffs_nuc, centroid_nuc = coeffs_centroid\n",
    "    coords_param += np.array(centroid_nuc).reshape(3, 1, 1)-np.array(centroid_mem).reshape(3, 1, 1)\n",
    "\n",
    "    row = pd.Series({\"shape_mode\": \"NUC_MEM_PC1\", \"mpId\": 1, \"aggtype\": \"avg\", \"alias\": \"STR\", \"structure\": gene})\n",
    "    rep = device.read_agg_parameterized_intensity(row, normalized=False)\n",
    "    morphed = cytoparam.morph_representation_on_shape(\n",
    "        img=domain,\n",
    "        param_img_coords=coords_param,\n",
    "        representation=rep\n",
    "    )\n",
    "    morphs.append(morphed)"
   ]
  },
  {
   "cell_type": "code",
   "execution_count": 9,
   "id": "d17ad647",
   "metadata": {},
   "outputs": [],
   "source": [
    "vmin, vmax = np.array([np.percentile(m[m>0], [0, 99]) for m in morphs[:2]]).mean(axis=0)"
   ]
  },
  {
   "cell_type": "code",
   "execution_count": 10,
   "id": "b73a4335",
   "metadata": {},
   "outputs": [],
   "source": [
    "# vmin, vmax = control_main.get_optimal_avgseg_contrast(gene)\n",
    "# print(vmin, vmax)"
   ]
  },
  {
   "cell_type": "code",
   "execution_count": 15,
   "id": "be73e144",
   "metadata": {},
   "outputs": [],
   "source": [
    "vmin, vmax = 0, 11"
   ]
  },
  {
   "cell_type": "code",
   "execution_count": 16,
   "id": "75601e72",
   "metadata": {},
   "outputs": [
    {
     "data": {
      "image/png": "[encoded data removed]",
      "text/plain": [
       "<Figure size 864x216 with 4 Axes>"
      ]
     },
     "metadata": {
      "needs_background": "light"
     },
     "output_type": "display_data"
    },
    {
     "data": {
      "image/png": "[encoded data removed]",
      "text/plain": [
       "<Figure size 864x216 with 4 Axes>"
      ]
     },
     "metadata": {
      "needs_background": "light"
     },
     "output_type": "display_data"
    }
   ],
   "source": [
    "cm = [int(u.mean()) for u in np.where(domain>1)]\n",
    "fig, axs = plt.subplots(1,len(morphs), figsize=(3*len(morphs),3))\n",
    "for morph, ax in zip(morphs, axs):\n",
    "    ax.axis(\"off\")\n",
    "    ax.imshow(morph[cm[0]], cmap=\"inferno\", vmin=vmin, vmax=vmax, origin=\"lower\")\n",
    "plt.show()\n",
    "cm = [int(u.mean()) for u in np.where(domain>1)]\n",
    "fig, axs = plt.subplots(1,len(morphs), figsize=(3*len(morphs),3))\n",
    "for morph, ax in zip(morphs, axs):\n",
    "    ax.axis(\"off\")\n",
    "    ax.imshow(morph[:,cm[1]], cmap=\"inferno\", vmin=vmin, vmax=vmax, origin=\"lower\")\n",
    "plt.show()"
   ]
  },
  {
   "cell_type": "code",
   "execution_count": null,
   "id": "0c06d96e",
   "metadata": {},
   "outputs": [],
   "source": []
  }
 ],
 "metadata": {
  "kernelspec": {
   "display_name": "Python 3 (ipykernel)",
   "language": "python",
   "name": "python3"
  },
  "language_info": {
   "codemirror_mode": {
    "name": "ipython",
    "version": 3
   },
   "file_extension": ".py",
   "mimetype": "text/x-python",
   "name": "python",
   "nbconvert_exporter": "python",
   "pygments_lexer": "ipython3",
   "version": "3.8.12"
  }
 },
 "nbformat": 4,
 "nbformat_minor": 5
}
