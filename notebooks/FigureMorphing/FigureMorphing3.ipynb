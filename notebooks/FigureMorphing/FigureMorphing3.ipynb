{
 "cells": [
  {
   "cell_type": "code",
   "execution_count": 1,
   "id": "b402ed37",
   "metadata": {},
   "outputs": [],
   "source": [
    "# Create data for integrated cell viz"
   ]
  },
  {
   "cell_type": "code",
   "execution_count": 2,
   "id": "12ffd6df",
   "metadata": {},
   "outputs": [
    {
     "name": "stdout",
     "output_type": "stream",
     "text": [
      "Tue Feb 22 15:37:17 PST 2022\r\n"
     ]
    }
   ],
   "source": [
    "!date"
   ]
  },
  {
   "cell_type": "code",
   "execution_count": 15,
   "id": "19e31877",
   "metadata": {},
   "outputs": [],
   "source": [
    "import os\n",
    "import sys\n",
    "import importlib\n",
    "import numpy as np\n",
    "import pandas as pd\n",
    "from pathlib import Path\n",
    "from tqdm.notebook import tqdm\n",
    "from skimage import io as skio\n",
    "import matplotlib.pyplot as plt\n",
    "from aicscytoparam import cytoparam\n",
    "from aicsshparam import shtools, shparam\n",
    "from aicsimageio import AICSImage\n",
    "from aicsimageio.writers import OmeTiffWriter\n",
    "from cvapipe_analysis.tools import io, viz, general, controller, shapespace, plotting\n",
    "\n",
    "import common"
   ]
  },
  {
   "cell_type": "code",
   "execution_count": 4,
   "id": "9da4dea8",
   "metadata": {},
   "outputs": [
    {
     "data": {
      "text/plain": [
       "<module 'common' from '/allen/aics/assay-dev/MicroscopyOtherData/Viana/projects/cvapipe_analysis/local_staging_notebooks/FigureMorphing/common.py'>"
      ]
     },
     "execution_count": 4,
     "metadata": {},
     "output_type": "execute_result"
    }
   ],
   "source": [
    "importlib.reload(common)"
   ]
  },
  {
   "cell_type": "code",
   "execution_count": 5,
   "id": "ee4e913a",
   "metadata": {},
   "outputs": [
    {
     "name": "stdout",
     "output_type": "stream",
     "text": [
      "/allen/aics/assay-dev/MicroscopyOtherData/Viana/projects/cvapipe_analysis/local_staging_variance\n"
     ]
    }
   ],
   "source": [
    "# Controller form cvapipe_analysis\n",
    "path_config = Path(\"/allen/aics/assay-dev/MicroscopyOtherData/Viana/projects/cvapipe_analysis/\")\n",
    "control = controller.Controller(general.load_config_file(path_config))\n",
    "print(control.get_staging())"
   ]
  },
  {
   "cell_type": "markdown",
   "id": "797009a2",
   "metadata": {},
   "source": [
    "### Create the domain to morph structures into"
   ]
  },
  {
   "cell_type": "code",
   "execution_count": 6,
   "id": "f36de3ea",
   "metadata": {},
   "outputs": [
    {
     "data": {
      "text/html": [
       "<div>\n",
       "<style scoped>\n",
       "    .dataframe tbody tr th:only-of-type {\n",
       "        vertical-align: middle;\n",
       "    }\n",
       "\n",
       "    .dataframe tbody tr th {\n",
       "        vertical-align: top;\n",
       "    }\n",
       "\n",
       "    .dataframe thead th {\n",
       "        text-align: right;\n",
       "    }\n",
       "</style>\n",
       "<table border=\"1\" class=\"dataframe\">\n",
       "  <thead>\n",
       "    <tr style=\"text-align: right;\">\n",
       "      <th></th>\n",
       "      <th>shape_mode</th>\n",
       "      <th>mpId</th>\n",
       "      <th>aggtype</th>\n",
       "      <th>alias</th>\n",
       "    </tr>\n",
       "  </thead>\n",
       "  <tbody>\n",
       "    <tr>\n",
       "      <th>4</th>\n",
       "      <td>NUC_MEM_PC1</td>\n",
       "      <td>5</td>\n",
       "      <td>avg</td>\n",
       "      <td>STR</td>\n",
       "    </tr>\n",
       "  </tbody>\n",
       "</table>\n",
       "</div>"
      ],
      "text/plain": [
       "    shape_mode  mpId aggtype alias\n",
       "4  NUC_MEM_PC1     5     avg   STR"
      ]
     },
     "execution_count": 6,
     "metadata": {},
     "output_type": "execute_result"
    }
   ],
   "source": [
    "space = shapespace.ShapeSpaceBasic(control)\n",
    "variables = control.get_variables_values_for_aggregation()\n",
    "df = space.get_aggregated_df(variables).drop(columns=[\"structure\"]).drop_duplicates().reset_index(drop=True)\n",
    "df = df.loc[df.mpId==control.get_center_map_point_index()].head(1)\n",
    "df"
   ]
  },
  {
   "cell_type": "code",
   "execution_count": 7,
   "id": "b98ec637",
   "metadata": {},
   "outputs": [],
   "source": [
    "row = df.loc[df.index[0]]\n",
    "device = io.LocalStagingIO(control)\n",
    "device.row = row"
   ]
  },
  {
   "cell_type": "code",
   "execution_count": 8,
   "id": "d2efccfe",
   "metadata": {},
   "outputs": [],
   "source": [
    "nisos = control.get_number_of_interpolating_points()\n",
    "inner_alias = control.get_inner_most_alias_to_parameterize()\n",
    "inner_mesh = device.read_map_point_mesh(inner_alias)\n",
    "outer_alias = control.get_outer_most_alias_to_parameterize()\n",
    "outer_mesh = device.read_map_point_mesh(outer_alias)\n",
    "domain, origin = cytoparam.voxelize_meshes([outer_mesh, inner_mesh])\n",
    "coords_param, coeffs_centroid = cytoparam.parameterize_image_coordinates(\n",
    "    seg_mem=(domain>0).astype(np.uint8),\n",
    "    seg_nuc=(domain>1).astype(np.uint8),\n",
    "    lmax=control.get_lmax(), nisos=[nisos, nisos]\n",
    ")\n",
    "coeffs_mem, centroid_mem, coeffs_nuc, centroid_nuc = coeffs_centroid\n",
    "coords_param += np.array(centroid_nuc).reshape(3, 1, 1)-np.array(centroid_mem).reshape(3, 1, 1)"
   ]
  },
  {
   "cell_type": "code",
   "execution_count": 9,
   "id": "086e4abd",
   "metadata": {},
   "outputs": [
    {
     "data": {
      "text/html": [
       "<div>\n",
       "<style scoped>\n",
       "    .dataframe tbody tr th:only-of-type {\n",
       "        vertical-align: middle;\n",
       "    }\n",
       "\n",
       "    .dataframe tbody tr th {\n",
       "        vertical-align: top;\n",
       "    }\n",
       "\n",
       "    .dataframe thead th {\n",
       "        text-align: right;\n",
       "    }\n",
       "</style>\n",
       "<table border=\"1\" class=\"dataframe\">\n",
       "  <thead>\n",
       "    <tr style=\"text-align: right;\">\n",
       "      <th></th>\n",
       "      <th>shape_mode</th>\n",
       "      <th>mpId</th>\n",
       "      <th>aggtype</th>\n",
       "      <th>alias</th>\n",
       "      <th>structure</th>\n",
       "    </tr>\n",
       "  </thead>\n",
       "  <tbody>\n",
       "    <tr>\n",
       "      <th>0</th>\n",
       "      <td>NdSphere</td>\n",
       "      <td>5</td>\n",
       "      <td>avg</td>\n",
       "      <td>STR</td>\n",
       "      <td>FBL</td>\n",
       "    </tr>\n",
       "    <tr>\n",
       "      <th>1</th>\n",
       "      <td>NdSphere</td>\n",
       "      <td>5</td>\n",
       "      <td>avg</td>\n",
       "      <td>STR</td>\n",
       "      <td>NPM1</td>\n",
       "    </tr>\n",
       "    <tr>\n",
       "      <th>2</th>\n",
       "      <td>NdSphere</td>\n",
       "      <td>5</td>\n",
       "      <td>avg</td>\n",
       "      <td>STR</td>\n",
       "      <td>SON</td>\n",
       "    </tr>\n",
       "    <tr>\n",
       "      <th>3</th>\n",
       "      <td>NdSphere</td>\n",
       "      <td>5</td>\n",
       "      <td>avg</td>\n",
       "      <td>STR</td>\n",
       "      <td>SMC1A</td>\n",
       "    </tr>\n",
       "    <tr>\n",
       "      <th>4</th>\n",
       "      <td>NdSphere</td>\n",
       "      <td>5</td>\n",
       "      <td>avg</td>\n",
       "      <td>STR</td>\n",
       "      <td>HIST1H2BJ</td>\n",
       "    </tr>\n",
       "  </tbody>\n",
       "</table>\n",
       "</div>"
      ],
      "text/plain": [
       "  shape_mode  mpId aggtype alias  structure\n",
       "0   NdSphere     5     avg   STR        FBL\n",
       "1   NdSphere     5     avg   STR       NPM1\n",
       "2   NdSphere     5     avg   STR        SON\n",
       "3   NdSphere     5     avg   STR      SMC1A\n",
       "4   NdSphere     5     avg   STR  HIST1H2BJ"
      ]
     },
     "execution_count": 9,
     "metadata": {},
     "output_type": "execute_result"
    }
   ],
   "source": [
    "variables = control.get_variables_values_for_aggregation()\n",
    "variables.update({\"shape_mode\": [\"NdSphere\"], \"mpId\": [control.get_center_map_point_index()]})\n",
    "space = shapespace.ShapeSpaceBasic(control)\n",
    "df = space.get_aggregated_df(variables)\n",
    "df.head()"
   ]
  },
  {
   "cell_type": "markdown",
   "id": "23c25b06",
   "metadata": {},
   "source": [
    "### Morph structures into domain"
   ]
  },
  {
   "cell_type": "code",
   "execution_count": 12,
   "id": "cc19454c",
   "metadata": {},
   "outputs": [
    {
     "data": {
      "application/vnd.jupyter.widget-view+json": {
       "model_id": "6cb1cd4650744a3db87876353703e37e",
       "version_major": 2,
       "version_minor": 0
      },
      "text/plain": [
       "  0%|          | 0/25 [00:00<?, ?it/s]"
      ]
     },
     "metadata": {},
     "output_type": "display_data"
    }
   ],
   "source": [
    "data = {}\n",
    "for gene in tqdm(control.get_gene_names()):\n",
    "    row = df.loc[df.structure==gene].iloc[0]\n",
    "    rep = device.read_agg_parameterized_intensity(row)\n",
    "    morphed = cytoparam.morph_representation_on_shape(\n",
    "        img=domain,\n",
    "        param_img_coords=coords_param,\n",
    "        representation=rep\n",
    "    )\n",
    "    data[gene] = morphed"
   ]
  },
  {
   "cell_type": "code",
   "execution_count": 13,
   "id": "d46379fc",
   "metadata": {},
   "outputs": [],
   "source": [
    "# Output folder\n",
    "output = \"/allen/aics/assay-dev/MicroscopyOtherData/Viana/forGraham/variance/cell_integration/data\""
   ]
  },
  {
   "cell_type": "code",
   "execution_count": 17,
   "id": "03b7f8bf",
   "metadata": {},
   "outputs": [],
   "source": [
    "for gene, img in data.items():\n",
    "    fname = os.path.join(output,f'{gene}_NdSphere.tif')\n",
    "    OmeTiffWriter.save(img, fname, dim_order=\"ZYX\", overwrite_file=True)"
   ]
  },
  {
   "cell_type": "code",
   "execution_count": null,
   "id": "d9548e28",
   "metadata": {},
   "outputs": [],
   "source": []
  }
 ],
 "metadata": {
  "kernelspec": {
   "display_name": "Python 3 (ipykernel)",
   "language": "python",
   "name": "python3"
  },
  "language_info": {
   "codemirror_mode": {
    "name": "ipython",
    "version": 3
   },
   "file_extension": ".py",
   "mimetype": "text/x-python",
   "name": "python",
   "nbconvert_exporter": "python",
   "pygments_lexer": "ipython3",
   "version": "3.8.12"
  }
 },
 "nbformat": 4,
 "nbformat_minor": 5
}
