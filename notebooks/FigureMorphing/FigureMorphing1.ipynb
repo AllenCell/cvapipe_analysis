{
 "cells": [
  {
   "cell_type": "code",
   "execution_count": 1,
   "id": "08923b86",
   "metadata": {},
   "outputs": [],
   "source": [
    "# Create viz for morphing and avg. reps on mean shape"
   ]
  },
  {
   "cell_type": "code",
   "execution_count": 2,
   "id": "10bc954c",
   "metadata": {},
   "outputs": [
    {
     "name": "stdout",
     "output_type": "stream",
     "text": [
      "Sun Jun 26 12:24:22 PDT 2022\r\n"
     ]
    }
   ],
   "source": [
    "!date"
   ]
  },
  {
   "cell_type": "code",
   "execution_count": 5,
   "id": "e498faaf",
   "metadata": {},
   "outputs": [],
   "source": [
    "import os\n",
    "import sys\n",
    "import json\n",
    "import importlib\n",
    "import numpy as np\n",
    "import pandas as pd\n",
    "from pathlib import Path\n",
    "from tqdm.notebook import tqdm\n",
    "import matplotlib.pyplot as plt\n",
    "from scipy import stats as spstats\n",
    "from aicscytoparam import cytoparam\n",
    "from scipy import cluster as spcluster\n",
    "from matplotlib import lines as pltlines\n",
    "from aicsimageio import AICSImage, writers\n",
    "from cvapipe_analysis.tools import io, viz, general, controller, shapespace, plotting\n",
    "\n",
    "sys.path.insert(1, '../tools')\n",
    "import common"
   ]
  },
  {
   "cell_type": "code",
   "execution_count": 6,
   "id": "6e9e2f53",
   "metadata": {},
   "outputs": [
    {
     "data": {
      "text/plain": [
       "<module 'common' from '/allen/aics/assay-dev/MicroscopyOtherData/Viana/projects/cvapipe_analysis/local_staging_notebooks/FigureMorphing/../tools/common.py'>"
      ]
     },
     "execution_count": 6,
     "metadata": {},
     "output_type": "execute_result"
    }
   ],
   "source": [
    "importlib.reload(common)"
   ]
  },
  {
   "cell_type": "code",
   "execution_count": 7,
   "id": "d93c3ecd",
   "metadata": {},
   "outputs": [
    {
     "name": "stdout",
     "output_type": "stream",
     "text": [
      "/allen/aics/assay-dev/MicroscopyOtherData/Viana/projects/cvapipe_analysis/local_staging_variance\n"
     ]
    }
   ],
   "source": [
    "path_config = Path(\"/allen/aics/assay-dev/MicroscopyOtherData/Viana/projects/cvapipe_analysis/\")\n",
    "control = controller.Controller(general.load_config_file(path_config))\n",
    "print(control.get_staging())"
   ]
  },
  {
   "cell_type": "code",
   "execution_count": 8,
   "id": "cd2b33a3",
   "metadata": {},
   "outputs": [
    {
     "data": {
      "text/html": [
       "<div>\n",
       "<style scoped>\n",
       "    .dataframe tbody tr th:only-of-type {\n",
       "        vertical-align: middle;\n",
       "    }\n",
       "\n",
       "    .dataframe tbody tr th {\n",
       "        vertical-align: top;\n",
       "    }\n",
       "\n",
       "    .dataframe thead th {\n",
       "        text-align: right;\n",
       "    }\n",
       "</style>\n",
       "<table border=\"1\" class=\"dataframe\">\n",
       "  <thead>\n",
       "    <tr style=\"text-align: right;\">\n",
       "      <th></th>\n",
       "      <th>shape_mode</th>\n",
       "      <th>mpId</th>\n",
       "      <th>aggtype</th>\n",
       "      <th>alias</th>\n",
       "    </tr>\n",
       "  </thead>\n",
       "  <tbody>\n",
       "    <tr>\n",
       "      <th>4</th>\n",
       "      <td>NUC_MEM_PC1</td>\n",
       "      <td>5</td>\n",
       "      <td>avg</td>\n",
       "      <td>STR</td>\n",
       "    </tr>\n",
       "  </tbody>\n",
       "</table>\n",
       "</div>"
      ],
      "text/plain": [
       "    shape_mode  mpId aggtype alias\n",
       "4  NUC_MEM_PC1     5     avg   STR"
      ]
     },
     "execution_count": 8,
     "metadata": {},
     "output_type": "execute_result"
    }
   ],
   "source": [
    "space = shapespace.ShapeSpaceBasic(control)\n",
    "variables = control.get_variables_values_for_aggregation()\n",
    "df = space.get_aggregated_df(variables).drop(columns=[\"structure\"]).drop_duplicates().reset_index(drop=True)\n",
    "df = df.loc[df.mpId==control.get_center_map_point_index()].head(1)\n",
    "df"
   ]
  },
  {
   "cell_type": "code",
   "execution_count": 9,
   "id": "3bfa25f5",
   "metadata": {},
   "outputs": [],
   "source": [
    "row = df.loc[df.index[0]]\n",
    "device = io.LocalStagingIO(control)\n",
    "device.row = row"
   ]
  },
  {
   "cell_type": "code",
   "execution_count": 10,
   "id": "eb404ac5",
   "metadata": {},
   "outputs": [],
   "source": [
    "domain, domain_nuc, domain_mem, coords_param = common.get_map_point_shape(control, device, row)"
   ]
  },
  {
   "cell_type": "code",
   "execution_count": null,
   "id": "85aef973",
   "metadata": {},
   "outputs": [],
   "source": [
    "# nisos = control.get_number_of_interpolating_points()\n",
    "# inner_alias = control.get_inner_most_alias_to_parameterize()\n",
    "# inner_mesh = device.read_map_point_mesh(inner_alias)\n",
    "# outer_alias = control.get_outer_most_alias_to_parameterize()\n",
    "# outer_mesh = device.read_map_point_mesh(outer_alias)\n",
    "# domain, origin = cytoparam.voxelize_meshes([outer_mesh, inner_mesh])\n",
    "# coords_param, coeffs_centroid = cytoparam.parameterize_image_coordinates(\n",
    "#     seg_mem=(domain>0).astype(np.uint8),\n",
    "#     seg_nuc=(domain>1).astype(np.uint8),\n",
    "#     lmax=control.get_lmax(), nisos=[nisos, nisos]\n",
    "# )\n",
    "# coeffs_mem, centroid_mem, coeffs_nuc, centroid_nuc = coeffs_centroid\n",
    "# coords_param += np.array(centroid_nuc).reshape(3, 1, 1)-np.array(centroid_mem).reshape(3, 1, 1)"
   ]
  },
  {
   "cell_type": "code",
   "execution_count": null,
   "id": "40a3ca2c",
   "metadata": {},
   "outputs": [],
   "source": [
    "# domain_nuc = (255*(domain>1)).astype(np.uint8)\n",
    "# domain_mem = (255*(domain>0)).astype(np.uint8)"
   ]
  },
  {
   "cell_type": "code",
   "execution_count": 11,
   "id": "f9d07ecb",
   "metadata": {},
   "outputs": [
    {
     "data": {
      "text/html": [
       "<div>\n",
       "<style scoped>\n",
       "    .dataframe tbody tr th:only-of-type {\n",
       "        vertical-align: middle;\n",
       "    }\n",
       "\n",
       "    .dataframe tbody tr th {\n",
       "        vertical-align: top;\n",
       "    }\n",
       "\n",
       "    .dataframe thead th {\n",
       "        text-align: right;\n",
       "    }\n",
       "</style>\n",
       "<table border=\"1\" class=\"dataframe\">\n",
       "  <thead>\n",
       "    <tr style=\"text-align: right;\">\n",
       "      <th></th>\n",
       "      <th>shape_mode</th>\n",
       "      <th>mpId</th>\n",
       "      <th>aggtype</th>\n",
       "      <th>alias</th>\n",
       "      <th>structure</th>\n",
       "    </tr>\n",
       "  </thead>\n",
       "  <tbody>\n",
       "    <tr>\n",
       "      <th>0</th>\n",
       "      <td>NdSphere</td>\n",
       "      <td>5</td>\n",
       "      <td>avg</td>\n",
       "      <td>STR</td>\n",
       "      <td>FBL</td>\n",
       "    </tr>\n",
       "    <tr>\n",
       "      <th>1</th>\n",
       "      <td>NdSphere</td>\n",
       "      <td>5</td>\n",
       "      <td>avg</td>\n",
       "      <td>STR</td>\n",
       "      <td>NPM1</td>\n",
       "    </tr>\n",
       "    <tr>\n",
       "      <th>2</th>\n",
       "      <td>NdSphere</td>\n",
       "      <td>5</td>\n",
       "      <td>avg</td>\n",
       "      <td>STR</td>\n",
       "      <td>SON</td>\n",
       "    </tr>\n",
       "    <tr>\n",
       "      <th>3</th>\n",
       "      <td>NdSphere</td>\n",
       "      <td>5</td>\n",
       "      <td>avg</td>\n",
       "      <td>STR</td>\n",
       "      <td>SMC1A</td>\n",
       "    </tr>\n",
       "    <tr>\n",
       "      <th>4</th>\n",
       "      <td>NdSphere</td>\n",
       "      <td>5</td>\n",
       "      <td>avg</td>\n",
       "      <td>STR</td>\n",
       "      <td>HIST1H2BJ</td>\n",
       "    </tr>\n",
       "  </tbody>\n",
       "</table>\n",
       "</div>"
      ],
      "text/plain": [
       "  shape_mode  mpId aggtype alias  structure\n",
       "0   NdSphere     5     avg   STR        FBL\n",
       "1   NdSphere     5     avg   STR       NPM1\n",
       "2   NdSphere     5     avg   STR        SON\n",
       "3   NdSphere     5     avg   STR      SMC1A\n",
       "4   NdSphere     5     avg   STR  HIST1H2BJ"
      ]
     },
     "execution_count": 11,
     "metadata": {},
     "output_type": "execute_result"
    }
   ],
   "source": [
    "variables = control.get_variables_values_for_aggregation()\n",
    "variables.update({\"shape_mode\": [\"NdSphere\"], \"mpId\": [control.get_center_map_point_index()]})\n",
    "space = shapespace.ShapeSpaceBasic(control)\n",
    "df = space.get_aggregated_df(variables)\n",
    "df.head()"
   ]
  },
  {
   "cell_type": "code",
   "execution_count": 12,
   "id": "bc756505",
   "metadata": {},
   "outputs": [],
   "source": [
    "genes = [\"ST6GAL1\"]\n",
    "dict_domain = dict([(f\"domain{i}\",domain==0) for i, _ in enumerate(genes)])\n",
    "axy = domain.shape[-2]/domain.shape[-1]\n",
    "axz = domain.shape[-3]/domain.shape[-1]"
   ]
  },
  {
   "cell_type": "code",
   "execution_count": 13,
   "id": "d48645d4",
   "metadata": {},
   "outputs": [],
   "source": [
    "data = {}\n",
    "for gene in genes:\n",
    "    row = df.loc[df.structure==gene].iloc[0]\n",
    "    if row.structure in genes:\n",
    "        rep = device.read_agg_parameterized_intensity(row)\n",
    "        morphed = cytoparam.morph_representation_on_shape(\n",
    "            img=domain,\n",
    "            param_img_coords=coords_param,\n",
    "            representation=rep\n",
    "        )\n",
    "        data[gene] = np.stack([domain_nuc, domain_mem, morphed], axis=0)"
   ]
  },
  {
   "cell_type": "code",
   "execution_count": 15,
   "id": "844446fc",
   "metadata": {},
   "outputs": [
    {
     "data": {
      "image/png": "[encoded data removed]",
      "text/plain": [
       "<Figure size 432x288 with 1 Axes>"
      ]
     },
     "metadata": {
      "needs_background": "light"
     },
     "output_type": "display_data"
    },
    {
     "data": {
      "image/png": "[encoded data removed]",
      "text/plain": [
       "<Figure size 288x288 with 2 Axes>"
      ]
     },
     "metadata": {
      "needs_background": "light"
     },
     "output_type": "display_data"
    }
   ],
   "source": [
    "for gene in genes:\n",
    "    row = df.loc[df.structure==gene].iloc[0]\n",
    "    if row.structure in genes:\n",
    "        rep = device.read_agg_parameterized_intensity(row)[0]\n",
    "        \n",
    "        fig, ax = plt.subplots(1,1)\n",
    "        ax.imshow(rep[:,::20], cmap=\"inferno\", vmin=0, vmax=20, origin=\"lower\")\n",
    "        ax.axis(\"off\")\n",
    "        plt.tight_layout()\n",
    "        fname = f\"FigureMorphing1_{gene}_rep_avg.png\"\n",
    "        plt.savefig(fname, dpi=150)\n",
    "        plt.show()\n",
    "        \n",
    "        fig, axs = plt.subplots(1,2, figsize=(4,4))\n",
    "        axs[0].imshow(rep[:,500:600], cmap=\"inferno\", vmin=0, vmax=20, origin=\"lower\")\n",
    "        axs[1].imshow(rep[:,6500:6600], cmap=\"inferno\", vmin=0, vmax=20, origin=\"lower\")\n",
    "        [ax.axis(\"off\") for ax in axs]\n",
    "        plt.tight_layout()\n",
    "        fname = f\"FigureMorphing1_{gene}_rep_avg_parts.png\"\n",
    "        plt.savefig(fname, dpi=150)\n",
    "        plt.show()"
   ]
  },
  {
   "cell_type": "code",
   "execution_count": 16,
   "id": "b57b13e1",
   "metadata": {},
   "outputs": [],
   "source": [
    "with open(\"../MovieALPBaseline/contrast_V3_90OnValids.json\", \"r\") as fj:\n",
    "    contrast = json.load(fj)[\"contrast\"]"
   ]
  },
  {
   "cell_type": "code",
   "execution_count": 20,
   "id": "2c6a228b",
   "metadata": {},
   "outputs": [
    {
     "data": {
      "text/plain": [
       "{'z': [0, 4.031620502471924], 'y': [0, 17.91127586364746]}"
      ]
     },
     "execution_count": 20,
     "metadata": {},
     "output_type": "execute_result"
    }
   ],
   "source": [
    "contrast[\"ST6GAL1\"]"
   ]
  },
  {
   "cell_type": "code",
   "execution_count": 21,
   "id": "68cdcb7a",
   "metadata": {
    "scrolled": false
   },
   "outputs": [
    {
     "data": {
      "image/png": "[encoded data removed]",
      "text/plain": [
       "<Figure size 144x144 with 1 Axes>"
      ]
     },
     "metadata": {
      "needs_background": "light"
     },
     "output_type": "display_data"
    },
    {
     "data": {
      "image/png": "[encoded data removed]",
      "text/plain": [
       "<Figure size 144x144 with 1 Axes>"
      ]
     },
     "metadata": {
      "needs_background": "light"
     },
     "output_type": "display_data"
    },
    {
     "data": {
      "image/png": "[encoded data removed]",
      "text/plain": [
       "<Figure size 144x144 with 1 Axes>"
      ]
     },
     "metadata": {
      "needs_background": "light"
     },
     "output_type": "display_data"
    },
    {
     "data": {
      "image/png": "[encoded data removed]",
      "text/plain": [
       "<Figure size 144x144 with 1 Axes>"
      ]
     },
     "metadata": {
      "needs_background": "light"
     },
     "output_type": "display_data"
    },
    {
     "data": {
      "image/png": "[encoded data removed]",
      "text/plain": [
       "<Figure size 144x144 with 1 Axes>"
      ]
     },
     "metadata": {
      "needs_background": "light"
     },
     "output_type": "display_data"
    },
    {
     "data": {
      "image/png": "[encoded data removed]",
      "text/plain": [
       "<Figure size 144x144 with 1 Axes>"
      ]
     },
     "metadata": {
      "needs_background": "light"
     },
     "output_type": "display_data"
    },
    {
     "name": "stdout",
     "output_type": "stream",
     "text": [
      "ST6GAL1 0 17.91127586364746\n"
     ]
    }
   ],
   "source": [
    "mode = {\n",
    "    \"nuc\": \"center_nuc\",\n",
    "    \"mem\": \"center_nuc\",\n",
    "    \"gfp\": \"center_nuc\"\n",
    "}\n",
    "orients = [\"z\", \"y\"]\n",
    "for gene, instance in data.items():\n",
    "    for ax in orients:\n",
    "        proj = common.Projector(instance)\n",
    "        proj.set_projection_mode(ax=ax, mode=mode)\n",
    "        proj.set_vmin_vmax_gfp_values(vmin=0, vmax=np.max([contrast[gene][ax][1] for ax in orients]))\n",
    "        proj.project(save=f\"FigureMorphing1_{gene}_avg_{ax}\")\n",
    "    print(gene, proj.gfp_vmin, proj.gfp_vmax)"
   ]
  },
  {
   "cell_type": "code",
   "execution_count": null,
   "id": "41018e6e",
   "metadata": {},
   "outputs": [],
   "source": [
    "df = device.load_step_manifest(\"preprocessing\")\n",
    "print(df.shape)"
   ]
  },
  {
   "cell_type": "code",
   "execution_count": null,
   "id": "64e7540a",
   "metadata": {},
   "outputs": [],
   "source": [
    "space = shapespace.ShapeSpace(control)\n",
    "space.execute(df)\n",
    "df_sphere, df_dist = space.get_cells_inside_ndsphere_of_radius(return_dist=True)\n",
    "df_sphere.head()"
   ]
  },
  {
   "cell_type": "code",
   "execution_count": null,
   "id": "89cfabff",
   "metadata": {},
   "outputs": [],
   "source": [
    "df_dist.head()"
   ]
  },
  {
   "cell_type": "code",
   "execution_count": null,
   "id": "55d90664",
   "metadata": {},
   "outputs": [],
   "source": [
    "not_ideal_ids = []"
   ]
  },
  {
   "cell_type": "code",
   "execution_count": null,
   "id": "fc4bf504",
   "metadata": {},
   "outputs": [],
   "source": [
    "data = {}\n",
    "for gene in genes:\n",
    "    \n",
    "    CellIds = df_sphere.loc[df_sphere.structure==gene, \"CellIds\"].values[0]\n",
    "    # Sort CellIds by distance from origin\n",
    "    CellIds = df_dist.loc[CellIds].sort_values(\"Distance\").index.values\n",
    "    CellIds = [c for c in CellIds if c not in not_ideal_ids][:3]\n",
    "    print(gene, CellIds)\n",
    "    \n",
    "    producers = []\n",
    "    for CellId in tqdm(CellIds, leave=False, desc=gene):\n",
    "        row = df.loc[CellId]\n",
    "        producer = io.DataProducer(control)\n",
    "        producer.set_row(row)\n",
    "        producer.load_single_cell_data()\n",
    "        producer.align_data()\n",
    "        producers.append(producer)\n",
    "    data[gene] = [p.data_aligned[[3, 5, 7]] for p in producers]"
   ]
  },
  {
   "cell_type": "code",
   "execution_count": null,
   "id": "826ed522",
   "metadata": {
    "scrolled": true
   },
   "outputs": [],
   "source": [
    "mode = {\n",
    "    \"nuc\": \"max\",\n",
    "    \"mem\": \"max\",\n",
    "    \"gfp\": \"mean\"\n",
    "}\n",
    "for gene, instances in data.items():\n",
    "    for iid, instance in enumerate(instances):\n",
    "        for ax in [\"z\", \"y\"]:\n",
    "            proj = common.Projector(instance)\n",
    "            proj.set_projection_mode(ax=ax, mode=mode)\n",
    "            proj.set_gfp_percentiles([0, 99], local=True)\n",
    "            proj.set_gfp_colormap(\"binary\")\n",
    "            proj.project(save=f\"FigureMorphing1_{gene}_{iid:02d}_{ax}\")"
   ]
  },
  {
   "cell_type": "code",
   "execution_count": null,
   "id": "3ebb768a",
   "metadata": {},
   "outputs": [],
   "source": [
    "!pwd"
   ]
  },
  {
   "cell_type": "code",
   "execution_count": null,
   "id": "99cb1e2f",
   "metadata": {},
   "outputs": [],
   "source": []
  }
 ],
 "metadata": {
  "kernelspec": {
   "display_name": "Python 3 (ipykernel)",
   "language": "python",
   "name": "python3"
  },
  "language_info": {
   "codemirror_mode": {
    "name": "ipython",
    "version": 3
   },
   "file_extension": ".py",
   "mimetype": "text/x-python",
   "name": "python",
   "nbconvert_exporter": "python",
   "pygments_lexer": "ipython3",
   "version": "3.8.12"
  }
 },
 "nbformat": 4,
 "nbformat_minor": 5
}
