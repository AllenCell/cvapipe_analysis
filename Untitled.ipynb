{
 "cells": [
  {
   "cell_type": "code",
   "execution_count": 1,
   "id": "35c94243-70f0-49d0-935b-a34caeb0aa8f",
   "metadata": {},
   "outputs": [],
   "source": [
    "import importlib\n",
    "import pandas as pd\n",
    "from cvapipe_analysis.tools import controller, shapespace\n",
    "from cvapipe_analysis.steps.shapemode import shapemode_tools"
   ]
  },
  {
   "cell_type": "code",
   "execution_count": 2,
   "id": "cde75ba1-08ad-4c2c-a851-d721c82e329c",
   "metadata": {},
   "outputs": [
    {
     "name": "stdout",
     "output_type": "stream",
     "text": [
      "(181847, 606)\n"
     ]
    }
   ],
   "source": [
    "df = pd.read_csv(\"/allen/programs/allencell/data/proj0/c66/a81/b3e/89e/f5f/37b/347/d1f/aea/3d5/c4/manifest.csv\", index_col=\"CellId\") #BabyBear\n",
    "print(df.shape)"
   ]
  },
  {
   "cell_type": "code",
   "execution_count": 3,
   "id": "edacee2f-93a3-474a-855e-2ba8b89496f4",
   "metadata": {},
   "outputs": [
    {
     "name": "stdout",
     "output_type": "stream",
     "text": [
      "(181816, 606)\n"
     ]
    }
   ],
   "source": [
    "df = df.dropna(subset=[f for f in df.columns if \"shcoeffs\" in f])\n",
    "print(df.shape)"
   ]
  },
  {
   "cell_type": "code",
   "execution_count": 4,
   "id": "618cf40c-d042-4acb-881d-d7644a2db0c9",
   "metadata": {},
   "outputs": [
    {
     "data": {
      "text/plain": [
       "<module 'cvapipe_analysis.steps.shapemode.shapemode_tools' from '/allen/aics/assay-dev/MicroscopyOtherData/Viana/projects/refactor/cvapipe_analysis/cvapipe_analysis/steps/shapemode/shapemode_tools.py'>"
      ]
     },
     "execution_count": 4,
     "metadata": {},
     "output_type": "execute_result"
    }
   ],
   "source": [
    "importlib.reload(controller)\n",
    "importlib.reload(shapespace)\n",
    "importlib.reload(shapemode_tools)"
   ]
  },
  {
   "cell_type": "code",
   "execution_count": 5,
   "id": "18953af4-f93d-41f2-9f3c-039aa0748df0",
   "metadata": {},
   "outputs": [],
   "source": [
    "control = controller.GenericController()\n",
    "control.set_output_folder(\"/allen/aics/assay-dev/MicroscopyOtherData/Viana/projects/refactor/\")\n",
    "# space = shapespace.ShapeSpace(control)"
   ]
  },
  {
   "cell_type": "code",
   "execution_count": 6,
   "id": "bd803775-c330-4b6d-baee-3b01077c0441",
   "metadata": {},
   "outputs": [],
   "source": [
    "# space.execute(df)"
   ]
  },
  {
   "cell_type": "code",
   "execution_count": 7,
   "id": "4e47caad-91d2-4a6c-85e2-c6972e3439bb",
   "metadata": {},
   "outputs": [],
   "source": [
    "sm = shapemode_tools.ShapeModeCalculator(control)\n",
    "sm.use_vtk_for_intersection(False)\n",
    "sm.verbose_mode(True)\n",
    "sm.set_data(df)"
   ]
  },
  {
   "cell_type": "code",
   "execution_count": null,
   "id": "37a3c9a7-b5ef-4b92-816a-a1dd6f33c9ac",
   "metadata": {},
   "outputs": [
    {
     "name": "stdout",
     "output_type": "stream",
     "text": [
      "Creating shape space...\n",
      "Failed sorting PCA axes: 'NUC_shape_volume'. Skipping this step.\n",
      "Shape space computed.\n",
      "Failed while saving summary: 'GenericController' object has no attribute 'get_variables_values_for_aggregation'. Skipping this step.\n",
      "Making initial plots...\n",
      "/allen/aics/assay-dev/MicroscopyOtherData/Viana/projects/refactor/shapemode/pca/feature_importance.txt\n",
      "Getting SHE for shape modes...\n",
      "Correcting alias location based on reference...\n",
      "Generating 3D meshes. This might take some time...\n"
     ]
    }
   ],
   "source": [
    "sm.workflow()"
   ]
  },
  {
   "cell_type": "code",
   "execution_count": null,
   "id": "583ecd74-db5f-47a1-a9b9-61121fae9fae",
   "metadata": {},
   "outputs": [],
   "source": []
  }
 ],
 "metadata": {
  "kernelspec": {
   "display_name": "Python 3 (ipykernel)",
   "language": "python",
   "name": "python3"
  },
  "language_info": {
   "codemirror_mode": {
    "name": "ipython",
    "version": 3
   },
   "file_extension": ".py",
   "mimetype": "text/x-python",
   "name": "python",
   "nbconvert_exporter": "python",
   "pygments_lexer": "ipython3",
   "version": "3.11.8"
  }
 },
 "nbformat": 4,
 "nbformat_minor": 5
}
